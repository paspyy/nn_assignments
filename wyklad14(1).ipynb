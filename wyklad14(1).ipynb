{
 "cells": [
  {
   "cell_type": "code",
   "execution_count": 1,
   "metadata": {
    "collapsed": false
   },
   "outputs": [
    {
     "name": "stdout",
     "output_type": "stream",
     "text": [
      "Populating the interactive namespace from numpy and matplotlib\n"
     ]
    }
   ],
   "source": [
    "%pylab --no-import-all inline"
   ]
  },
  {
   "cell_type": "code",
   "execution_count": 2,
   "metadata": {
    "collapsed": true
   },
   "outputs": [],
   "source": [
    "import numpy as np\n",
    "import matplotlib.pyplot as plt"
   ]
  },
  {
   "cell_type": "code",
   "execution_count": 3,
   "metadata": {
    "collapsed": true
   },
   "outputs": [],
   "source": [
    "import sys"
   ]
  },
  {
   "cell_type": "code",
   "execution_count": 4,
   "metadata": {
    "collapsed": false
   },
   "outputs": [],
   "source": [
    "#\n",
    "# Poniższy kod dedykuje twórcom Windowsa (https://github.com/erocarrera/pydot/issues/91)\n",
    "#\n",
    "if sys.platform == 'win32':\n",
    "    print \"Monkey-patching pydot\"\n",
    "    import pydot\n",
    "\n",
    "    def force_find_graphviz(graphviz_root):\n",
    "       binpath = os.path.join(graphviz_root, 'bin')\n",
    "       programs = 'dot twopi neato circo fdp sfdp'\n",
    "       def helper():\n",
    "         for prg in programs.split():\n",
    "           if os.path.exists(os.path.join(binpath, prg)):\n",
    "             yield ((prg, os.path.join(binpath, prg)))\n",
    "           elif os.path.exists(os.path.join(binpath, prg+'.exe')):\n",
    "             yield ((prg, os.path.join(binpath, prg+'.exe')))\n",
    "       progdict = dict(helper())\n",
    "       return lambda: progdict\n",
    "\n",
    "    pydot.find_graphviz = force_find_graphviz('c:/Program Files (x86)/Graphviz2.34/')"
   ]
  },
  {
   "cell_type": "code",
   "execution_count": 5,
   "metadata": {
    "collapsed": false
   },
   "outputs": [
    {
     "name": "stdout",
     "output_type": "stream",
     "text": [
      "Couldn't import dot_parser, loading of dot files will not be possible.\n"
     ]
    },
    {
     "name": "stderr",
     "output_type": "stream",
     "text": [
      "Using gpu device 0: GeForce GTX 780\n"
     ]
    }
   ],
   "source": [
    "import theano\n",
    "import theano.tensor as TT\n",
    "import theano.printing as TP"
   ]
  },
  {
   "cell_type": "code",
   "execution_count": 6,
   "metadata": {
    "collapsed": true
   },
   "outputs": [],
   "source": [
    "from IPython.display import SVG\n",
    "def svgdotprint(g):\n",
    "    return SVG(theano.printing.pydotprint(g, return_image=True, format='svg'))"
   ]
  },
  {
   "cell_type": "markdown",
   "metadata": {},
   "source": [
    "## Co robi Theano?\n",
    "\n",
    "W Theano definiujemy *zmienne **symboliczne*** które łączymy za pomocą wyrazeń arytmetycznych w *graf obliczeń*. Grafy możemy przekształcać (np. różniczkować) i kompilować."
   ]
  },
  {
   "cell_type": "code",
   "execution_count": 7,
   "metadata": {
    "collapsed": true
   },
   "outputs": [],
   "source": [
    "#Operacje na skalarach\n",
    "\n",
    "x = TT.scalar('X')\n",
    "y = TT.scalar('y')\n",
    "z = x + y"
   ]
  },
  {
   "cell_type": "code",
   "execution_count": 9,
   "metadata": {
    "collapsed": false
   },
   "outputs": [
    {
     "data": {
      "text/plain": [
       "X:TensorType(float32, scalar)"
      ]
     },
     "execution_count": 9,
     "metadata": {},
     "output_type": "execute_result"
    }
   ],
   "source": [
    "# x reprezenuje liczbę w grafie obliczeń. Sam z siebie nie posiada wartości.\n",
    "\n",
    "x"
   ]
  },
  {
   "cell_type": "code",
   "execution_count": 10,
   "metadata": {
    "collapsed": false
   },
   "outputs": [
    {
     "data": {
      "text/plain": [
       "theano.tensor.var.TensorVariable"
      ]
     },
     "execution_count": 10,
     "metadata": {},
     "output_type": "execute_result"
    }
   ],
   "source": [
    "type(x)"
   ]
  },
  {
   "cell_type": "code",
   "execution_count": 11,
   "metadata": {
    "collapsed": false
   },
   "outputs": [
    {
     "data": {
      "text/plain": [
       "Elemwise{add,no_inplace}.0:TensorType(float32, scalar)"
      ]
     },
     "execution_count": 11,
     "metadata": {},
     "output_type": "execute_result"
    }
   ],
   "source": [
    "# z jest grafem obliczeń (technicznie dla Theano wciąż jest zmienną symboliczną)\n",
    "\n",
    "z"
   ]
  },
  {
   "cell_type": "code",
   "execution_count": 12,
   "metadata": {
    "collapsed": false
   },
   "outputs": [
    {
     "data": {
      "text/plain": [
       "theano.tensor.var.TensorVariable"
      ]
     },
     "execution_count": 12,
     "metadata": {},
     "output_type": "execute_result"
    }
   ],
   "source": [
    "type(z)"
   ]
  },
  {
   "cell_type": "code",
   "execution_count": 13,
   "metadata": {
    "collapsed": false,
    "scrolled": true
   },
   "outputs": [
    {
     "data": {
      "image/svg+xml": [
       "<svg height=\"220pt\" viewBox=\"0.00 0.00 508.00 220.00\" width=\"508pt\" xmlns=\"http://www.w3.org/2000/svg\" xmlns:xlink=\"http://www.w3.org/1999/xlink\">\n",
       "<g class=\"graph\" id=\"graph0\" transform=\"scale(1 1) rotate(0) translate(4 216)\">\n",
       "<title>G</title>\n",
       "<polygon fill=\"white\" points=\"-4,4 -4,-216 504,-216 504,4 -4,4\" stroke=\"none\"/>\n",
       "<!-- Elemwise{add,no_inplace} -->\n",
       "<g class=\"node\" id=\"node1\"><title>Elemwise{add,no_inplace}</title>\n",
       "<ellipse cx=\"228\" cy=\"-106\" fill=\"#ffaabb\" rx=\"108.31\" ry=\"18\" stroke=\"black\"/>\n",
       "<text font-family=\"Times,serif\" font-size=\"14.00\" text-anchor=\"middle\" x=\"228\" y=\"-102.3\">Elemwise{add,no_inplace}</text>\n",
       "</g>\n",
       "<!-- TensorType(float32, scalar) -->\n",
       "<g class=\"node\" id=\"node4\"><title>TensorType(float32, scalar)</title>\n",
       "<polygon fill=\"blue\" points=\"311.5,-36 144.5,-36 144.5,-0 311.5,-0 311.5,-36\" stroke=\"black\"/>\n",
       "<text font-family=\"Times,serif\" font-size=\"14.00\" text-anchor=\"middle\" x=\"228\" y=\"-14.3\">TensorType(float32, scalar)</text>\n",
       "</g>\n",
       "<!-- Elemwise{add,no_inplace}&#45;&gt;TensorType(float32, scalar) -->\n",
       "<g class=\"edge\" id=\"edge3\"><title>Elemwise{add,no_inplace}-&gt;TensorType(float32, scalar)</title>\n",
       "<path d=\"M228,-87.5966C228,-75.7459 228,-59.8169 228,-46.2917\" fill=\"none\" stroke=\"black\"/>\n",
       "<polygon fill=\"black\" points=\"231.5,-46.084 228,-36.084 224.5,-46.084 231.5,-46.084\" stroke=\"black\"/>\n",
       "<text font-family=\"Times,serif\" font-size=\"14.00\" text-anchor=\"middle\" x=\"304\" y=\"-58.3\">TensorType(float32, scalar)</text>\n",
       "</g>\n",
       "<!-- name=X TensorType(float32, scalar) -->\n",
       "<g class=\"node\" id=\"node2\"><title>name=X TensorType(float32, scalar)</title>\n",
       "<polygon fill=\"green\" points=\"220,-212 0,-212 0,-176 220,-176 220,-212\" stroke=\"black\"/>\n",
       "<text font-family=\"Times,serif\" font-size=\"14.00\" text-anchor=\"middle\" x=\"110\" y=\"-190.3\">name=X TensorType(float32, scalar)</text>\n",
       "</g>\n",
       "<!-- name=X TensorType(float32, scalar)&#45;&gt;Elemwise{add,no_inplace} -->\n",
       "<g class=\"edge\" id=\"edge1\"><title>name=X TensorType(float32, scalar)-&gt;Elemwise{add,no_inplace}</title>\n",
       "<path d=\"M125.3,-175.632C135.125,-165.107 148.529,-151.856 162,-142 168.846,-136.991 176.503,-132.257 184.108,-127.984\" fill=\"none\" stroke=\"black\"/>\n",
       "<polygon fill=\"black\" points=\"185.833,-131.03 192.961,-123.191 182.501,-124.874 185.833,-131.03\" stroke=\"black\"/>\n",
       "<text font-family=\"Times,serif\" font-size=\"14.00\" text-anchor=\"middle\" x=\"243.5\" y=\"-146.3\">0 TensorType(float32, scalar)</text>\n",
       "</g>\n",
       "<!-- name=y TensorType(float32, scalar) -->\n",
       "<g class=\"node\" id=\"node3\"><title>name=y TensorType(float32, scalar)</title>\n",
       "<polygon fill=\"green\" points=\"455.25,-212 238.75,-212 238.75,-176 455.25,-176 455.25,-212\" stroke=\"black\"/>\n",
       "<text font-family=\"Times,serif\" font-size=\"14.00\" text-anchor=\"middle\" x=\"347\" y=\"-190.3\">name=y TensorType(float32, scalar)</text>\n",
       "</g>\n",
       "<!-- name=y TensorType(float32, scalar)&#45;&gt;Elemwise{add,no_inplace} -->\n",
       "<g class=\"edge\" id=\"edge2\"><title>name=y TensorType(float32, scalar)-&gt;Elemwise{add,no_inplace}</title>\n",
       "<path d=\"M343.326,-175.811C340.164,-164.818 334.552,-150.986 325,-142 317.616,-135.053 308.754,-129.468 299.427,-124.98\" fill=\"none\" stroke=\"black\"/>\n",
       "<polygon fill=\"black\" points=\"300.548,-121.65 289.983,-120.849 297.742,-128.064 300.548,-121.65\" stroke=\"black\"/>\n",
       "<text font-family=\"Times,serif\" font-size=\"14.00\" text-anchor=\"middle\" x=\"418.5\" y=\"-146.3\">1 TensorType(float32, scalar)</text>\n",
       "</g>\n",
       "</g>\n",
       "</svg>"
      ],
      "text/plain": [
       "<IPython.core.display.SVG object>"
      ]
     },
     "execution_count": 13,
     "metadata": {},
     "output_type": "execute_result"
    }
   ],
   "source": [
    "svgdotprint(z)"
   ]
  },
  {
   "cell_type": "code",
   "execution_count": 13,
   "metadata": {
    "collapsed": false
   },
   "outputs": [
    {
     "name": "stdout",
     "output_type": "stream",
     "text": [
      "/tmp/jch/theano.NOBACKUP\n"
     ]
    }
   ],
   "source": [
    "print theano.config.base_compiledir"
   ]
  },
  {
   "cell_type": "code",
   "execution_count": 14,
   "metadata": {
    "collapsed": false
   },
   "outputs": [],
   "source": [
    "# Kompilacja grafu z do funkcji\n",
    "\n",
    "f_z = theano.function([x,y],z)"
   ]
  },
  {
   "cell_type": "code",
   "execution_count": 15,
   "metadata": {
    "collapsed": false
   },
   "outputs": [
    {
     "data": {
      "text/plain": [
       "5.0"
      ]
     },
     "execution_count": 15,
     "metadata": {},
     "output_type": "execute_result"
    }
   ],
   "source": [
    "f_z(1.0,4.0)"
   ]
  },
  {
   "cell_type": "markdown",
   "metadata": {},
   "source": [
    "Co się właśnie wydarzyło? \n",
    "\n",
    "Theano wzięło graf definijący `z`, uruchomiło optymalizację i utworzyło funkcję obliczającą wartość `z`. Do funkcji został wygenerowany kod w C.\n"
   ]
  },
  {
   "cell_type": "code",
   "execution_count": 16,
   "metadata": {
    "collapsed": false
   },
   "outputs": [
    {
     "data": {
      "image/svg+xml": [
       "<svg height=\"396pt\" viewBox=\"0.00 0.00 532.00 396.00\" width=\"532pt\" xmlns=\"http://www.w3.org/2000/svg\" xmlns:xlink=\"http://www.w3.org/1999/xlink\">\n",
       "<g class=\"graph\" id=\"graph0\" transform=\"scale(1 1) rotate(0) translate(4 392)\">\n",
       "<title>G</title>\n",
       "<polygon fill=\"white\" points=\"-4,4 -4,-392 528,-392 528,4 -4,4\" stroke=\"none\"/>\n",
       "<!-- GpuFromHost -->\n",
       "<g class=\"node\" id=\"node1\"><title>GpuFromHost</title>\n",
       "<ellipse cx=\"339\" cy=\"-282\" fill=\"red\" rx=\"61.6163\" ry=\"18\" stroke=\"black\"/>\n",
       "<text font-family=\"Times,serif\" font-size=\"14.00\" text-anchor=\"middle\" x=\"339\" y=\"-278.3\">GpuFromHost</text>\n",
       "</g>\n",
       "<!-- GpuElemwise{Add}[(0, 0)] -->\n",
       "<g class=\"node\" id=\"node5\"><title>GpuElemwise{Add}[(0, 0)]</title>\n",
       "<ellipse cx=\"224\" cy=\"-194\" fill=\"#ffaabb\" rx=\"110.235\" ry=\"18\" stroke=\"black\"/>\n",
       "<text font-family=\"Times,serif\" font-size=\"14.00\" text-anchor=\"middle\" x=\"224\" y=\"-190.3\">GpuElemwise{Add}[(0, 0)]</text>\n",
       "</g>\n",
       "<!-- GpuFromHost&#45;&gt;GpuElemwise{Add}[(0, 0)] -->\n",
       "<g class=\"edge\" id=\"edge4\"><title>GpuFromHost-&gt;GpuElemwise{Add}[(0, 0)]</title>\n",
       "<path d=\"M333.815,-263.875C329.721,-252.91 323.009,-239.084 313,-230 305.883,-223.54 297.433,-218.212 288.618,-213.834\" fill=\"none\" stroke=\"black\"/>\n",
       "<polygon fill=\"black\" points=\"289.891,-210.568 279.339,-209.609 286.989,-216.939 289.891,-210.568\" stroke=\"black\"/>\n",
       "<text font-family=\"Times,serif\" font-size=\"14.00\" text-anchor=\"middle\" x=\"425\" y=\"-234.3\">1 CudaNdarrayType(float32, scalar)</text>\n",
       "</g>\n",
       "<!-- name=y TensorType(float32, scalar) -->\n",
       "<g class=\"node\" id=\"node2\"><title>name=y TensorType(float32, scalar)</title>\n",
       "<polygon fill=\"green\" points=\"455.25,-388 238.75,-388 238.75,-352 455.25,-352 455.25,-388\" stroke=\"black\"/>\n",
       "<text font-family=\"Times,serif\" font-size=\"14.00\" text-anchor=\"middle\" x=\"347\" y=\"-366.3\">name=y TensorType(float32, scalar)</text>\n",
       "</g>\n",
       "<!-- name=y TensorType(float32, scalar)&#45;&gt;GpuFromHost -->\n",
       "<g class=\"edge\" id=\"edge1\"><title>name=y TensorType(float32, scalar)-&gt;GpuFromHost</title>\n",
       "<path d=\"M345.381,-351.597C344.279,-339.746 342.797,-323.817 341.539,-310.292\" fill=\"none\" stroke=\"black\"/>\n",
       "<polygon fill=\"black\" points=\"345,-309.717 340.589,-300.084 338.031,-310.365 345,-309.717\" stroke=\"black\"/>\n",
       "<text font-family=\"Times,serif\" font-size=\"14.00\" text-anchor=\"middle\" x=\"420\" y=\"-322.3\">TensorType(float32, scalar)</text>\n",
       "</g>\n",
       "<!-- GpuFromHost id=1 -->\n",
       "<g class=\"node\" id=\"node3\"><title>GpuFromHost id=1</title>\n",
       "<ellipse cx=\"111\" cy=\"-282\" fill=\"red\" rx=\"81.3646\" ry=\"18\" stroke=\"black\"/>\n",
       "<text font-family=\"Times,serif\" font-size=\"14.00\" text-anchor=\"middle\" x=\"111\" y=\"-278.3\">GpuFromHost id=1</text>\n",
       "</g>\n",
       "<!-- GpuFromHost id=1&#45;&gt;GpuElemwise{Add}[(0, 0)] -->\n",
       "<g class=\"edge\" id=\"edge3\"><title>GpuFromHost id=1-&gt;GpuElemwise{Add}[(0, 0)]</title>\n",
       "<path d=\"M107.829,-263.651C106.867,-252.87 107.617,-239.334 115,-230 121.196,-222.167 129.159,-216.06 137.957,-211.304\" fill=\"none\" stroke=\"red\"/>\n",
       "<polygon fill=\"red\" points=\"139.484,-214.453 146.998,-206.984 136.466,-208.137 139.484,-214.453\" stroke=\"red\"/>\n",
       "<text font-family=\"Times,serif\" font-size=\"14.00\" text-anchor=\"middle\" x=\"214\" y=\"-234.3\">0 CudaNdarrayType(float32, scalar)</text>\n",
       "</g>\n",
       "<!-- name=X TensorType(float32, scalar) -->\n",
       "<g class=\"node\" id=\"node4\"><title>name=X TensorType(float32, scalar)</title>\n",
       "<polygon fill=\"green\" points=\"220,-388 0,-388 0,-352 220,-352 220,-388\" stroke=\"black\"/>\n",
       "<text font-family=\"Times,serif\" font-size=\"14.00\" text-anchor=\"middle\" x=\"110\" y=\"-366.3\">name=X TensorType(float32, scalar)</text>\n",
       "</g>\n",
       "<!-- name=X TensorType(float32, scalar)&#45;&gt;GpuFromHost id=1 -->\n",
       "<g class=\"edge\" id=\"edge2\"><title>name=X TensorType(float32, scalar)-&gt;GpuFromHost id=1</title>\n",
       "<path d=\"M110.202,-351.597C110.34,-339.746 110.525,-323.817 110.683,-310.292\" fill=\"none\" stroke=\"black\"/>\n",
       "<polygon fill=\"black\" points=\"114.185,-310.124 110.801,-300.084 107.185,-310.043 114.185,-310.124\" stroke=\"black\"/>\n",
       "<text font-family=\"Times,serif\" font-size=\"14.00\" text-anchor=\"middle\" x=\"187\" y=\"-322.3\">TensorType(float32, scalar)</text>\n",
       "</g>\n",
       "<!-- HostFromGpu -->\n",
       "<g class=\"node\" id=\"node6\"><title>HostFromGpu</title>\n",
       "<ellipse cx=\"224\" cy=\"-106\" fill=\"red\" rx=\"61.6163\" ry=\"18\" stroke=\"black\"/>\n",
       "<text font-family=\"Times,serif\" font-size=\"14.00\" text-anchor=\"middle\" x=\"224\" y=\"-102.3\">HostFromGpu</text>\n",
       "</g>\n",
       "<!-- GpuElemwise{Add}[(0, 0)]&#45;&gt;HostFromGpu -->\n",
       "<g class=\"edge\" id=\"edge5\"><title>GpuElemwise{Add}[(0, 0)]-&gt;HostFromGpu</title>\n",
       "<path d=\"M224,-175.597C224,-163.746 224,-147.817 224,-134.292\" fill=\"none\" stroke=\"black\"/>\n",
       "<polygon fill=\"black\" points=\"227.5,-134.084 224,-124.084 220.5,-134.084 227.5,-134.084\" stroke=\"black\"/>\n",
       "<text font-family=\"Times,serif\" font-size=\"14.00\" text-anchor=\"middle\" x=\"317.5\" y=\"-146.3\">CudaNdarrayType(float32, scalar)</text>\n",
       "</g>\n",
       "<!-- TensorType(float32, scalar) -->\n",
       "<g class=\"node\" id=\"node7\"><title>TensorType(float32, scalar)</title>\n",
       "<polygon fill=\"blue\" points=\"307.5,-36 140.5,-36 140.5,-0 307.5,-0 307.5,-36\" stroke=\"black\"/>\n",
       "<text font-family=\"Times,serif\" font-size=\"14.00\" text-anchor=\"middle\" x=\"224\" y=\"-14.3\">TensorType(float32, scalar)</text>\n",
       "</g>\n",
       "<!-- HostFromGpu&#45;&gt;TensorType(float32, scalar) -->\n",
       "<g class=\"edge\" id=\"edge6\"><title>HostFromGpu-&gt;TensorType(float32, scalar)</title>\n",
       "<path d=\"M224,-87.5966C224,-75.7459 224,-59.8169 224,-46.2917\" fill=\"none\" stroke=\"black\"/>\n",
       "<polygon fill=\"black\" points=\"227.5,-46.084 224,-36.084 220.5,-46.084 227.5,-46.084\" stroke=\"black\"/>\n",
       "<text font-family=\"Times,serif\" font-size=\"14.00\" text-anchor=\"middle\" x=\"300\" y=\"-58.3\">TensorType(float32, scalar)</text>\n",
       "</g>\n",
       "</g>\n",
       "</svg>"
      ],
      "text/plain": [
       "<IPython.core.display.SVG object>"
      ]
     },
     "execution_count": 16,
     "metadata": {},
     "output_type": "execute_result"
    }
   ],
   "source": [
    "svgdotprint(f_z.maker.fgraph.outputs[0])"
   ]
  },
  {
   "cell_type": "code",
   "execution_count": 23,
   "metadata": {
    "collapsed": true
   },
   "outputs": [],
   "source": [
    "# macierze delkarujemy analogicznie do skalarów\n",
    "\n",
    "x = TT.matrix('x')\n",
    "y = TT.matrix('y')\n",
    "z = x.dot(y)"
   ]
  },
  {
   "cell_type": "code",
   "execution_count": 24,
   "metadata": {
    "collapsed": false
   },
   "outputs": [
    {
     "data": {
      "image/svg+xml": [
       "<svg height=\"220pt\" viewBox=\"0.00 0.00 514.00 220.00\" width=\"514pt\" xmlns=\"http://www.w3.org/2000/svg\" xmlns:xlink=\"http://www.w3.org/1999/xlink\">\n",
       "<g class=\"graph\" id=\"graph0\" transform=\"scale(1 1) rotate(0) translate(4 216)\">\n",
       "<title>G</title>\n",
       "<polygon fill=\"white\" points=\"-4,4 -4,-216 510,-216 510,4 -4,4\" stroke=\"none\"/>\n",
       "<!-- dot -->\n",
       "<g class=\"node\" id=\"node1\"><title>dot</title>\n",
       "<ellipse cx=\"229\" cy=\"-106\" fill=\"none\" rx=\"27\" ry=\"18\" stroke=\"black\"/>\n",
       "<text font-family=\"Times,serif\" font-size=\"14.00\" text-anchor=\"middle\" x=\"229\" y=\"-102.3\">dot</text>\n",
       "</g>\n",
       "<!-- TensorType(float32, matrix) -->\n",
       "<g class=\"node\" id=\"node4\"><title>TensorType(float32, matrix)</title>\n",
       "<polygon fill=\"blue\" points=\"315.25,-36 142.75,-36 142.75,-0 315.25,-0 315.25,-36\" stroke=\"black\"/>\n",
       "<text font-family=\"Times,serif\" font-size=\"14.00\" text-anchor=\"middle\" x=\"229\" y=\"-14.3\">TensorType(float32, matrix)</text>\n",
       "</g>\n",
       "<!-- dot&#45;&gt;TensorType(float32, matrix) -->\n",
       "<g class=\"edge\" id=\"edge3\"><title>dot-&gt;TensorType(float32, matrix)</title>\n",
       "<path d=\"M229,-87.5966C229,-75.7459 229,-59.8169 229,-46.2917\" fill=\"none\" stroke=\"black\"/>\n",
       "<polygon fill=\"black\" points=\"232.5,-46.084 229,-36.084 225.5,-46.084 232.5,-46.084\" stroke=\"black\"/>\n",
       "<text font-family=\"Times,serif\" font-size=\"14.00\" text-anchor=\"middle\" x=\"307.5\" y=\"-58.3\">TensorType(float32, matrix)</text>\n",
       "</g>\n",
       "<!-- name=x TensorType(float32, matrix) -->\n",
       "<g class=\"node\" id=\"node2\"><title>name=x TensorType(float32, matrix)</title>\n",
       "<polygon fill=\"green\" points=\"220.25,-212 -0.25,-212 -0.25,-176 220.25,-176 220.25,-212\" stroke=\"black\"/>\n",
       "<text font-family=\"Times,serif\" font-size=\"14.00\" text-anchor=\"middle\" x=\"110\" y=\"-190.3\">name=x TensorType(float32, matrix)</text>\n",
       "</g>\n",
       "<!-- name=x TensorType(float32, matrix)&#45;&gt;dot -->\n",
       "<g class=\"edge\" id=\"edge1\"><title>name=x TensorType(float32, matrix)-&gt;dot</title>\n",
       "<path d=\"M124.112,-175.983C133.526,-165.334 146.597,-151.821 160,-142 171.371,-133.668 185.014,-126.286 197.157,-120.474\" fill=\"none\" stroke=\"black\"/>\n",
       "<polygon fill=\"black\" points=\"198.887,-123.531 206.5,-116.162 195.954,-117.175 198.887,-123.531\" stroke=\"black\"/>\n",
       "<text font-family=\"Times,serif\" font-size=\"14.00\" text-anchor=\"middle\" x=\"243.5\" y=\"-146.3\">0 TensorType(float32, matrix)</text>\n",
       "</g>\n",
       "<!-- name=y TensorType(float32, matrix) -->\n",
       "<g class=\"node\" id=\"node3\"><title>name=y TensorType(float32, matrix)</title>\n",
       "<polygon fill=\"green\" points=\"459.25,-212 238.75,-212 238.75,-176 459.25,-176 459.25,-212\" stroke=\"black\"/>\n",
       "<text font-family=\"Times,serif\" font-size=\"14.00\" text-anchor=\"middle\" x=\"349\" y=\"-190.3\">name=y TensorType(float32, matrix)</text>\n",
       "</g>\n",
       "<!-- name=y TensorType(float32, matrix)&#45;&gt;dot -->\n",
       "<g class=\"edge\" id=\"edge2\"><title>name=y TensorType(float32, matrix)-&gt;dot</title>\n",
       "<path d=\"M345.336,-175.801C342.177,-164.804 336.566,-150.971 327,-142 310.089,-126.142 285.509,-117.388 265.196,-112.6\" fill=\"none\" stroke=\"black\"/>\n",
       "<polygon fill=\"black\" points=\"265.834,-109.158 255.324,-110.498 264.376,-116.004 265.834,-109.158\" stroke=\"black\"/>\n",
       "<text font-family=\"Times,serif\" font-size=\"14.00\" text-anchor=\"middle\" x=\"422.5\" y=\"-146.3\">1 TensorType(float32, matrix)</text>\n",
       "</g>\n",
       "</g>\n",
       "</svg>"
      ],
      "text/plain": [
       "<IPython.core.display.SVG object>"
      ]
     },
     "execution_count": 24,
     "metadata": {},
     "output_type": "execute_result"
    }
   ],
   "source": [
    "svgdotprint(z)"
   ]
  },
  {
   "cell_type": "code",
   "execution_count": 25,
   "metadata": {
    "collapsed": true
   },
   "outputs": [],
   "source": [
    "f_z = theano.function([x,y],z, allow_input_downcast=True,\n",
    "                      accept_inplace=True)"
   ]
  },
  {
   "cell_type": "code",
   "execution_count": 26,
   "metadata": {
    "collapsed": false
   },
   "outputs": [
    {
     "ename": "TypeError",
     "evalue": "('Bad input argument to theano function with name \"<ipython-input-25-60ca36cd090f>:2\"  at index 0(0-based)', 'Wrong number of dimensions: expected 2, got 0 with shape ().')",
     "output_type": "error",
     "traceback": [
      "\u001b[1;31m---------------------------------------------------------------------------\u001b[0m",
      "\u001b[1;31mTypeError\u001b[0m                                 Traceback (most recent call last)",
      "\u001b[1;32m<ipython-input-26-f3b63655cc61>\u001b[0m in \u001b[0;36m<module>\u001b[1;34m()\u001b[0m\n\u001b[1;32m----> 1\u001b[1;33m \u001b[0mf_z\u001b[0m\u001b[1;33m(\u001b[0m\u001b[1;36m1.0\u001b[0m\u001b[1;33m,\u001b[0m\u001b[1;36m2.0\u001b[0m\u001b[1;33m)\u001b[0m\u001b[1;33m\u001b[0m\u001b[0m\n\u001b[0m",
      "\u001b[1;32m/home/jch/scratch/speech/libs/Theano/theano/compile/function_module.pyc\u001b[0m in \u001b[0;36m__call__\u001b[1;34m(self, *args, **kwargs)\u001b[0m\n\u001b[0;32m    515\u001b[0m                     \u001b[1;32mtry\u001b[0m\u001b[1;33m:\u001b[0m\u001b[1;33m\u001b[0m\u001b[0m\n\u001b[0;32m    516\u001b[0m                         s.storage[0] = s.type.filter(arg, strict=s.strict,\n\u001b[1;32m--> 517\u001b[1;33m                                 allow_downcast=s.allow_downcast)\n\u001b[0m\u001b[0;32m    518\u001b[0m \u001b[1;33m\u001b[0m\u001b[0m\n\u001b[0;32m    519\u001b[0m                     \u001b[1;32mexcept\u001b[0m \u001b[0mException\u001b[0m \u001b[1;32mas\u001b[0m \u001b[0me\u001b[0m\u001b[1;33m:\u001b[0m\u001b[1;33m\u001b[0m\u001b[0m\n",
      "\u001b[1;32m/home/jch/scratch/speech/libs/Theano/theano/tensor/type.pyc\u001b[0m in \u001b[0;36mfilter\u001b[1;34m(self, data, strict, allow_downcast)\u001b[0m\n\u001b[0;32m    166\u001b[0m             raise TypeError(\"Wrong number of dimensions: expected %s,\"\n\u001b[0;32m    167\u001b[0m                             \" got %s with shape %s.\" % (self.ndim, data.ndim,\n\u001b[1;32m--> 168\u001b[1;33m                                                         data.shape))\n\u001b[0m\u001b[0;32m    169\u001b[0m         \u001b[1;32mif\u001b[0m \u001b[1;32mnot\u001b[0m \u001b[0mdata\u001b[0m\u001b[1;33m.\u001b[0m\u001b[0mflags\u001b[0m\u001b[1;33m.\u001b[0m\u001b[0maligned\u001b[0m\u001b[1;33m:\u001b[0m\u001b[1;33m\u001b[0m\u001b[0m\n\u001b[0;32m    170\u001b[0m             \u001b[1;32mtry\u001b[0m\u001b[1;33m:\u001b[0m\u001b[1;33m\u001b[0m\u001b[0m\n",
      "\u001b[1;31mTypeError\u001b[0m: ('Bad input argument to theano function with name \"<ipython-input-25-60ca36cd090f>:2\"  at index 0(0-based)', 'Wrong number of dimensions: expected 2, got 0 with shape ().')"
     ]
    }
   ],
   "source": [
    "f_z(1.0,2.0)"
   ]
  },
  {
   "cell_type": "code",
   "execution_count": null,
   "metadata": {
    "collapsed": false
   },
   "outputs": [],
   "source": [
    "f_z(np.ones((10,10)),np.random.rand(10,10)) #teraz dobrze - theano przekaże argumenty np.array, które zamieni zagnieżdżone listy na macierze"
   ]
  },
  {
   "cell_type": "code",
   "execution_count": 27,
   "metadata": {
    "collapsed": false
   },
   "outputs": [
    {
     "data": {
      "image/svg+xml": [
       "<svg height=\"396pt\" viewBox=\"0.00 0.00 540.00 396.00\" width=\"540pt\" xmlns=\"http://www.w3.org/2000/svg\" xmlns:xlink=\"http://www.w3.org/1999/xlink\">\n",
       "<g class=\"graph\" id=\"graph0\" transform=\"scale(1 1) rotate(0) translate(4 392)\">\n",
       "<title>G</title>\n",
       "<polygon fill=\"white\" points=\"-4,4 -4,-392 536,-392 536,4 -4,4\" stroke=\"none\"/>\n",
       "<!-- GpuFromHost -->\n",
       "<g class=\"node\" id=\"node1\"><title>GpuFromHost</title>\n",
       "<ellipse cx=\"342\" cy=\"-282\" fill=\"red\" rx=\"61.6163\" ry=\"18\" stroke=\"black\"/>\n",
       "<text font-family=\"Times,serif\" font-size=\"14.00\" text-anchor=\"middle\" x=\"342\" y=\"-278.3\">GpuFromHost</text>\n",
       "</g>\n",
       "<!-- GpuDot22 -->\n",
       "<g class=\"node\" id=\"node5\"><title>GpuDot22</title>\n",
       "<ellipse cx=\"226\" cy=\"-194\" fill=\"none\" rx=\"48.1437\" ry=\"18\" stroke=\"black\"/>\n",
       "<text font-family=\"Times,serif\" font-size=\"14.00\" text-anchor=\"middle\" x=\"226\" y=\"-190.3\">GpuDot22</text>\n",
       "</g>\n",
       "<!-- GpuFromHost&#45;&gt;GpuDot22 -->\n",
       "<g class=\"edge\" id=\"edge4\"><title>GpuFromHost-&gt;GpuDot22</title>\n",
       "<path d=\"M337.192,-263.855C333.331,-252.881 326.893,-239.053 317,-230 305.636,-219.601 290.853,-212.173 276.517,-206.917\" fill=\"none\" stroke=\"black\"/>\n",
       "<polygon fill=\"black\" points=\"277.305,-203.489 266.711,-203.616 275.072,-210.123 277.305,-203.489\" stroke=\"black\"/>\n",
       "<text font-family=\"Times,serif\" font-size=\"14.00\" text-anchor=\"middle\" x=\"431\" y=\"-234.3\">1 CudaNdarrayType(float32, matrix)</text>\n",
       "</g>\n",
       "<!-- name=y TensorType(float32, matrix) -->\n",
       "<g class=\"node\" id=\"node2\"><title>name=y TensorType(float32, matrix)</title>\n",
       "<polygon fill=\"green\" points=\"459.25,-388 238.75,-388 238.75,-352 459.25,-352 459.25,-388\" stroke=\"black\"/>\n",
       "<text font-family=\"Times,serif\" font-size=\"14.00\" text-anchor=\"middle\" x=\"349\" y=\"-366.3\">name=y TensorType(float32, matrix)</text>\n",
       "</g>\n",
       "<!-- name=y TensorType(float32, matrix)&#45;&gt;GpuFromHost -->\n",
       "<g class=\"edge\" id=\"edge1\"><title>name=y TensorType(float32, matrix)-&gt;GpuFromHost</title>\n",
       "<path d=\"M347.583,-351.597C346.619,-339.746 345.322,-323.817 344.221,-310.292\" fill=\"none\" stroke=\"black\"/>\n",
       "<polygon fill=\"black\" points=\"347.69,-309.767 343.391,-300.084 340.713,-310.335 347.69,-309.767\" stroke=\"black\"/>\n",
       "<text font-family=\"Times,serif\" font-size=\"14.00\" text-anchor=\"middle\" x=\"425.5\" y=\"-322.3\">TensorType(float32, matrix)</text>\n",
       "</g>\n",
       "<!-- GpuFromHost id=1 -->\n",
       "<g class=\"node\" id=\"node3\"><title>GpuFromHost id=1</title>\n",
       "<ellipse cx=\"111\" cy=\"-282\" fill=\"red\" rx=\"81.3646\" ry=\"18\" stroke=\"black\"/>\n",
       "<text font-family=\"Times,serif\" font-size=\"14.00\" text-anchor=\"middle\" x=\"111\" y=\"-278.3\">GpuFromHost id=1</text>\n",
       "</g>\n",
       "<!-- GpuFromHost id=1&#45;&gt;GpuDot22 -->\n",
       "<g class=\"edge\" id=\"edge3\"><title>GpuFromHost id=1-&gt;GpuDot22</title>\n",
       "<path d=\"M107.813,-263.638C106.844,-252.852 107.593,-239.315 115,-230 128.072,-213.562 148.827,-204.702 168.872,-199.977\" fill=\"none\" stroke=\"black\"/>\n",
       "<polygon fill=\"black\" points=\"169.834,-203.353 178.93,-197.919 168.431,-196.495 169.834,-203.353\" stroke=\"black\"/>\n",
       "<text font-family=\"Times,serif\" font-size=\"14.00\" text-anchor=\"middle\" x=\"216\" y=\"-234.3\">0 CudaNdarrayType(float32, matrix)</text>\n",
       "</g>\n",
       "<!-- name=x TensorType(float32, matrix) -->\n",
       "<g class=\"node\" id=\"node4\"><title>name=x TensorType(float32, matrix)</title>\n",
       "<polygon fill=\"green\" points=\"220.25,-388 -0.25,-388 -0.25,-352 220.25,-352 220.25,-388\" stroke=\"black\"/>\n",
       "<text font-family=\"Times,serif\" font-size=\"14.00\" text-anchor=\"middle\" x=\"110\" y=\"-366.3\">name=x TensorType(float32, matrix)</text>\n",
       "</g>\n",
       "<!-- name=x TensorType(float32, matrix)&#45;&gt;GpuFromHost id=1 -->\n",
       "<g class=\"edge\" id=\"edge2\"><title>name=x TensorType(float32, matrix)-&gt;GpuFromHost id=1</title>\n",
       "<path d=\"M110.202,-351.597C110.34,-339.746 110.525,-323.817 110.683,-310.292\" fill=\"none\" stroke=\"black\"/>\n",
       "<polygon fill=\"black\" points=\"114.185,-310.124 110.801,-300.084 107.185,-310.043 114.185,-310.124\" stroke=\"black\"/>\n",
       "<text font-family=\"Times,serif\" font-size=\"14.00\" text-anchor=\"middle\" x=\"189.5\" y=\"-322.3\">TensorType(float32, matrix)</text>\n",
       "</g>\n",
       "<!-- HostFromGpu -->\n",
       "<g class=\"node\" id=\"node6\"><title>HostFromGpu</title>\n",
       "<ellipse cx=\"226\" cy=\"-106\" fill=\"red\" rx=\"61.6163\" ry=\"18\" stroke=\"black\"/>\n",
       "<text font-family=\"Times,serif\" font-size=\"14.00\" text-anchor=\"middle\" x=\"226\" y=\"-102.3\">HostFromGpu</text>\n",
       "</g>\n",
       "<!-- GpuDot22&#45;&gt;HostFromGpu -->\n",
       "<g class=\"edge\" id=\"edge5\"><title>GpuDot22-&gt;HostFromGpu</title>\n",
       "<path d=\"M226,-175.597C226,-163.746 226,-147.817 226,-134.292\" fill=\"none\" stroke=\"black\"/>\n",
       "<polygon fill=\"black\" points=\"229.5,-134.084 226,-124.084 222.5,-134.084 229.5,-134.084\" stroke=\"black\"/>\n",
       "<text font-family=\"Times,serif\" font-size=\"14.00\" text-anchor=\"middle\" x=\"322\" y=\"-146.3\">CudaNdarrayType(float32, matrix)</text>\n",
       "</g>\n",
       "<!-- TensorType(float32, matrix) -->\n",
       "<g class=\"node\" id=\"node7\"><title>TensorType(float32, matrix)</title>\n",
       "<polygon fill=\"blue\" points=\"312.25,-36 139.75,-36 139.75,-0 312.25,-0 312.25,-36\" stroke=\"black\"/>\n",
       "<text font-family=\"Times,serif\" font-size=\"14.00\" text-anchor=\"middle\" x=\"226\" y=\"-14.3\">TensorType(float32, matrix)</text>\n",
       "</g>\n",
       "<!-- HostFromGpu&#45;&gt;TensorType(float32, matrix) -->\n",
       "<g class=\"edge\" id=\"edge6\"><title>HostFromGpu-&gt;TensorType(float32, matrix)</title>\n",
       "<path d=\"M226,-87.5966C226,-75.7459 226,-59.8169 226,-46.2917\" fill=\"none\" stroke=\"black\"/>\n",
       "<polygon fill=\"black\" points=\"229.5,-46.084 226,-36.084 222.5,-46.084 229.5,-46.084\" stroke=\"black\"/>\n",
       "<text font-family=\"Times,serif\" font-size=\"14.00\" text-anchor=\"middle\" x=\"304.5\" y=\"-58.3\">TensorType(float32, matrix)</text>\n",
       "</g>\n",
       "</g>\n",
       "</svg>"
      ],
      "text/plain": [
       "<IPython.core.display.SVG object>"
      ]
     },
     "execution_count": 27,
     "metadata": {},
     "output_type": "execute_result"
    }
   ],
   "source": [
    "svgdotprint(f_z)"
   ]
  },
  {
   "cell_type": "code",
   "execution_count": 37,
   "metadata": {
    "collapsed": true
   },
   "outputs": [],
   "source": [
    "N=2000\n",
    "X=np.random.rand(N,N).astype('float32')\n",
    "Y=np.random.rand(N,N).astype('float32')"
   ]
  },
  {
   "cell_type": "code",
   "execution_count": 38,
   "metadata": {
    "collapsed": false
   },
   "outputs": [
    {
     "name": "stdout",
     "output_type": "stream",
     "text": [
      "10 loops, best of 3: 110 ms per loop\n"
     ]
    }
   ],
   "source": [
    "%timeit Z = X.dot(Y)"
   ]
  },
  {
   "cell_type": "code",
   "execution_count": 39,
   "metadata": {
    "collapsed": false
   },
   "outputs": [
    {
     "name": "stdout",
     "output_type": "stream",
     "text": [
      "100 loops, best of 3: 12.6 ms per loop\n"
     ]
    }
   ],
   "source": [
    "%timeit ZT = f_z(X,Y)"
   ]
  },
  {
   "cell_type": "code",
   "execution_count": 41,
   "metadata": {
    "collapsed": false
   },
   "outputs": [
    {
     "name": "stdout",
     "output_type": "stream",
     "text": [
      "Thu Jun 11 10:32:12 2015       \r\n",
      "+------------------------------------------------------+                       \r\n",
      "| NVIDIA-SMI 346.47     Driver Version: 346.47         |                       \r\n",
      "|-------------------------------+----------------------+----------------------+\r\n",
      "| GPU  Name        Persistence-M| Bus-Id        Disp.A | Volatile Uncorr. ECC |\r\n",
      "| Fan  Temp  Perf  Pwr:Usage/Cap|         Memory-Usage | GPU-Util  Compute M. |\r\n",
      "|===============================+======================+======================|\r\n",
      "|   0  GeForce GTX 780     Off  | 0000:01:00.0     N/A |                  N/A |\r\n",
      "| 41%   54C    P0    N/A /  N/A |    124MiB /  3071MiB |     N/A      Default |\r\n",
      "+-------------------------------+----------------------+----------------------+\r\n",
      "                                                                               \r\n",
      "+-----------------------------------------------------------------------------+\r\n",
      "| Processes:                                                       GPU Memory |\r\n",
      "|  GPU       PID  Type  Process name                               Usage      |\r\n",
      "|=============================================================================|\r\n",
      "|    0            C+G   Not Supported                                         |\r\n",
      "+-----------------------------------------------------------------------------+\r\n"
     ]
    }
   ],
   "source": [
    "!nvidia-smi"
   ]
  },
  {
   "cell_type": "code",
   "execution_count": 40,
   "metadata": {
    "collapsed": false
   },
   "outputs": [
    {
     "name": "stdout",
     "output_type": "stream",
     "text": [
      "0.00149536\n",
      "3.02462e-06\n"
     ]
    }
   ],
   "source": [
    "Z = X.dot(Y)\n",
    "ZT = f_z(X,Y)\n",
    "D = Z-ZT\n",
    "print (np.abs(D)).max()\n",
    "print (np.abs(D/Z)).max()"
   ]
  },
  {
   "cell_type": "code",
   "execution_count": 42,
   "metadata": {
    "collapsed": true
   },
   "outputs": [],
   "source": [
    "#Optymalizacja\n",
    "\n",
    "z2 = TT.log(x**2 + y)"
   ]
  },
  {
   "cell_type": "code",
   "execution_count": 43,
   "metadata": {
    "collapsed": false
   },
   "outputs": [
    {
     "data": {
      "image/svg+xml": [
       "<svg height=\"484pt\" viewBox=\"0.00 0.00 624.00 484.00\" width=\"624pt\" xmlns=\"http://www.w3.org/2000/svg\" xmlns:xlink=\"http://www.w3.org/1999/xlink\">\n",
       "<g class=\"graph\" id=\"graph0\" transform=\"scale(1 1) rotate(0) translate(4 480)\">\n",
       "<title>G</title>\n",
       "<polygon fill=\"white\" points=\"-4,4 -4,-480 620,-480 620,4 -4,4\" stroke=\"none\"/>\n",
       "<!-- DimShuffle{x,x} -->\n",
       "<g class=\"node\" id=\"node1\"><title>DimShuffle{x,x}</title>\n",
       "<ellipse cx=\"452\" cy=\"-370\" fill=\"none\" rx=\"72.192\" ry=\"18\" stroke=\"black\"/>\n",
       "<text font-family=\"Times,serif\" font-size=\"14.00\" text-anchor=\"middle\" x=\"452\" y=\"-366.3\">DimShuffle{x,x}</text>\n",
       "</g>\n",
       "<!-- Elemwise{pow,no_inplace} -->\n",
       "<g class=\"node\" id=\"node3\"><title>Elemwise{pow,no_inplace}</title>\n",
       "<ellipse cx=\"349\" cy=\"-282\" fill=\"#ffaabb\" rx=\"110.235\" ry=\"18\" stroke=\"black\"/>\n",
       "<text font-family=\"Times,serif\" font-size=\"14.00\" text-anchor=\"middle\" x=\"349\" y=\"-278.3\">Elemwise{pow,no_inplace}</text>\n",
       "</g>\n",
       "<!-- DimShuffle{x,x}&#45;&gt;Elemwise{pow,no_inplace} -->\n",
       "<g class=\"edge\" id=\"edge3\"><title>DimShuffle{x,x}-&gt;Elemwise{pow,no_inplace}</title>\n",
       "<path d=\"M445.714,-351.596C441.087,-340.792 433.879,-327.252 424,-318 418.027,-312.406 411,-307.568 403.683,-303.428\" fill=\"none\" stroke=\"black\"/>\n",
       "<polygon fill=\"black\" points=\"404.803,-300.066 394.317,-298.552 401.571,-306.274 404.803,-300.066\" stroke=\"black\"/>\n",
       "<text font-family=\"Times,serif\" font-size=\"14.00\" text-anchor=\"middle\" x=\"525.5\" y=\"-322.3\">1 TensorType(int8, (True, True))</text>\n",
       "</g>\n",
       "<!-- val=2 TensorType(int8, scalar) -->\n",
       "<g class=\"node\" id=\"node2\"><title>val=2 TensorType(int8, scalar)</title>\n",
       "<polygon fill=\"green\" points=\"544.5,-476 359.5,-476 359.5,-440 544.5,-440 544.5,-476\" stroke=\"black\"/>\n",
       "<text font-family=\"Times,serif\" font-size=\"14.00\" text-anchor=\"middle\" x=\"452\" y=\"-454.3\">val=2 TensorType(int8, scalar)</text>\n",
       "</g>\n",
       "<!-- val=2 TensorType(int8, scalar)&#45;&gt;DimShuffle{x,x} -->\n",
       "<g class=\"edge\" id=\"edge1\"><title>val=2 TensorType(int8, scalar)-&gt;DimShuffle{x,x}</title>\n",
       "<path d=\"M452,-439.597C452,-427.746 452,-411.817 452,-398.292\" fill=\"none\" stroke=\"black\"/>\n",
       "<polygon fill=\"black\" points=\"455.5,-398.084 452,-388.084 448.5,-398.084 455.5,-398.084\" stroke=\"black\"/>\n",
       "<text font-family=\"Times,serif\" font-size=\"14.00\" text-anchor=\"middle\" x=\"519.5\" y=\"-410.3\">TensorType(int8, scalar)</text>\n",
       "</g>\n",
       "<!-- Elemwise{add,no_inplace} -->\n",
       "<g class=\"node\" id=\"node5\"><title>Elemwise{add,no_inplace}</title>\n",
       "<ellipse cx=\"217\" cy=\"-194\" fill=\"#ffaabb\" rx=\"108.31\" ry=\"18\" stroke=\"black\"/>\n",
       "<text font-family=\"Times,serif\" font-size=\"14.00\" text-anchor=\"middle\" x=\"217\" y=\"-190.3\">Elemwise{add,no_inplace}</text>\n",
       "</g>\n",
       "<!-- Elemwise{pow,no_inplace}&#45;&gt;Elemwise{add,no_inplace} -->\n",
       "<g class=\"edge\" id=\"edge4\"><title>Elemwise{pow,no_inplace}-&gt;Elemwise{add,no_inplace}</title>\n",
       "<path d=\"M336.558,-264.057C327.862,-253.168 315.437,-239.359 302,-230 293.366,-223.986 283.542,-218.749 273.713,-214.286\" fill=\"none\" stroke=\"black\"/>\n",
       "<polygon fill=\"black\" points=\"274.895,-210.985 264.326,-210.245 272.127,-217.414 274.895,-210.985\" stroke=\"black\"/>\n",
       "<text font-family=\"Times,serif\" font-size=\"14.00\" text-anchor=\"middle\" x=\"403.5\" y=\"-234.3\">0 TensorType(float32, matrix)</text>\n",
       "</g>\n",
       "<!-- name=x TensorType(float32, matrix) -->\n",
       "<g class=\"node\" id=\"node4\"><title>name=x TensorType(float32, matrix)</title>\n",
       "<polygon fill=\"green\" points=\"361.25,-388 140.75,-388 140.75,-352 361.25,-352 361.25,-388\" stroke=\"black\"/>\n",
       "<text font-family=\"Times,serif\" font-size=\"14.00\" text-anchor=\"middle\" x=\"251\" y=\"-366.3\">name=x TensorType(float32, matrix)</text>\n",
       "</g>\n",
       "<!-- name=x TensorType(float32, matrix)&#45;&gt;Elemwise{pow,no_inplace} -->\n",
       "<g class=\"edge\" id=\"edge2\"><title>name=x TensorType(float32, matrix)-&gt;Elemwise{pow,no_inplace}</title>\n",
       "<path d=\"M248.785,-351.711C248.355,-340.953 249.655,-327.422 257,-318 262.211,-311.316 268.855,-305.908 276.183,-301.533\" fill=\"none\" stroke=\"black\"/>\n",
       "<polygon fill=\"black\" points=\"277.839,-304.617 285.053,-296.857 274.575,-298.424 277.839,-304.617\" stroke=\"black\"/>\n",
       "<text font-family=\"Times,serif\" font-size=\"14.00\" text-anchor=\"middle\" x=\"340.5\" y=\"-322.3\">0 TensorType(float32, matrix)</text>\n",
       "</g>\n",
       "<!-- Elemwise{log,no_inplace} -->\n",
       "<g class=\"node\" id=\"node7\"><title>Elemwise{log,no_inplace}</title>\n",
       "<ellipse cx=\"217\" cy=\"-106\" fill=\"#ffaabb\" rx=\"106.386\" ry=\"18\" stroke=\"black\"/>\n",
       "<text font-family=\"Times,serif\" font-size=\"14.00\" text-anchor=\"middle\" x=\"217\" y=\"-102.3\">Elemwise{log,no_inplace}</text>\n",
       "</g>\n",
       "<!-- Elemwise{add,no_inplace}&#45;&gt;Elemwise{log,no_inplace} -->\n",
       "<g class=\"edge\" id=\"edge6\"><title>Elemwise{add,no_inplace}-&gt;Elemwise{log,no_inplace}</title>\n",
       "<path d=\"M217,-175.597C217,-163.746 217,-147.817 217,-134.292\" fill=\"none\" stroke=\"black\"/>\n",
       "<polygon fill=\"black\" points=\"220.5,-134.084 217,-124.084 213.5,-134.084 220.5,-134.084\" stroke=\"black\"/>\n",
       "<text font-family=\"Times,serif\" font-size=\"14.00\" text-anchor=\"middle\" x=\"295.5\" y=\"-146.3\">TensorType(float32, matrix)</text>\n",
       "</g>\n",
       "<!-- name=y TensorType(float32, matrix) -->\n",
       "<g class=\"node\" id=\"node6\"><title>name=y TensorType(float32, matrix)</title>\n",
       "<polygon fill=\"green\" points=\"220.25,-300 -0.25,-300 -0.25,-264 220.25,-264 220.25,-300\" stroke=\"black\"/>\n",
       "<text font-family=\"Times,serif\" font-size=\"14.00\" text-anchor=\"middle\" x=\"110\" y=\"-278.3\">name=y TensorType(float32, matrix)</text>\n",
       "</g>\n",
       "<!-- name=y TensorType(float32, matrix)&#45;&gt;Elemwise{add,no_inplace} -->\n",
       "<g class=\"edge\" id=\"edge5\"><title>name=y TensorType(float32, matrix)-&gt;Elemwise{add,no_inplace}</title>\n",
       "<path d=\"M114.917,-263.973C118.825,-253.048 125.272,-239.231 135,-230 141.445,-223.884 149.122,-218.752 157.154,-214.468\" fill=\"none\" stroke=\"black\"/>\n",
       "<polygon fill=\"black\" points=\"158.879,-217.521 166.328,-209.986 155.806,-211.232 158.879,-217.521\" stroke=\"black\"/>\n",
       "<text font-family=\"Times,serif\" font-size=\"14.00\" text-anchor=\"middle\" x=\"218.5\" y=\"-234.3\">1 TensorType(float32, matrix)</text>\n",
       "</g>\n",
       "<!-- TensorType(float32, matrix) id=6 -->\n",
       "<g class=\"node\" id=\"node8\"><title>TensorType(float32, matrix) id=6</title>\n",
       "<polygon fill=\"blue\" points=\"318,-36 116,-36 116,-0 318,-0 318,-36\" stroke=\"black\"/>\n",
       "<text font-family=\"Times,serif\" font-size=\"14.00\" text-anchor=\"middle\" x=\"217\" y=\"-14.3\">TensorType(float32, matrix) id=6</text>\n",
       "</g>\n",
       "<!-- Elemwise{log,no_inplace}&#45;&gt;TensorType(float32, matrix) id=6 -->\n",
       "<g class=\"edge\" id=\"edge7\"><title>Elemwise{log,no_inplace}-&gt;TensorType(float32, matrix) id=6</title>\n",
       "<path d=\"M217,-87.5966C217,-75.7459 217,-59.8169 217,-46.2917\" fill=\"none\" stroke=\"black\"/>\n",
       "<polygon fill=\"black\" points=\"220.5,-46.084 217,-36.084 213.5,-46.084 220.5,-46.084\" stroke=\"black\"/>\n",
       "<text font-family=\"Times,serif\" font-size=\"14.00\" text-anchor=\"middle\" x=\"295.5\" y=\"-58.3\">TensorType(float32, matrix)</text>\n",
       "</g>\n",
       "</g>\n",
       "</svg>"
      ],
      "text/plain": [
       "<IPython.core.display.SVG object>"
      ]
     },
     "execution_count": 43,
     "metadata": {},
     "output_type": "execute_result"
    }
   ],
   "source": [
    "svgdotprint(z2)"
   ]
  },
  {
   "cell_type": "code",
   "execution_count": 44,
   "metadata": {
    "collapsed": true
   },
   "outputs": [],
   "source": [
    "f2 = theano.function([x,y],z2)"
   ]
  },
  {
   "cell_type": "code",
   "execution_count": 45,
   "metadata": {
    "collapsed": false
   },
   "outputs": [
    {
     "data": {
      "image/svg+xml": [
       "<svg height=\"396pt\" viewBox=\"0.00 0.00 540.00 396.00\" width=\"540pt\" xmlns=\"http://www.w3.org/2000/svg\" xmlns:xlink=\"http://www.w3.org/1999/xlink\">\n",
       "<g class=\"graph\" id=\"graph0\" transform=\"scale(1 1) rotate(0) translate(4 392)\">\n",
       "<title>G</title>\n",
       "<polygon fill=\"white\" points=\"-4,4 -4,-392 536,-392 536,4 -4,4\" stroke=\"none\"/>\n",
       "<!-- GpuFromHost -->\n",
       "<g class=\"node\" id=\"node1\"><title>GpuFromHost</title>\n",
       "<ellipse cx=\"342\" cy=\"-282\" fill=\"red\" rx=\"61.6163\" ry=\"18\" stroke=\"black\"/>\n",
       "<text font-family=\"Times,serif\" font-size=\"14.00\" text-anchor=\"middle\" x=\"342\" y=\"-278.3\">GpuFromHost</text>\n",
       "</g>\n",
       "<!-- GpuElemwise{Composite{log((sqr(i0) + i1))}}[(0, 0)] -->\n",
       "<g class=\"node\" id=\"node5\"><title>GpuElemwise{Composite{log((sqr(i0) + i1))}}[(0, 0)]</title>\n",
       "<ellipse cx=\"226\" cy=\"-194\" fill=\"#ffaabb\" rx=\"206.048\" ry=\"18\" stroke=\"black\"/>\n",
       "<text font-family=\"Times,serif\" font-size=\"14.00\" text-anchor=\"middle\" x=\"226\" y=\"-190.3\">GpuElemwise{Composite{log((sqr(i0) + i1))}}[(0, 0)]</text>\n",
       "</g>\n",
       "<!-- GpuFromHost&#45;&gt;GpuElemwise{Composite{log((sqr(i0) + i1))}}[(0, 0)] -->\n",
       "<g class=\"edge\" id=\"edge4\"><title>GpuFromHost-&gt;GpuElemwise{Composite{log((sqr(i0) + i1))}}[(0, 0)]</title>\n",
       "<path d=\"M337.192,-263.855C333.331,-252.881 326.893,-239.053 317,-230 311.029,-224.536 304.115,-219.893 296.817,-215.953\" fill=\"none\" stroke=\"black\"/>\n",
       "<polygon fill=\"black\" points=\"297.929,-212.6 287.411,-211.331 294.842,-218.883 297.929,-212.6\" stroke=\"black\"/>\n",
       "<text font-family=\"Times,serif\" font-size=\"14.00\" text-anchor=\"middle\" x=\"431\" y=\"-234.3\">1 CudaNdarrayType(float32, matrix)</text>\n",
       "</g>\n",
       "<!-- name=y TensorType(float32, matrix) -->\n",
       "<g class=\"node\" id=\"node2\"><title>name=y TensorType(float32, matrix)</title>\n",
       "<polygon fill=\"green\" points=\"459.25,-388 238.75,-388 238.75,-352 459.25,-352 459.25,-388\" stroke=\"black\"/>\n",
       "<text font-family=\"Times,serif\" font-size=\"14.00\" text-anchor=\"middle\" x=\"349\" y=\"-366.3\">name=y TensorType(float32, matrix)</text>\n",
       "</g>\n",
       "<!-- name=y TensorType(float32, matrix)&#45;&gt;GpuFromHost -->\n",
       "<g class=\"edge\" id=\"edge1\"><title>name=y TensorType(float32, matrix)-&gt;GpuFromHost</title>\n",
       "<path d=\"M347.583,-351.597C346.619,-339.746 345.322,-323.817 344.221,-310.292\" fill=\"none\" stroke=\"black\"/>\n",
       "<polygon fill=\"black\" points=\"347.69,-309.767 343.391,-300.084 340.713,-310.335 347.69,-309.767\" stroke=\"black\"/>\n",
       "<text font-family=\"Times,serif\" font-size=\"14.00\" text-anchor=\"middle\" x=\"425.5\" y=\"-322.3\">TensorType(float32, matrix)</text>\n",
       "</g>\n",
       "<!-- GpuFromHost id=1 -->\n",
       "<g class=\"node\" id=\"node3\"><title>GpuFromHost id=1</title>\n",
       "<ellipse cx=\"111\" cy=\"-282\" fill=\"red\" rx=\"81.3646\" ry=\"18\" stroke=\"black\"/>\n",
       "<text font-family=\"Times,serif\" font-size=\"14.00\" text-anchor=\"middle\" x=\"111\" y=\"-278.3\">GpuFromHost id=1</text>\n",
       "</g>\n",
       "<!-- GpuFromHost id=1&#45;&gt;GpuElemwise{Composite{log((sqr(i0) + i1))}}[(0, 0)] -->\n",
       "<g class=\"edge\" id=\"edge3\"><title>GpuFromHost id=1-&gt;GpuElemwise{Composite{log((sqr(i0) + i1))}}[(0, 0)]</title>\n",
       "<path d=\"M107.813,-263.638C106.844,-252.852 107.593,-239.315 115,-230 119.436,-224.421 124.757,-219.716 130.635,-215.748\" fill=\"none\" stroke=\"red\"/>\n",
       "<polygon fill=\"red\" points=\"132.777,-218.548 139.607,-210.448 129.217,-212.521 132.777,-218.548\" stroke=\"red\"/>\n",
       "<text font-family=\"Times,serif\" font-size=\"14.00\" text-anchor=\"middle\" x=\"216\" y=\"-234.3\">0 CudaNdarrayType(float32, matrix)</text>\n",
       "</g>\n",
       "<!-- name=x TensorType(float32, matrix) -->\n",
       "<g class=\"node\" id=\"node4\"><title>name=x TensorType(float32, matrix)</title>\n",
       "<polygon fill=\"green\" points=\"220.25,-388 -0.25,-388 -0.25,-352 220.25,-352 220.25,-388\" stroke=\"black\"/>\n",
       "<text font-family=\"Times,serif\" font-size=\"14.00\" text-anchor=\"middle\" x=\"110\" y=\"-366.3\">name=x TensorType(float32, matrix)</text>\n",
       "</g>\n",
       "<!-- name=x TensorType(float32, matrix)&#45;&gt;GpuFromHost id=1 -->\n",
       "<g class=\"edge\" id=\"edge2\"><title>name=x TensorType(float32, matrix)-&gt;GpuFromHost id=1</title>\n",
       "<path d=\"M110.202,-351.597C110.34,-339.746 110.525,-323.817 110.683,-310.292\" fill=\"none\" stroke=\"black\"/>\n",
       "<polygon fill=\"black\" points=\"114.185,-310.124 110.801,-300.084 107.185,-310.043 114.185,-310.124\" stroke=\"black\"/>\n",
       "<text font-family=\"Times,serif\" font-size=\"14.00\" text-anchor=\"middle\" x=\"189.5\" y=\"-322.3\">TensorType(float32, matrix)</text>\n",
       "</g>\n",
       "<!-- HostFromGpu -->\n",
       "<g class=\"node\" id=\"node6\"><title>HostFromGpu</title>\n",
       "<ellipse cx=\"226\" cy=\"-106\" fill=\"red\" rx=\"61.6163\" ry=\"18\" stroke=\"black\"/>\n",
       "<text font-family=\"Times,serif\" font-size=\"14.00\" text-anchor=\"middle\" x=\"226\" y=\"-102.3\">HostFromGpu</text>\n",
       "</g>\n",
       "<!-- GpuElemwise{Composite{log((sqr(i0) + i1))}}[(0, 0)]&#45;&gt;HostFromGpu -->\n",
       "<g class=\"edge\" id=\"edge5\"><title>GpuElemwise{Composite{log((sqr(i0) + i1))}}[(0, 0)]-&gt;HostFromGpu</title>\n",
       "<path d=\"M226,-175.597C226,-163.746 226,-147.817 226,-134.292\" fill=\"none\" stroke=\"black\"/>\n",
       "<polygon fill=\"black\" points=\"229.5,-134.084 226,-124.084 222.5,-134.084 229.5,-134.084\" stroke=\"black\"/>\n",
       "<text font-family=\"Times,serif\" font-size=\"14.00\" text-anchor=\"middle\" x=\"322\" y=\"-146.3\">CudaNdarrayType(float32, matrix)</text>\n",
       "</g>\n",
       "<!-- TensorType(float32, matrix) -->\n",
       "<g class=\"node\" id=\"node7\"><title>TensorType(float32, matrix)</title>\n",
       "<polygon fill=\"blue\" points=\"312.25,-36 139.75,-36 139.75,-0 312.25,-0 312.25,-36\" stroke=\"black\"/>\n",
       "<text font-family=\"Times,serif\" font-size=\"14.00\" text-anchor=\"middle\" x=\"226\" y=\"-14.3\">TensorType(float32, matrix)</text>\n",
       "</g>\n",
       "<!-- HostFromGpu&#45;&gt;TensorType(float32, matrix) -->\n",
       "<g class=\"edge\" id=\"edge6\"><title>HostFromGpu-&gt;TensorType(float32, matrix)</title>\n",
       "<path d=\"M226,-87.5966C226,-75.7459 226,-59.8169 226,-46.2917\" fill=\"none\" stroke=\"black\"/>\n",
       "<polygon fill=\"black\" points=\"229.5,-46.084 226,-36.084 222.5,-46.084 229.5,-46.084\" stroke=\"black\"/>\n",
       "<text font-family=\"Times,serif\" font-size=\"14.00\" text-anchor=\"middle\" x=\"304.5\" y=\"-58.3\">TensorType(float32, matrix)</text>\n",
       "</g>\n",
       "</g>\n",
       "</svg>"
      ],
      "text/plain": [
       "<IPython.core.display.SVG object>"
      ]
     },
     "execution_count": 45,
     "metadata": {},
     "output_type": "execute_result"
    }
   ],
   "source": [
    "#operacje na skalarach sa połączone!\n",
    "#svgdotprint(f2.maker.fgraph.outputs[0])\n",
    "svgdotprint(f2) #to samo co powyżej"
   ]
  },
  {
   "cell_type": "markdown",
   "metadata": {},
   "source": [
    "###Typy w Theano\n",
    "\n",
    "Theano posiada system typów podobny do numpy. Każda zmienna symboliczna posiada typ przechowywanych wartości (`dtype`), ilosć wymiarów i informacje czy wzdłuż danego wymiar można broadcastować."
   ]
  },
  {
   "cell_type": "code",
   "execution_count": 27,
   "metadata": {
    "collapsed": false
   },
   "outputs": [
    {
     "data": {
      "text/plain": [
       "TensorType(float32, matrix)"
      ]
     },
     "execution_count": 27,
     "metadata": {},
     "output_type": "execute_result"
    }
   ],
   "source": [
    "x.type"
   ]
  },
  {
   "cell_type": "markdown",
   "metadata": {},
   "source": [
    "Theano posiada kilka najpopularniejszych typów tablic - w tym macierz. Pełna lista jest tu: http://deeplearning.net/software/theano/library/tensor/basic.html#all-fully-typed-constructors"
   ]
  },
  {
   "cell_type": "code",
   "execution_count": 28,
   "metadata": {
    "collapsed": false
   },
   "outputs": [
    {
     "data": {
      "text/plain": [
       "(False, False)"
      ]
     },
     "execution_count": 28,
     "metadata": {},
     "output_type": "execute_result"
    }
   ],
   "source": [
    "#matrix nie broadcastuje\n",
    "x.broadcastable"
   ]
  },
  {
   "cell_type": "code",
   "execution_count": 29,
   "metadata": {
    "collapsed": false
   },
   "outputs": [],
   "source": [
    "v = TT.vector('v')"
   ]
  },
  {
   "cell_type": "code",
   "execution_count": 30,
   "metadata": {
    "collapsed": false
   },
   "outputs": [
    {
     "data": {
      "text/plain": [
       "TensorType(float32, vector)"
      ]
     },
     "execution_count": 30,
     "metadata": {},
     "output_type": "execute_result"
    }
   ],
   "source": [
    "v.type"
   ]
  },
  {
   "cell_type": "code",
   "execution_count": 31,
   "metadata": {
    "collapsed": false
   },
   "outputs": [
    {
     "data": {
      "text/plain": [
       "(False,)"
      ]
     },
     "execution_count": 31,
     "metadata": {},
     "output_type": "execute_result"
    }
   ],
   "source": [
    "v.broadcastable"
   ]
  },
  {
   "cell_type": "code",
   "execution_count": 32,
   "metadata": {
    "collapsed": false
   },
   "outputs": [
    {
     "data": {
      "image/svg+xml": [
       "<svg height=\"308pt\" viewBox=\"0.00 0.00 473.00 308.00\" width=\"473pt\" xmlns=\"http://www.w3.org/2000/svg\" xmlns:xlink=\"http://www.w3.org/1999/xlink\">\n",
       "<g class=\"graph\" id=\"graph0\" transform=\"scale(1 1) rotate(0) translate(4 304)\">\n",
       "<title>G</title>\n",
       "<polygon fill=\"white\" points=\"-4,4 -4,-304 469,-304 469,4 -4,4\" stroke=\"none\"/>\n",
       "<!-- DimShuffle{x,0} -->\n",
       "<g class=\"node\" id=\"node1\"><title>DimShuffle{x,0}</title>\n",
       "<ellipse cx=\"311\" cy=\"-194\" fill=\"none\" rx=\"72.192\" ry=\"18\" stroke=\"black\"/>\n",
       "<text font-family=\"Times,serif\" font-size=\"14.00\" text-anchor=\"middle\" x=\"311\" y=\"-190.3\">DimShuffle{x,0}</text>\n",
       "</g>\n",
       "<!-- Elemwise{add,no_inplace} -->\n",
       "<g class=\"node\" id=\"node3\"><title>Elemwise{add,no_inplace}</title>\n",
       "<ellipse cx=\"207\" cy=\"-106\" fill=\"#ffaabb\" rx=\"108.31\" ry=\"18\" stroke=\"black\"/>\n",
       "<text font-family=\"Times,serif\" font-size=\"14.00\" text-anchor=\"middle\" x=\"207\" y=\"-102.3\">Elemwise{add,no_inplace}</text>\n",
       "</g>\n",
       "<!-- DimShuffle{x,0}&#45;&gt;Elemwise{add,no_inplace} -->\n",
       "<g class=\"edge\" id=\"edge3\"><title>DimShuffle{x,0}-&gt;Elemwise{add,no_inplace}</title>\n",
       "<path d=\"M304.936,-176.061C300.324,-165.173 293.05,-151.365 283,-142 276.813,-136.234 269.509,-131.281 261.917,-127.069\" fill=\"none\" stroke=\"black\"/>\n",
       "<polygon fill=\"black\" points=\"263.417,-123.905 252.921,-122.46 260.225,-130.135 263.417,-123.905\" stroke=\"black\"/>\n",
       "<text font-family=\"Times,serif\" font-size=\"14.00\" text-anchor=\"middle\" x=\"370\" y=\"-146.3\">1 TensorType(float32, row)</text>\n",
       "</g>\n",
       "<!-- name=v TensorType(float32, vector) -->\n",
       "<g class=\"node\" id=\"node2\"><title>name=v TensorType(float32, vector)</title>\n",
       "<polygon fill=\"green\" points=\"420.25,-300 201.75,-300 201.75,-264 420.25,-264 420.25,-300\" stroke=\"black\"/>\n",
       "<text font-family=\"Times,serif\" font-size=\"14.00\" text-anchor=\"middle\" x=\"311\" y=\"-278.3\">name=v TensorType(float32, vector)</text>\n",
       "</g>\n",
       "<!-- name=v TensorType(float32, vector)&#45;&gt;DimShuffle{x,0} -->\n",
       "<g class=\"edge\" id=\"edge1\"><title>name=v TensorType(float32, vector)-&gt;DimShuffle{x,0}</title>\n",
       "<path d=\"M311,-263.597C311,-251.746 311,-235.817 311,-222.292\" fill=\"none\" stroke=\"black\"/>\n",
       "<polygon fill=\"black\" points=\"314.5,-222.084 311,-212.084 307.5,-222.084 314.5,-222.084\" stroke=\"black\"/>\n",
       "<text font-family=\"Times,serif\" font-size=\"14.00\" text-anchor=\"middle\" x=\"388\" y=\"-234.3\">TensorType(float32, vector)</text>\n",
       "</g>\n",
       "<!-- TensorType(float32, matrix) -->\n",
       "<g class=\"node\" id=\"node5\"><title>TensorType(float32, matrix)</title>\n",
       "<polygon fill=\"blue\" points=\"293.25,-36 120.75,-36 120.75,-0 293.25,-0 293.25,-36\" stroke=\"black\"/>\n",
       "<text font-family=\"Times,serif\" font-size=\"14.00\" text-anchor=\"middle\" x=\"207\" y=\"-14.3\">TensorType(float32, matrix)</text>\n",
       "</g>\n",
       "<!-- Elemwise{add,no_inplace}&#45;&gt;TensorType(float32, matrix) -->\n",
       "<g class=\"edge\" id=\"edge4\"><title>Elemwise{add,no_inplace}-&gt;TensorType(float32, matrix)</title>\n",
       "<path d=\"M207,-87.5966C207,-75.7459 207,-59.8169 207,-46.2917\" fill=\"none\" stroke=\"black\"/>\n",
       "<polygon fill=\"black\" points=\"210.5,-46.084 207,-36.084 203.5,-46.084 210.5,-46.084\" stroke=\"black\"/>\n",
       "<text font-family=\"Times,serif\" font-size=\"14.00\" text-anchor=\"middle\" x=\"285.5\" y=\"-58.3\">TensorType(float32, matrix)</text>\n",
       "</g>\n",
       "<!-- name=x TensorType(float32, matrix) -->\n",
       "<g class=\"node\" id=\"node4\"><title>name=x TensorType(float32, matrix)</title>\n",
       "<polygon fill=\"green\" points=\"220.25,-212 -0.25,-212 -0.25,-176 220.25,-176 220.25,-212\" stroke=\"black\"/>\n",
       "<text font-family=\"Times,serif\" font-size=\"14.00\" text-anchor=\"middle\" x=\"110\" y=\"-190.3\">name=x TensorType(float32, matrix)</text>\n",
       "</g>\n",
       "<!-- name=x TensorType(float32, matrix)&#45;&gt;Elemwise{add,no_inplace} -->\n",
       "<g class=\"edge\" id=\"edge2\"><title>name=x TensorType(float32, matrix)-&gt;Elemwise{add,no_inplace}</title>\n",
       "<path d=\"M107.796,-175.72C107.372,-164.966 108.672,-151.435 116,-142 121.224,-135.274 127.909,-129.84 135.28,-125.45\" fill=\"none\" stroke=\"black\"/>\n",
       "<polygon fill=\"black\" points=\"136.978,-128.512 144.201,-120.761 133.721,-122.315 136.978,-128.512\" stroke=\"black\"/>\n",
       "<text font-family=\"Times,serif\" font-size=\"14.00\" text-anchor=\"middle\" x=\"199.5\" y=\"-146.3\">0 TensorType(float32, matrix)</text>\n",
       "</g>\n",
       "</g>\n",
       "</svg>"
      ],
      "text/plain": [
       "<IPython.core.display.SVG object>"
      ]
     },
     "execution_count": 32,
     "metadata": {},
     "output_type": "execute_result"
    }
   ],
   "source": [
    "#Tu widzimy, że podobnie jak w numpy zmienna o mniejszej ilości wymiarów traktowana jest, jakby miała z lewej jednostkowe broadcastowalne wymiary\n",
    "svgdotprint(x+v)"
   ]
  },
  {
   "cell_type": "code",
   "execution_count": 33,
   "metadata": {
    "collapsed": false
   },
   "outputs": [
    {
     "data": {
      "image/svg+xml": [
       "<svg height=\"484pt\" viewBox=\"0.00 0.00 533.00 484.00\" width=\"533pt\" xmlns=\"http://www.w3.org/2000/svg\" xmlns:xlink=\"http://www.w3.org/1999/xlink\">\n",
       "<g class=\"graph\" id=\"graph0\" transform=\"scale(1 1) rotate(0) translate(4 480)\">\n",
       "<title>G</title>\n",
       "<polygon fill=\"white\" points=\"-4,4 -4,-480 529,-480 529,4 -4,4\" stroke=\"none\"/>\n",
       "<!-- GpuFromHost -->\n",
       "<g class=\"node\" id=\"node1\"><title>GpuFromHost</title>\n",
       "<ellipse cx=\"335\" cy=\"-370\" fill=\"red\" rx=\"61.6163\" ry=\"18\" stroke=\"black\"/>\n",
       "<text font-family=\"Times,serif\" font-size=\"14.00\" text-anchor=\"middle\" x=\"335\" y=\"-366.3\">GpuFromHost</text>\n",
       "</g>\n",
       "<!-- GpuDimShuffle{x,0} -->\n",
       "<g class=\"node\" id=\"node5\"><title>GpuDimShuffle{x,0}</title>\n",
       "<ellipse cx=\"335\" cy=\"-282\" fill=\"none\" rx=\"87.613\" ry=\"18\" stroke=\"black\"/>\n",
       "<text font-family=\"Times,serif\" font-size=\"14.00\" text-anchor=\"middle\" x=\"335\" y=\"-278.3\">GpuDimShuffle{x,0}</text>\n",
       "</g>\n",
       "<!-- GpuFromHost&#45;&gt;GpuDimShuffle{x,0} -->\n",
       "<g class=\"edge\" id=\"edge3\"><title>GpuFromHost-&gt;GpuDimShuffle{x,0}</title>\n",
       "<path d=\"M335,-351.597C335,-339.746 335,-323.817 335,-310.292\" fill=\"none\" stroke=\"blue\"/>\n",
       "<polygon fill=\"blue\" points=\"338.5,-310.084 335,-300.084 331.5,-310.084 338.5,-310.084\" stroke=\"blue\"/>\n",
       "<text font-family=\"Times,serif\" font-size=\"14.00\" text-anchor=\"middle\" x=\"430\" y=\"-322.3\">CudaNdarrayType(float32, vector)</text>\n",
       "</g>\n",
       "<!-- name=v TensorType(float32, vector) -->\n",
       "<g class=\"node\" id=\"node2\"><title>name=v TensorType(float32, vector)</title>\n",
       "<polygon fill=\"green\" points=\"444.25,-476 225.75,-476 225.75,-440 444.25,-440 444.25,-476\" stroke=\"black\"/>\n",
       "<text font-family=\"Times,serif\" font-size=\"14.00\" text-anchor=\"middle\" x=\"335\" y=\"-454.3\">name=v TensorType(float32, vector)</text>\n",
       "</g>\n",
       "<!-- name=v TensorType(float32, vector)&#45;&gt;GpuFromHost -->\n",
       "<g class=\"edge\" id=\"edge1\"><title>name=v TensorType(float32, vector)-&gt;GpuFromHost</title>\n",
       "<path d=\"M335,-439.597C335,-427.746 335,-411.817 335,-398.292\" fill=\"none\" stroke=\"black\"/>\n",
       "<polygon fill=\"black\" points=\"338.5,-398.084 335,-388.084 331.5,-398.084 338.5,-398.084\" stroke=\"black\"/>\n",
       "<text font-family=\"Times,serif\" font-size=\"14.00\" text-anchor=\"middle\" x=\"412\" y=\"-410.3\">TensorType(float32, vector)</text>\n",
       "</g>\n",
       "<!-- GpuFromHost id=1 -->\n",
       "<g class=\"node\" id=\"node3\"><title>GpuFromHost id=1</title>\n",
       "<ellipse cx=\"110\" cy=\"-282\" fill=\"red\" rx=\"81.3646\" ry=\"18\" stroke=\"black\"/>\n",
       "<text font-family=\"Times,serif\" font-size=\"14.00\" text-anchor=\"middle\" x=\"110\" y=\"-278.3\">GpuFromHost id=1</text>\n",
       "</g>\n",
       "<!-- GpuElemwise{Add}[(0, 0)] -->\n",
       "<g class=\"node\" id=\"node6\"><title>GpuElemwise{Add}[(0, 0)]</title>\n",
       "<ellipse cx=\"222\" cy=\"-194\" fill=\"#ffaabb\" rx=\"110.235\" ry=\"18\" stroke=\"black\"/>\n",
       "<text font-family=\"Times,serif\" font-size=\"14.00\" text-anchor=\"middle\" x=\"222\" y=\"-190.3\">GpuElemwise{Add}[(0, 0)]</text>\n",
       "</g>\n",
       "<!-- GpuFromHost id=1&#45;&gt;GpuElemwise{Add}[(0, 0)] -->\n",
       "<g class=\"edge\" id=\"edge4\"><title>GpuFromHost id=1-&gt;GpuElemwise{Add}[(0, 0)]</title>\n",
       "<path d=\"M105.62,-263.765C103.949,-253.029 103.89,-239.501 111,-230 116.931,-222.076 124.656,-215.902 133.271,-211.1\" fill=\"none\" stroke=\"red\"/>\n",
       "<polygon fill=\"red\" points=\"135.085,-214.11 142.534,-206.576 132.013,-207.82 135.085,-214.11\" stroke=\"red\"/>\n",
       "<text font-family=\"Times,serif\" font-size=\"14.00\" text-anchor=\"middle\" x=\"212\" y=\"-234.3\">0 CudaNdarrayType(float32, matrix)</text>\n",
       "</g>\n",
       "<!-- name=x TensorType(float32, matrix) -->\n",
       "<g class=\"node\" id=\"node4\"><title>name=x TensorType(float32, matrix)</title>\n",
       "<polygon fill=\"green\" points=\"220.25,-388 -0.25,-388 -0.25,-352 220.25,-352 220.25,-388\" stroke=\"black\"/>\n",
       "<text font-family=\"Times,serif\" font-size=\"14.00\" text-anchor=\"middle\" x=\"110\" y=\"-366.3\">name=x TensorType(float32, matrix)</text>\n",
       "</g>\n",
       "<!-- name=x TensorType(float32, matrix)&#45;&gt;GpuFromHost id=1 -->\n",
       "<g class=\"edge\" id=\"edge2\"><title>name=x TensorType(float32, matrix)-&gt;GpuFromHost id=1</title>\n",
       "<path d=\"M110,-351.597C110,-339.746 110,-323.817 110,-310.292\" fill=\"none\" stroke=\"black\"/>\n",
       "<polygon fill=\"black\" points=\"113.5,-310.084 110,-300.084 106.5,-310.084 113.5,-310.084\" stroke=\"black\"/>\n",
       "<text font-family=\"Times,serif\" font-size=\"14.00\" text-anchor=\"middle\" x=\"188.5\" y=\"-322.3\">TensorType(float32, matrix)</text>\n",
       "</g>\n",
       "<!-- GpuDimShuffle{x,0}&#45;&gt;GpuElemwise{Add}[(0, 0)] -->\n",
       "<g class=\"edge\" id=\"edge5\"><title>GpuDimShuffle{x,0}-&gt;GpuElemwise{Add}[(0, 0)]</title>\n",
       "<path d=\"M331.264,-263.876C328.075,-252.911 322.457,-239.085 313,-230 306.115,-223.385 297.846,-217.986 289.137,-213.589\" fill=\"none\" stroke=\"black\"/>\n",
       "<polygon fill=\"black\" points=\"290.49,-210.358 279.942,-209.359 287.564,-216.718 290.49,-210.358\" stroke=\"black\"/>\n",
       "<text font-family=\"Times,serif\" font-size=\"14.00\" text-anchor=\"middle\" x=\"418.5\" y=\"-234.3\">1 CudaNdarrayType(float32, row)</text>\n",
       "</g>\n",
       "<!-- HostFromGpu -->\n",
       "<g class=\"node\" id=\"node7\"><title>HostFromGpu</title>\n",
       "<ellipse cx=\"222\" cy=\"-106\" fill=\"red\" rx=\"61.6163\" ry=\"18\" stroke=\"black\"/>\n",
       "<text font-family=\"Times,serif\" font-size=\"14.00\" text-anchor=\"middle\" x=\"222\" y=\"-102.3\">HostFromGpu</text>\n",
       "</g>\n",
       "<!-- GpuElemwise{Add}[(0, 0)]&#45;&gt;HostFromGpu -->\n",
       "<g class=\"edge\" id=\"edge6\"><title>GpuElemwise{Add}[(0, 0)]-&gt;HostFromGpu</title>\n",
       "<path d=\"M222,-175.597C222,-163.746 222,-147.817 222,-134.292\" fill=\"none\" stroke=\"black\"/>\n",
       "<polygon fill=\"black\" points=\"225.5,-134.084 222,-124.084 218.5,-134.084 225.5,-134.084\" stroke=\"black\"/>\n",
       "<text font-family=\"Times,serif\" font-size=\"14.00\" text-anchor=\"middle\" x=\"318\" y=\"-146.3\">CudaNdarrayType(float32, matrix)</text>\n",
       "</g>\n",
       "<!-- TensorType(float32, matrix) -->\n",
       "<g class=\"node\" id=\"node8\"><title>TensorType(float32, matrix)</title>\n",
       "<polygon fill=\"blue\" points=\"308.25,-36 135.75,-36 135.75,-0 308.25,-0 308.25,-36\" stroke=\"black\"/>\n",
       "<text font-family=\"Times,serif\" font-size=\"14.00\" text-anchor=\"middle\" x=\"222\" y=\"-14.3\">TensorType(float32, matrix)</text>\n",
       "</g>\n",
       "<!-- HostFromGpu&#45;&gt;TensorType(float32, matrix) -->\n",
       "<g class=\"edge\" id=\"edge7\"><title>HostFromGpu-&gt;TensorType(float32, matrix)</title>\n",
       "<path d=\"M222,-87.5966C222,-75.7459 222,-59.8169 222,-46.2917\" fill=\"none\" stroke=\"black\"/>\n",
       "<polygon fill=\"black\" points=\"225.5,-46.084 222,-36.084 218.5,-46.084 225.5,-46.084\" stroke=\"black\"/>\n",
       "<text font-family=\"Times,serif\" font-size=\"14.00\" text-anchor=\"middle\" x=\"300.5\" y=\"-58.3\">TensorType(float32, matrix)</text>\n",
       "</g>\n",
       "</g>\n",
       "</svg>"
      ],
      "text/plain": [
       "<IPython.core.display.SVG object>"
      ]
     },
     "execution_count": 33,
     "metadata": {},
     "output_type": "execute_result"
    }
   ],
   "source": [
    "f_x_v = theano.function([x,v], x+v)\n",
    "svgdotprint(f_x_v)"
   ]
  },
  {
   "cell_type": "code",
   "execution_count": 34,
   "metadata": {
    "collapsed": false
   },
   "outputs": [
    {
     "data": {
      "text/plain": [
       "Shape: (3, 3)\n",
       "[[ 1.  2.  3.]\n",
       " [ 1.  2.  3.]\n",
       " [ 1.  2.  3.]]"
      ]
     },
     "execution_count": 34,
     "metadata": {},
     "output_type": "execute_result"
    }
   ],
   "source": [
    "f_x_v(np.ones((3,3), dtype=np.float32), np.arange(3, dtype=np.float32))"
   ]
  },
  {
   "cell_type": "code",
   "execution_count": 35,
   "metadata": {
    "collapsed": false
   },
   "outputs": [
    {
     "data": {
      "text/plain": [
       "(True, False)"
      ]
     },
     "execution_count": 35,
     "metadata": {},
     "output_type": "execute_result"
    }
   ],
   "source": [
    "v2 = v.reshape((1,v.shape[0])) #dodanie wymiaru jednostkowego pozwala na broadcasting\n",
    "v2.broadcastable"
   ]
  },
  {
   "cell_type": "code",
   "execution_count": 36,
   "metadata": {
    "collapsed": false
   },
   "outputs": [
    {
     "data": {
      "text/plain": [
       "(False, False)"
      ]
     },
     "execution_count": 36,
     "metadata": {},
     "output_type": "execute_result"
    }
   ],
   "source": [
    "v3 = TT.unbroadcast(v2,0) #teraz nie wolno broadcastować\n",
    "v3.broadcastable"
   ]
  },
  {
   "cell_type": "code",
   "execution_count": 37,
   "metadata": {
    "collapsed": false
   },
   "outputs": [
    {
     "data": {
      "image/svg+xml": [
       "<svg height=\"660pt\" viewBox=\"0.00 0.00 838.00 660.00\" width=\"838pt\" xmlns=\"http://www.w3.org/2000/svg\" xmlns:xlink=\"http://www.w3.org/1999/xlink\">\n",
       "<g class=\"graph\" id=\"graph0\" transform=\"scale(1 1) rotate(0) translate(4 656)\">\n",
       "<title>G</title>\n",
       "<polygon fill=\"white\" points=\"-4,4 -4,-656 834,-656 834,4 -4,4\" stroke=\"none\"/>\n",
       "<!-- Shape -->\n",
       "<g class=\"node\" id=\"node1\"><title>Shape</title>\n",
       "<ellipse cx=\"585\" cy=\"-546\" fill=\"cyan\" rx=\"32.2457\" ry=\"18\" stroke=\"black\"/>\n",
       "<text font-family=\"Times,serif\" font-size=\"14.00\" text-anchor=\"middle\" x=\"585\" y=\"-542.3\">Shape</text>\n",
       "</g>\n",
       "<!-- Subtensor{int64} -->\n",
       "<g class=\"node\" id=\"node5\"><title>Subtensor{int64}</title>\n",
       "<ellipse cx=\"696\" cy=\"-458\" fill=\"#ffaaff\" rx=\"72.192\" ry=\"18\" stroke=\"black\"/>\n",
       "<text font-family=\"Times,serif\" font-size=\"14.00\" text-anchor=\"middle\" x=\"696\" y=\"-454.3\">Subtensor{int64}</text>\n",
       "</g>\n",
       "<!-- Shape&#45;&gt;Subtensor{int64} -->\n",
       "<g class=\"edge\" id=\"edge3\"><title>Shape-&gt;Subtensor{int64}</title>\n",
       "<path d=\"M581.847,-527.665C580.892,-516.889 581.643,-503.354 589,-494 595.204,-486.112 613.65,-478.92 633.517,-473.135\" fill=\"none\" stroke=\"blue\"/>\n",
       "<polygon fill=\"blue\" points=\"634.636,-476.457 643.336,-470.412 632.765,-469.712 634.636,-476.457\" stroke=\"blue\"/>\n",
       "<text font-family=\"Times,serif\" font-size=\"14.00\" text-anchor=\"middle\" x=\"666\" y=\"-498.3\">0 TensorType(int64, vector)</text>\n",
       "</g>\n",
       "<!-- name=v TensorType(float32, vector) -->\n",
       "<g class=\"node\" id=\"node2\"><title>name=v TensorType(float32, vector)</title>\n",
       "<polygon fill=\"green\" points=\"434.25,-652 215.75,-652 215.75,-616 434.25,-616 434.25,-652\" stroke=\"black\"/>\n",
       "<text font-family=\"Times,serif\" font-size=\"14.00\" text-anchor=\"middle\" x=\"325\" y=\"-630.3\">name=v TensorType(float32, vector)</text>\n",
       "</g>\n",
       "<!-- name=v TensorType(float32, vector)&#45;&gt;Shape -->\n",
       "<g class=\"edge\" id=\"edge1\"><title>name=v TensorType(float32, vector)-&gt;Shape</title>\n",
       "<path d=\"M377.261,-615.993C419.779,-602.118 481.315,-581.945 535,-564 539.374,-562.538 543.959,-560.994 548.503,-559.457\" fill=\"none\" stroke=\"black\"/>\n",
       "<polygon fill=\"black\" points=\"549.944,-562.665 558.29,-556.138 547.696,-556.036 549.944,-562.665\" stroke=\"black\"/>\n",
       "<text font-family=\"Times,serif\" font-size=\"14.00\" text-anchor=\"middle\" x=\"554\" y=\"-586.3\">TensorType(float32, vector)</text>\n",
       "</g>\n",
       "<!-- Reshape{2} -->\n",
       "<g class=\"node\" id=\"node8\"><title>Reshape{2}</title>\n",
       "<ellipse cx=\"306\" cy=\"-282\" fill=\"none\" rx=\"53.4184\" ry=\"18\" stroke=\"black\"/>\n",
       "<text font-family=\"Times,serif\" font-size=\"14.00\" text-anchor=\"middle\" x=\"306\" y=\"-278.3\">Reshape{2}</text>\n",
       "</g>\n",
       "<!-- name=v TensorType(float32, vector)&#45;&gt;Reshape{2} -->\n",
       "<g class=\"edge\" id=\"edge7\"><title>name=v TensorType(float32, vector)-&gt;Reshape{2}</title>\n",
       "<path d=\"M284.144,-615.889C257.635,-601.761 228,-578.846 228,-547 228,-547 228,-547 228,-369 228,-341.363 250.374,-318.661 271.156,-303.535\" fill=\"none\" stroke=\"blue\"/>\n",
       "<polygon fill=\"blue\" points=\"273.344,-306.278 279.593,-297.721 269.372,-300.514 273.344,-306.278\" stroke=\"blue\"/>\n",
       "<text font-family=\"Times,serif\" font-size=\"14.00\" text-anchor=\"middle\" x=\"310.5\" y=\"-454.3\">0 TensorType(float32, vector)</text>\n",
       "</g>\n",
       "<!-- Elemwise{Cast{int64}} -->\n",
       "<g class=\"node\" id=\"node3\"><title>Elemwise{Cast{int64}}</title>\n",
       "<ellipse cx=\"508\" cy=\"-458\" fill=\"#ffaabb\" rx=\"96.2631\" ry=\"18\" stroke=\"black\"/>\n",
       "<text font-family=\"Times,serif\" font-size=\"14.00\" text-anchor=\"middle\" x=\"508\" y=\"-454.3\">Elemwise{Cast{int64}}</text>\n",
       "</g>\n",
       "<!-- MakeVector -->\n",
       "<g class=\"node\" id=\"node7\"><title>MakeVector</title>\n",
       "<ellipse cx=\"508\" cy=\"-370\" fill=\"none\" rx=\"55.3682\" ry=\"18\" stroke=\"black\"/>\n",
       "<text font-family=\"Times,serif\" font-size=\"14.00\" text-anchor=\"middle\" x=\"508\" y=\"-366.3\">MakeVector</text>\n",
       "</g>\n",
       "<!-- Elemwise{Cast{int64}}&#45;&gt;MakeVector -->\n",
       "<g class=\"edge\" id=\"edge5\"><title>Elemwise{Cast{int64}}-&gt;MakeVector</title>\n",
       "<path d=\"M508,-439.597C508,-427.746 508,-411.817 508,-398.292\" fill=\"none\" stroke=\"black\"/>\n",
       "<polygon fill=\"black\" points=\"511.5,-398.084 508,-388.084 504.5,-398.084 511.5,-398.084\" stroke=\"black\"/>\n",
       "<text font-family=\"Times,serif\" font-size=\"14.00\" text-anchor=\"middle\" x=\"584\" y=\"-410.3\">0 TensorType(int64, scalar)</text>\n",
       "</g>\n",
       "<!-- val=1 TensorType(int8, scalar) -->\n",
       "<g class=\"node\" id=\"node4\"><title>val=1 TensorType(int8, scalar)</title>\n",
       "<polygon fill=\"green\" points=\"526.5,-564 341.5,-564 341.5,-528 526.5,-528 526.5,-564\" stroke=\"black\"/>\n",
       "<text font-family=\"Times,serif\" font-size=\"14.00\" text-anchor=\"middle\" x=\"434\" y=\"-542.3\">val=1 TensorType(int8, scalar)</text>\n",
       "</g>\n",
       "<!-- val=1 TensorType(int8, scalar)&#45;&gt;Elemwise{Cast{int64}} -->\n",
       "<g class=\"edge\" id=\"edge2\"><title>val=1 TensorType(int8, scalar)-&gt;Elemwise{Cast{int64}}</title>\n",
       "<path d=\"M430.025,-527.615C428.607,-517.083 428.675,-503.831 435,-494 438.781,-488.123 443.846,-483.209 449.555,-479.105\" fill=\"none\" stroke=\"black\"/>\n",
       "<polygon fill=\"black\" points=\"451.668,-481.912 458.305,-473.654 447.967,-475.971 451.668,-481.912\" stroke=\"black\"/>\n",
       "<text font-family=\"Times,serif\" font-size=\"14.00\" text-anchor=\"middle\" x=\"502.5\" y=\"-498.3\">TensorType(int8, scalar)</text>\n",
       "</g>\n",
       "<!-- Subtensor{int64}&#45;&gt;MakeVector -->\n",
       "<g class=\"edge\" id=\"edge6\"><title>Subtensor{int64}-&gt;MakeVector</title>\n",
       "<path d=\"M689.378,-439.791C684.156,-428.499 675.777,-414.329 664,-406 637.532,-387.281 602.743,-378.357 572.736,-374.187\" fill=\"none\" stroke=\"black\"/>\n",
       "<polygon fill=\"black\" points=\"573.117,-370.707 562.762,-372.948 572.254,-377.654 573.117,-370.707\" stroke=\"black\"/>\n",
       "<text font-family=\"Times,serif\" font-size=\"14.00\" text-anchor=\"middle\" x=\"754\" y=\"-410.3\">1 TensorType(int64, scalar)</text>\n",
       "</g>\n",
       "<!-- val=0 int64 -->\n",
       "<g class=\"node\" id=\"node6\"><title>val=0 int64</title>\n",
       "<polygon fill=\"green\" points=\"809,-564 729,-564 729,-528 809,-528 809,-564\" stroke=\"black\"/>\n",
       "<text font-family=\"Times,serif\" font-size=\"14.00\" text-anchor=\"middle\" x=\"769\" y=\"-542.3\">val=0 int64</text>\n",
       "</g>\n",
       "<!-- val=0 int64&#45;&gt;Subtensor{int64} -->\n",
       "<g class=\"edge\" id=\"edge4\"><title>val=0 int64-&gt;Subtensor{int64}</title>\n",
       "<path d=\"M764.206,-527.614C760.682,-517.083 755.085,-503.831 747,-494 742.971,-489.101 738.087,-484.6 732.956,-480.574\" fill=\"none\" stroke=\"black\"/>\n",
       "<polygon fill=\"black\" points=\"734.929,-477.681 724.778,-474.648 730.822,-483.35 734.929,-477.681\" stroke=\"black\"/>\n",
       "<text font-family=\"Times,serif\" font-size=\"14.00\" text-anchor=\"middle\" x=\"775.5\" y=\"-498.3\">1 int64</text>\n",
       "</g>\n",
       "<!-- MakeVector&#45;&gt;Reshape{2} -->\n",
       "<g class=\"edge\" id=\"edge8\"><title>MakeVector-&gt;Reshape{2}</title>\n",
       "<path d=\"M475.545,-355.183C440.589,-340.3 384.892,-316.588 346.949,-300.434\" fill=\"none\" stroke=\"black\"/>\n",
       "<polygon fill=\"black\" points=\"348.28,-297.197 337.708,-296.5 345.538,-303.637 348.28,-297.197\" stroke=\"black\"/>\n",
       "<text font-family=\"Times,serif\" font-size=\"14.00\" text-anchor=\"middle\" x=\"502\" y=\"-322.3\">1 TensorType(int64, vector)</text>\n",
       "</g>\n",
       "<!-- Rebroadcast{0} -->\n",
       "<g class=\"node\" id=\"node9\"><title>Rebroadcast{0}</title>\n",
       "<ellipse cx=\"306\" cy=\"-194\" fill=\"none\" rx=\"67.3907\" ry=\"18\" stroke=\"black\"/>\n",
       "<text font-family=\"Times,serif\" font-size=\"14.00\" text-anchor=\"middle\" x=\"306\" y=\"-190.3\">Rebroadcast{0}</text>\n",
       "</g>\n",
       "<!-- Reshape{2}&#45;&gt;Rebroadcast{0} -->\n",
       "<g class=\"edge\" id=\"edge9\"><title>Reshape{2}-&gt;Rebroadcast{0}</title>\n",
       "<path d=\"M306,-263.597C306,-251.746 306,-235.817 306,-222.292\" fill=\"none\" stroke=\"blue\"/>\n",
       "<polygon fill=\"blue\" points=\"309.5,-222.084 306,-212.084 302.5,-222.084 309.5,-222.084\" stroke=\"blue\"/>\n",
       "<text font-family=\"Times,serif\" font-size=\"14.00\" text-anchor=\"middle\" x=\"377\" y=\"-234.3\">TensorType(float32, row)</text>\n",
       "</g>\n",
       "<!-- Elemwise{add,no_inplace} -->\n",
       "<g class=\"node\" id=\"node10\"><title>Elemwise{add,no_inplace}</title>\n",
       "<ellipse cx=\"206\" cy=\"-106\" fill=\"#ffaabb\" rx=\"108.31\" ry=\"18\" stroke=\"black\"/>\n",
       "<text font-family=\"Times,serif\" font-size=\"14.00\" text-anchor=\"middle\" x=\"206\" y=\"-102.3\">Elemwise{add,no_inplace}</text>\n",
       "</g>\n",
       "<!-- Rebroadcast{0}&#45;&gt;Elemwise{add,no_inplace} -->\n",
       "<g class=\"edge\" id=\"edge11\"><title>Rebroadcast{0}-&gt;Elemwise{add,no_inplace}</title>\n",
       "<path d=\"M300.805,-175.596C296.84,-164.793 290.432,-151.253 281,-142 275.23,-136.34 268.375,-131.477 261.19,-127.335\" fill=\"none\" stroke=\"black\"/>\n",
       "<polygon fill=\"black\" points=\"262.447,-124.041 251.97,-122.468 259.179,-130.231 262.447,-124.041\" stroke=\"black\"/>\n",
       "<text font-family=\"Times,serif\" font-size=\"14.00\" text-anchor=\"middle\" x=\"376.5\" y=\"-146.3\">1 TensorType(float32, matrix)</text>\n",
       "</g>\n",
       "<!-- TensorType(float32, matrix) id=10 -->\n",
       "<g class=\"node\" id=\"node12\"><title>TensorType(float32, matrix) id=10</title>\n",
       "<polygon fill=\"blue\" points=\"310.25,-36 101.75,-36 101.75,-0 310.25,-0 310.25,-36\" stroke=\"black\"/>\n",
       "<text font-family=\"Times,serif\" font-size=\"14.00\" text-anchor=\"middle\" x=\"206\" y=\"-14.3\">TensorType(float32, matrix) id=10</text>\n",
       "</g>\n",
       "<!-- Elemwise{add,no_inplace}&#45;&gt;TensorType(float32, matrix) id=10 -->\n",
       "<g class=\"edge\" id=\"edge12\"><title>Elemwise{add,no_inplace}-&gt;TensorType(float32, matrix) id=10</title>\n",
       "<path d=\"M206,-87.5966C206,-75.7459 206,-59.8169 206,-46.2917\" fill=\"none\" stroke=\"black\"/>\n",
       "<polygon fill=\"black\" points=\"209.5,-46.084 206,-36.084 202.5,-46.084 209.5,-46.084\" stroke=\"black\"/>\n",
       "<text font-family=\"Times,serif\" font-size=\"14.00\" text-anchor=\"middle\" x=\"284.5\" y=\"-58.3\">TensorType(float32, matrix)</text>\n",
       "</g>\n",
       "<!-- name=x TensorType(float32, matrix) -->\n",
       "<g class=\"node\" id=\"node11\"><title>name=x TensorType(float32, matrix)</title>\n",
       "<polygon fill=\"green\" points=\"220.25,-212 -0.25,-212 -0.25,-176 220.25,-176 220.25,-212\" stroke=\"black\"/>\n",
       "<text font-family=\"Times,serif\" font-size=\"14.00\" text-anchor=\"middle\" x=\"110\" y=\"-190.3\">name=x TensorType(float32, matrix)</text>\n",
       "</g>\n",
       "<!-- name=x TensorType(float32, matrix)&#45;&gt;Elemwise{add,no_inplace} -->\n",
       "<g class=\"edge\" id=\"edge10\"><title>name=x TensorType(float32, matrix)-&gt;Elemwise{add,no_inplace}</title>\n",
       "<path d=\"M106.999,-175.782C106.105,-165.053 106.866,-151.526 114,-142 119.08,-135.216 125.645,-129.747 132.928,-125.338\" fill=\"none\" stroke=\"black\"/>\n",
       "<polygon fill=\"black\" points=\"134.58,-128.424 141.762,-120.634 131.29,-122.245 134.58,-128.424\" stroke=\"black\"/>\n",
       "<text font-family=\"Times,serif\" font-size=\"14.00\" text-anchor=\"middle\" x=\"197.5\" y=\"-146.3\">0 TensorType(float32, matrix)</text>\n",
       "</g>\n",
       "</g>\n",
       "</svg>"
      ],
      "text/plain": [
       "<IPython.core.display.SVG object>"
      ]
     },
     "execution_count": 37,
     "metadata": {},
     "output_type": "execute_result"
    }
   ],
   "source": [
    "svgdotprint(x+v3)"
   ]
  },
  {
   "cell_type": "code",
   "execution_count": 38,
   "metadata": {
    "collapsed": false
   },
   "outputs": [
    {
     "data": {
      "image/svg+xml": [
       "<svg height=\"680pt\" viewBox=\"0.00 0.00 647.00 680.00\" width=\"647pt\" xmlns=\"http://www.w3.org/2000/svg\" xmlns:xlink=\"http://www.w3.org/1999/xlink\">\n",
       "<g class=\"graph\" id=\"graph0\" transform=\"scale(1 1) rotate(0) translate(4 676)\">\n",
       "<title>G</title>\n",
       "<polygon fill=\"white\" points=\"-4,4 -4,-676 643,-676 643,4 -4,4\" stroke=\"none\"/>\n",
       "<!-- Shape_i{0} -->\n",
       "<g class=\"node\" id=\"node1\"><title>Shape_i{0}</title>\n",
       "<ellipse cx=\"51\" cy=\"-566\" fill=\"cyan\" rx=\"51.4931\" ry=\"18\" stroke=\"black\"/>\n",
       "<text font-family=\"Times,serif\" font-size=\"14.00\" text-anchor=\"middle\" x=\"51\" y=\"-562.3\">Shape_i{0}</text>\n",
       "</g>\n",
       "<!-- MakeVector -->\n",
       "<g class=\"node\" id=\"node6\"><title>MakeVector</title>\n",
       "<ellipse cx=\"222\" cy=\"-458\" fill=\"none\" rx=\"55.3682\" ry=\"18\" stroke=\"black\"/>\n",
       "<text font-family=\"Times,serif\" font-size=\"14.00\" text-anchor=\"middle\" x=\"222\" y=\"-454.3\">MakeVector</text>\n",
       "</g>\n",
       "<!-- Shape_i{0}&#45;&gt;MakeVector -->\n",
       "<g class=\"edge\" id=\"edge5\"><title>Shape_i{0}-&gt;MakeVector</title>\n",
       "<path d=\"M48.3638,-547.784C46.9539,-531.781 47.7023,-508.322 61,-494 74.4282,-479.537 120.157,-470.497 159.464,-465.236\" fill=\"none\" stroke=\"black\"/>\n",
       "<polygon fill=\"black\" points=\"160.082,-468.685 169.557,-463.946 159.195,-461.742 160.082,-468.685\" stroke=\"black\"/>\n",
       "<text font-family=\"Times,serif\" font-size=\"14.00\" text-anchor=\"middle\" x=\"137\" y=\"-508.3\">1 TensorType(int64, scalar)</text>\n",
       "</g>\n",
       "<!-- name=v TensorType(float32, vector) -->\n",
       "<g class=\"node\" id=\"node2\"><title>name=v TensorType(float32, vector)</title>\n",
       "<polygon fill=\"green\" points=\"373.25,-672 154.75,-672 154.75,-636 373.25,-636 373.25,-672\" stroke=\"black\"/>\n",
       "<text font-family=\"Times,serif\" font-size=\"14.00\" text-anchor=\"middle\" x=\"264\" y=\"-650.3\">name=v TensorType(float32, vector)</text>\n",
       "</g>\n",
       "<!-- name=v TensorType(float32, vector)&#45;&gt;Shape_i{0} -->\n",
       "<g class=\"edge\" id=\"edge1\"><title>name=v TensorType(float32, vector)-&gt;Shape_i{0}</title>\n",
       "<path d=\"M221.663,-635.906C184.354,-620.843 130.296,-599.016 93.0676,-583.985\" fill=\"none\" stroke=\"black\"/>\n",
       "<polygon fill=\"black\" points=\"94.0975,-580.626 83.5144,-580.128 91.4768,-587.117 94.0975,-580.626\" stroke=\"black\"/>\n",
       "<text font-family=\"Times,serif\" font-size=\"14.00\" text-anchor=\"middle\" x=\"254\" y=\"-606.3\">TensorType(float32, vector)</text>\n",
       "</g>\n",
       "<!-- GpuFromHost -->\n",
       "<g class=\"node\" id=\"node3\"><title>GpuFromHost</title>\n",
       "<ellipse cx=\"441\" cy=\"-512\" fill=\"red\" rx=\"61.6163\" ry=\"18\" stroke=\"black\"/>\n",
       "<text font-family=\"Times,serif\" font-size=\"14.00\" text-anchor=\"middle\" x=\"441\" y=\"-508.3\">GpuFromHost</text>\n",
       "</g>\n",
       "<!-- name=v TensorType(float32, vector)&#45;&gt;GpuFromHost -->\n",
       "<g class=\"edge\" id=\"edge2\"><title>name=v TensorType(float32, vector)-&gt;GpuFromHost</title>\n",
       "<path d=\"M304.354,-635.907C314.725,-630.773 325.6,-624.701 335,-618 368.207,-594.327 400.66,-560.059 420.728,-537.181\" fill=\"none\" stroke=\"black\"/>\n",
       "<polygon fill=\"black\" points=\"423.392,-539.451 427.291,-529.6 418.099,-534.87 423.392,-539.451\" stroke=\"black\"/>\n",
       "<text font-family=\"Times,serif\" font-size=\"14.00\" text-anchor=\"middle\" x=\"430\" y=\"-606.3\">TensorType(float32, vector)</text>\n",
       "</g>\n",
       "<!-- GpuReshape{2} -->\n",
       "<g class=\"node\" id=\"node8\"><title>GpuReshape{2}</title>\n",
       "<ellipse cx=\"338\" cy=\"-370\" fill=\"none\" rx=\"68.3417\" ry=\"18\" stroke=\"black\"/>\n",
       "<text font-family=\"Times,serif\" font-size=\"14.00\" text-anchor=\"middle\" x=\"338\" y=\"-366.3\">GpuReshape{2}</text>\n",
       "</g>\n",
       "<!-- GpuFromHost&#45;&gt;GpuReshape{2} -->\n",
       "<g class=\"edge\" id=\"edge6\"><title>GpuFromHost-&gt;GpuReshape{2}</title>\n",
       "<path d=\"M440.94,-493.712C439.973,-471.07 435.105,-431.289 414,-406 407.985,-398.793 400.164,-392.994 391.831,-388.351\" fill=\"none\" stroke=\"blue\"/>\n",
       "<polygon fill=\"blue\" points=\"393.159,-385.102 382.65,-383.756 390.026,-391.362 393.159,-385.102\" stroke=\"blue\"/>\n",
       "<text font-family=\"Times,serif\" font-size=\"14.00\" text-anchor=\"middle\" x=\"539\" y=\"-454.3\">0 CudaNdarrayType(float32, vector)</text>\n",
       "</g>\n",
       "<!-- GpuFromHost id=2 -->\n",
       "<g class=\"node\" id=\"node4\"><title>GpuFromHost id=2</title>\n",
       "<ellipse cx=\"113\" cy=\"-282\" fill=\"red\" rx=\"81.3646\" ry=\"18\" stroke=\"black\"/>\n",
       "<text font-family=\"Times,serif\" font-size=\"14.00\" text-anchor=\"middle\" x=\"113\" y=\"-278.3\">GpuFromHost id=2</text>\n",
       "</g>\n",
       "<!-- GpuElemwise{Add}[(0, 0)] -->\n",
       "<g class=\"node\" id=\"node10\"><title>GpuElemwise{Add}[(0, 0)]</title>\n",
       "<ellipse cx=\"225\" cy=\"-194\" fill=\"#ffaabb\" rx=\"110.235\" ry=\"18\" stroke=\"black\"/>\n",
       "<text font-family=\"Times,serif\" font-size=\"14.00\" text-anchor=\"middle\" x=\"225\" y=\"-190.3\">GpuElemwise{Add}[(0, 0)]</text>\n",
       "</g>\n",
       "<!-- GpuFromHost id=2&#45;&gt;GpuElemwise{Add}[(0, 0)] -->\n",
       "<g class=\"edge\" id=\"edge9\"><title>GpuFromHost id=2-&gt;GpuElemwise{Add}[(0, 0)]</title>\n",
       "<path d=\"M108.62,-263.765C106.949,-253.029 106.89,-239.501 114,-230 119.931,-222.076 127.656,-215.902 136.271,-211.1\" fill=\"none\" stroke=\"red\"/>\n",
       "<polygon fill=\"red\" points=\"138.085,-214.11 145.534,-206.576 135.013,-207.82 138.085,-214.11\" stroke=\"red\"/>\n",
       "<text font-family=\"Times,serif\" font-size=\"14.00\" text-anchor=\"middle\" x=\"215\" y=\"-234.3\">0 CudaNdarrayType(float32, matrix)</text>\n",
       "</g>\n",
       "<!-- name=x TensorType(float32, matrix) -->\n",
       "<g class=\"node\" id=\"node5\"><title>name=x TensorType(float32, matrix)</title>\n",
       "<polygon fill=\"green\" points=\"223.25,-388 2.75,-388 2.75,-352 223.25,-352 223.25,-388\" stroke=\"black\"/>\n",
       "<text font-family=\"Times,serif\" font-size=\"14.00\" text-anchor=\"middle\" x=\"113\" y=\"-366.3\">name=x TensorType(float32, matrix)</text>\n",
       "</g>\n",
       "<!-- name=x TensorType(float32, matrix)&#45;&gt;GpuFromHost id=2 -->\n",
       "<g class=\"edge\" id=\"edge3\"><title>name=x TensorType(float32, matrix)-&gt;GpuFromHost id=2</title>\n",
       "<path d=\"M113,-351.597C113,-339.746 113,-323.817 113,-310.292\" fill=\"none\" stroke=\"black\"/>\n",
       "<polygon fill=\"black\" points=\"116.5,-310.084 113,-300.084 109.5,-310.084 116.5,-310.084\" stroke=\"black\"/>\n",
       "<text font-family=\"Times,serif\" font-size=\"14.00\" text-anchor=\"middle\" x=\"191.5\" y=\"-322.3\">TensorType(float32, matrix)</text>\n",
       "</g>\n",
       "<!-- MakeVector&#45;&gt;GpuReshape{2} -->\n",
       "<g class=\"edge\" id=\"edge7\"><title>MakeVector-&gt;GpuReshape{2}</title>\n",
       "<path d=\"M231.5,-440.082C238.294,-429.203 248.287,-415.397 260,-406 268.335,-399.313 278.15,-393.62 287.955,-388.889\" fill=\"none\" stroke=\"black\"/>\n",
       "<polygon fill=\"black\" points=\"289.642,-391.967 297.303,-384.648 286.75,-385.592 289.642,-391.967\" stroke=\"black\"/>\n",
       "<text font-family=\"Times,serif\" font-size=\"14.00\" text-anchor=\"middle\" x=\"337\" y=\"-410.3\">1 TensorType(int64, vector)</text>\n",
       "</g>\n",
       "<!-- val=1 TensorType(int64, scalar) -->\n",
       "<g class=\"node\" id=\"node7\"><title>val=1 TensorType(int64, scalar)</title>\n",
       "<polygon fill=\"green\" points=\"318.25,-584 125.75,-584 125.75,-548 318.25,-548 318.25,-584\" stroke=\"black\"/>\n",
       "<text font-family=\"Times,serif\" font-size=\"14.00\" text-anchor=\"middle\" x=\"222\" y=\"-562.3\">val=1 TensorType(int64, scalar)</text>\n",
       "</g>\n",
       "<!-- val=1 TensorType(int64, scalar)&#45;&gt;MakeVector -->\n",
       "<g class=\"edge\" id=\"edge4\"><title>val=1 TensorType(int64, scalar)-&gt;MakeVector</title>\n",
       "<path d=\"M219.657,-547.944C218.98,-542.249 218.334,-535.862 218,-530 217.09,-514.026 217.09,-509.974 218,-494 218.146,-491.435 218.352,-488.77 218.594,-486.107\" fill=\"none\" stroke=\"black\"/>\n",
       "<polygon fill=\"black\" points=\"222.086,-486.369 219.657,-476.056 215.124,-485.633 222.086,-486.369\" stroke=\"black\"/>\n",
       "<text font-family=\"Times,serif\" font-size=\"14.00\" text-anchor=\"middle\" x=\"294\" y=\"-508.3\">0 TensorType(int64, scalar)</text>\n",
       "</g>\n",
       "<!-- Rebroadcast{0} -->\n",
       "<g class=\"node\" id=\"node9\"><title>Rebroadcast{0}</title>\n",
       "<ellipse cx=\"338\" cy=\"-282\" fill=\"none\" rx=\"67.3907\" ry=\"18\" stroke=\"black\"/>\n",
       "<text font-family=\"Times,serif\" font-size=\"14.00\" text-anchor=\"middle\" x=\"338\" y=\"-278.3\">Rebroadcast{0}</text>\n",
       "</g>\n",
       "<!-- GpuReshape{2}&#45;&gt;Rebroadcast{0} -->\n",
       "<g class=\"edge\" id=\"edge8\"><title>GpuReshape{2}-&gt;Rebroadcast{0}</title>\n",
       "<path d=\"M338,-351.597C338,-339.746 338,-323.817 338,-310.292\" fill=\"none\" stroke=\"blue\"/>\n",
       "<polygon fill=\"blue\" points=\"341.5,-310.084 338,-300.084 334.5,-310.084 341.5,-310.084\" stroke=\"blue\"/>\n",
       "<text font-family=\"Times,serif\" font-size=\"14.00\" text-anchor=\"middle\" x=\"426.5\" y=\"-322.3\">CudaNdarrayType(float32, row)</text>\n",
       "</g>\n",
       "<!-- Rebroadcast{0}&#45;&gt;GpuElemwise{Add}[(0, 0)] -->\n",
       "<g class=\"edge\" id=\"edge10\"><title>Rebroadcast{0}-&gt;GpuElemwise{Add}[(0, 0)]</title>\n",
       "<path d=\"M334.264,-263.876C331.075,-252.911 325.457,-239.085 316,-230 309.115,-223.385 300.846,-217.986 292.137,-213.589\" fill=\"none\" stroke=\"black\"/>\n",
       "<polygon fill=\"black\" points=\"293.49,-210.358 282.942,-209.359 290.564,-216.718 293.49,-210.358\" stroke=\"black\"/>\n",
       "<text font-family=\"Times,serif\" font-size=\"14.00\" text-anchor=\"middle\" x=\"428\" y=\"-234.3\">1 CudaNdarrayType(float32, matrix)</text>\n",
       "</g>\n",
       "<!-- HostFromGpu -->\n",
       "<g class=\"node\" id=\"node11\"><title>HostFromGpu</title>\n",
       "<ellipse cx=\"225\" cy=\"-106\" fill=\"red\" rx=\"61.6163\" ry=\"18\" stroke=\"black\"/>\n",
       "<text font-family=\"Times,serif\" font-size=\"14.00\" text-anchor=\"middle\" x=\"225\" y=\"-102.3\">HostFromGpu</text>\n",
       "</g>\n",
       "<!-- GpuElemwise{Add}[(0, 0)]&#45;&gt;HostFromGpu -->\n",
       "<g class=\"edge\" id=\"edge11\"><title>GpuElemwise{Add}[(0, 0)]-&gt;HostFromGpu</title>\n",
       "<path d=\"M225,-175.597C225,-163.746 225,-147.817 225,-134.292\" fill=\"none\" stroke=\"black\"/>\n",
       "<polygon fill=\"black\" points=\"228.5,-134.084 225,-124.084 221.5,-134.084 228.5,-134.084\" stroke=\"black\"/>\n",
       "<text font-family=\"Times,serif\" font-size=\"14.00\" text-anchor=\"middle\" x=\"321\" y=\"-146.3\">CudaNdarrayType(float32, matrix)</text>\n",
       "</g>\n",
       "<!-- TensorType(float32, matrix) -->\n",
       "<g class=\"node\" id=\"node12\"><title>TensorType(float32, matrix)</title>\n",
       "<polygon fill=\"blue\" points=\"311.25,-36 138.75,-36 138.75,-0 311.25,-0 311.25,-36\" stroke=\"black\"/>\n",
       "<text font-family=\"Times,serif\" font-size=\"14.00\" text-anchor=\"middle\" x=\"225\" y=\"-14.3\">TensorType(float32, matrix)</text>\n",
       "</g>\n",
       "<!-- HostFromGpu&#45;&gt;TensorType(float32, matrix) -->\n",
       "<g class=\"edge\" id=\"edge12\"><title>HostFromGpu-&gt;TensorType(float32, matrix)</title>\n",
       "<path d=\"M225,-87.5966C225,-75.7459 225,-59.8169 225,-46.2917\" fill=\"none\" stroke=\"black\"/>\n",
       "<polygon fill=\"black\" points=\"228.5,-46.084 225,-36.084 221.5,-46.084 228.5,-46.084\" stroke=\"black\"/>\n",
       "<text font-family=\"Times,serif\" font-size=\"14.00\" text-anchor=\"middle\" x=\"303.5\" y=\"-58.3\">TensorType(float32, matrix)</text>\n",
       "</g>\n",
       "</g>\n",
       "</svg>"
      ],
      "text/plain": [
       "<IPython.core.display.SVG object>"
      ]
     },
     "execution_count": 38,
     "metadata": {},
     "output_type": "execute_result"
    }
   ],
   "source": [
    "f_x_v3 = theano.function([x,v],x+v3)\n",
    "svgdotprint(f_x_v3)"
   ]
  },
  {
   "cell_type": "code",
   "execution_count": 39,
   "metadata": {
    "collapsed": false
   },
   "outputs": [
    {
     "ename": "ValueError",
     "evalue": "GpuElemwise. Input dimension mis-match. Input 1 (indices start at 0) has shape[0] == 1, but the output's size on that axis is 2.\nApply node that caused the error: GpuElemwise{Add}[(0, 0)](GpuFromHost.0, Rebroadcast{0}.0)\nInputs types: [CudaNdarrayType(float32, matrix), CudaNdarrayType(float32, matrix)]\nInputs shapes: [(2, 3), (1, 3)]\nInputs strides: [(3, 1), (0, 1)]\nInputs values: ['not shown', <CudaNdarray object at 0x7f7c5eabaef0>]\n\nHINT: Re-running with most Theano optimization disabled could give you a back-trace of when this node was created. This can be done with by setting the Theano flag 'optimizer=fast_compile'. If that does not work, Theano optimizations can be disabled with 'optimizer=None'.\nHINT: Use the Theano flag 'exception_verbosity=high' for a debugprint and storage map footprint of this apply node.",
     "output_type": "error",
     "traceback": [
      "\u001b[1;31m---------------------------------------------------------------------------\u001b[0m",
      "\u001b[1;31mValueError\u001b[0m                                Traceback (most recent call last)",
      "\u001b[1;32m<ipython-input-39-a3ee014118ee>\u001b[0m in \u001b[0;36m<module>\u001b[1;34m()\u001b[0m\n\u001b[1;32m----> 1\u001b[1;33m \u001b[0mf_x_v3\u001b[0m\u001b[1;33m(\u001b[0m\u001b[0mnp\u001b[0m\u001b[1;33m.\u001b[0m\u001b[0mones\u001b[0m\u001b[1;33m(\u001b[0m\u001b[1;33m(\u001b[0m\u001b[1;36m2\u001b[0m\u001b[1;33m,\u001b[0m\u001b[1;36m3\u001b[0m\u001b[1;33m)\u001b[0m\u001b[1;33m,\u001b[0m \u001b[0mdtype\u001b[0m\u001b[1;33m=\u001b[0m\u001b[0mnp\u001b[0m\u001b[1;33m.\u001b[0m\u001b[0mfloat32\u001b[0m\u001b[1;33m)\u001b[0m\u001b[1;33m,\u001b[0m \u001b[0mnp\u001b[0m\u001b[1;33m.\u001b[0m\u001b[0marange\u001b[0m\u001b[1;33m(\u001b[0m\u001b[1;36m3\u001b[0m\u001b[1;33m,\u001b[0m \u001b[0mdtype\u001b[0m\u001b[1;33m=\u001b[0m\u001b[0mnp\u001b[0m\u001b[1;33m.\u001b[0m\u001b[0mfloat32\u001b[0m\u001b[1;33m)\u001b[0m\u001b[1;33m)\u001b[0m\u001b[1;33m\u001b[0m\u001b[0m\n\u001b[0m",
      "\u001b[1;32m/home/jch/scratch/speech/libs/Theano/theano/compile/function_module.pyc\u001b[0m in \u001b[0;36m__call__\u001b[1;34m(self, *args, **kwargs)\u001b[0m\n\u001b[0;32m    608\u001b[0m                         \u001b[0mself\u001b[0m\u001b[1;33m.\u001b[0m\u001b[0mfn\u001b[0m\u001b[1;33m.\u001b[0m\u001b[0mnodes\u001b[0m\u001b[1;33m[\u001b[0m\u001b[0mself\u001b[0m\u001b[1;33m.\u001b[0m\u001b[0mfn\u001b[0m\u001b[1;33m.\u001b[0m\u001b[0mposition_of_error\u001b[0m\u001b[1;33m]\u001b[0m\u001b[1;33m,\u001b[0m\u001b[1;33m\u001b[0m\u001b[0m\n\u001b[0;32m    609\u001b[0m                         \u001b[0mself\u001b[0m\u001b[1;33m.\u001b[0m\u001b[0mfn\u001b[0m\u001b[1;33m.\u001b[0m\u001b[0mthunks\u001b[0m\u001b[1;33m[\u001b[0m\u001b[0mself\u001b[0m\u001b[1;33m.\u001b[0m\u001b[0mfn\u001b[0m\u001b[1;33m.\u001b[0m\u001b[0mposition_of_error\u001b[0m\u001b[1;33m]\u001b[0m\u001b[1;33m,\u001b[0m\u001b[1;33m\u001b[0m\u001b[0m\n\u001b[1;32m--> 610\u001b[1;33m                         storage_map=self.fn.storage_map)\n\u001b[0m\u001b[0;32m    611\u001b[0m                 \u001b[1;32melse\u001b[0m\u001b[1;33m:\u001b[0m\u001b[1;33m\u001b[0m\u001b[0m\n\u001b[0;32m    612\u001b[0m                     \u001b[1;31m# For the c linker We don't have access from\u001b[0m\u001b[1;33m\u001b[0m\u001b[1;33m\u001b[0m\u001b[0m\n",
      "\u001b[1;32m/home/jch/scratch/speech/libs/Theano/theano/compile/function_module.pyc\u001b[0m in \u001b[0;36m__call__\u001b[1;34m(self, *args, **kwargs)\u001b[0m\n\u001b[0;32m    597\u001b[0m         \u001b[0mt0_fn\u001b[0m \u001b[1;33m=\u001b[0m \u001b[0mtime\u001b[0m\u001b[1;33m.\u001b[0m\u001b[0mtime\u001b[0m\u001b[1;33m(\u001b[0m\u001b[1;33m)\u001b[0m\u001b[1;33m\u001b[0m\u001b[0m\n\u001b[0;32m    598\u001b[0m         \u001b[1;32mtry\u001b[0m\u001b[1;33m:\u001b[0m\u001b[1;33m\u001b[0m\u001b[0m\n\u001b[1;32m--> 599\u001b[1;33m             \u001b[0moutputs\u001b[0m \u001b[1;33m=\u001b[0m \u001b[0mself\u001b[0m\u001b[1;33m.\u001b[0m\u001b[0mfn\u001b[0m\u001b[1;33m(\u001b[0m\u001b[1;33m)\u001b[0m\u001b[1;33m\u001b[0m\u001b[0m\n\u001b[0m\u001b[0;32m    600\u001b[0m         \u001b[1;32mexcept\u001b[0m \u001b[0mException\u001b[0m\u001b[1;33m:\u001b[0m\u001b[1;33m\u001b[0m\u001b[0m\n\u001b[0;32m    601\u001b[0m             \u001b[1;32mif\u001b[0m \u001b[0mhasattr\u001b[0m\u001b[1;33m(\u001b[0m\u001b[0mself\u001b[0m\u001b[1;33m.\u001b[0m\u001b[0mfn\u001b[0m\u001b[1;33m,\u001b[0m \u001b[1;34m'position_of_error'\u001b[0m\u001b[1;33m)\u001b[0m\u001b[1;33m:\u001b[0m\u001b[1;33m\u001b[0m\u001b[0m\n",
      "\u001b[1;31mValueError\u001b[0m: GpuElemwise. Input dimension mis-match. Input 1 (indices start at 0) has shape[0] == 1, but the output's size on that axis is 2.\nApply node that caused the error: GpuElemwise{Add}[(0, 0)](GpuFromHost.0, Rebroadcast{0}.0)\nInputs types: [CudaNdarrayType(float32, matrix), CudaNdarrayType(float32, matrix)]\nInputs shapes: [(2, 3), (1, 3)]\nInputs strides: [(3, 1), (0, 1)]\nInputs values: ['not shown', <CudaNdarray object at 0x7f7c5eabaef0>]\n\nHINT: Re-running with most Theano optimization disabled could give you a back-trace of when this node was created. This can be done with by setting the Theano flag 'optimizer=fast_compile'. If that does not work, Theano optimizations can be disabled with 'optimizer=None'.\nHINT: Use the Theano flag 'exception_verbosity=high' for a debugprint and storage map footprint of this apply node."
     ]
    }
   ],
   "source": [
    "f_x_v3(np.ones((2,3), dtype=np.float32), np.arange(3, dtype=np.float32))"
   ]
  },
  {
   "cell_type": "markdown",
   "metadata": {},
   "source": [
    "## debugowanie w Theano\n",
    "\n",
    "Błędy w kodzie Theano najczęściej wykrywane sa dopiero podczas uruchomienia. Znalezienie błędnej linijki jest wtedy nie lada wyzwaniem. Z pomocą przychodzą wartości testowe - każdą zmienną możemy zaopatrzyć w wartość testową, na której operacje wykonywane są natychmiast:"
   ]
  },
  {
   "cell_type": "code",
   "execution_count": 46,
   "metadata": {
    "collapsed": true
   },
   "outputs": [],
   "source": [
    "theano.config.compute_test_value = 'warn' #błędy w obliczeniach na wartościach testowych wypiszą ostrzeżenia"
   ]
  },
  {
   "cell_type": "code",
   "execution_count": 47,
   "metadata": {
    "collapsed": false
   },
   "outputs": [],
   "source": [
    "x = TT.matrix()\n",
    "x.tag.test_value = np.arange(12.0, dtype=np.float32).reshape(3,4)"
   ]
  },
  {
   "cell_type": "code",
   "execution_count": 48,
   "metadata": {
    "collapsed": false
   },
   "outputs": [
    {
     "data": {
      "text/plain": [
       "Shape: (3, 4)\n",
       "[[  0.   1.   2.   3.]\n",
       " [  4.   5.   6.   7.]\n",
       " [  8.   9.  10.  11.]]"
      ]
     },
     "execution_count": 48,
     "metadata": {},
     "output_type": "execute_result"
    }
   ],
   "source": [
    "x.tag.test_value"
   ]
  },
  {
   "cell_type": "code",
   "execution_count": 49,
   "metadata": {
    "collapsed": true
   },
   "outputs": [],
   "source": [
    "v = TT.vector()\n",
    "v.tag.test_value = np.arange(3., dtype=np.float32)/10"
   ]
  },
  {
   "cell_type": "code",
   "execution_count": 50,
   "metadata": {
    "collapsed": false
   },
   "outputs": [
    {
     "ename": "ValueError",
     "evalue": "Input dimension mis-match. (input[0].shape[1] = 4, input[1].shape[1] = 3)",
     "output_type": "error",
     "traceback": [
      "\u001b[1;31m---------------------------------------------------------------------------\u001b[0m",
      "\u001b[1;31mValueError\u001b[0m                                Traceback (most recent call last)",
      "\u001b[1;32m<ipython-input-50-6f2ff07409c4>\u001b[0m in \u001b[0;36m<module>\u001b[1;34m()\u001b[0m\n\u001b[1;32m----> 1\u001b[1;33m \u001b[0mx\u001b[0m\u001b[1;33m+\u001b[0m\u001b[0mv\u001b[0m \u001b[1;31m#teraz szybko łapiemy błędy\u001b[0m\u001b[1;33m\u001b[0m\u001b[0m\n\u001b[0m",
      "\u001b[1;32m/home/jch/scratch/speech/libs/Theano/theano/tensor/var.pyc\u001b[0m in \u001b[0;36m__add__\u001b[1;34m(self, other)\u001b[0m\n\u001b[0;32m    126\u001b[0m     \u001b[1;32mdef\u001b[0m \u001b[0m__add__\u001b[0m\u001b[1;33m(\u001b[0m\u001b[0mself\u001b[0m\u001b[1;33m,\u001b[0m \u001b[0mother\u001b[0m\u001b[1;33m)\u001b[0m\u001b[1;33m:\u001b[0m\u001b[1;33m\u001b[0m\u001b[0m\n\u001b[0;32m    127\u001b[0m         \u001b[1;32mtry\u001b[0m\u001b[1;33m:\u001b[0m\u001b[1;33m\u001b[0m\u001b[0m\n\u001b[1;32m--> 128\u001b[1;33m             \u001b[1;32mreturn\u001b[0m \u001b[0mtheano\u001b[0m\u001b[1;33m.\u001b[0m\u001b[0mtensor\u001b[0m\u001b[1;33m.\u001b[0m\u001b[0mbasic\u001b[0m\u001b[1;33m.\u001b[0m\u001b[0madd\u001b[0m\u001b[1;33m(\u001b[0m\u001b[0mself\u001b[0m\u001b[1;33m,\u001b[0m \u001b[0mother\u001b[0m\u001b[1;33m)\u001b[0m\u001b[1;33m\u001b[0m\u001b[0m\n\u001b[0m\u001b[0;32m    129\u001b[0m         \u001b[1;31m# We should catch the minimum number of exception here.\u001b[0m\u001b[1;33m\u001b[0m\u001b[1;33m\u001b[0m\u001b[0m\n\u001b[0;32m    130\u001b[0m         \u001b[1;31m# Otherwise this will convert error when Theano flags\u001b[0m\u001b[1;33m\u001b[0m\u001b[1;33m\u001b[0m\u001b[0m\n",
      "\u001b[1;32m/home/jch/scratch/speech/libs/Theano/theano/gof/op.pyc\u001b[0m in \u001b[0;36m__call__\u001b[1;34m(self, *inputs, **kwargs)\u001b[0m\n\u001b[0;32m    556\u001b[0m                 \u001b[0mthunk\u001b[0m\u001b[1;33m.\u001b[0m\u001b[0moutputs\u001b[0m \u001b[1;33m=\u001b[0m \u001b[1;33m[\u001b[0m\u001b[0mstorage_map\u001b[0m\u001b[1;33m[\u001b[0m\u001b[0mv\u001b[0m\u001b[1;33m]\u001b[0m \u001b[1;32mfor\u001b[0m \u001b[0mv\u001b[0m \u001b[1;32min\u001b[0m \u001b[0mnode\u001b[0m\u001b[1;33m.\u001b[0m\u001b[0moutputs\u001b[0m\u001b[1;33m]\u001b[0m\u001b[1;33m\u001b[0m\u001b[0m\n\u001b[0;32m    557\u001b[0m \u001b[1;33m\u001b[0m\u001b[0m\n\u001b[1;32m--> 558\u001b[1;33m                 \u001b[0mrequired\u001b[0m \u001b[1;33m=\u001b[0m \u001b[0mthunk\u001b[0m\u001b[1;33m(\u001b[0m\u001b[1;33m)\u001b[0m\u001b[1;33m\u001b[0m\u001b[0m\n\u001b[0m\u001b[0;32m    559\u001b[0m                 \u001b[1;32massert\u001b[0m \u001b[1;32mnot\u001b[0m \u001b[0mrequired\u001b[0m  \u001b[1;31m# We provided all inputs\u001b[0m\u001b[1;33m\u001b[0m\u001b[0m\n\u001b[0;32m    560\u001b[0m \u001b[1;33m\u001b[0m\u001b[0m\n",
      "\u001b[1;32m/home/jch/scratch/speech/libs/Theano/theano/gof/op.pyc\u001b[0m in \u001b[0;36mrval\u001b[1;34m()\u001b[0m\n\u001b[0;32m    755\u001b[0m \u001b[1;33m\u001b[0m\u001b[0m\n\u001b[0;32m    756\u001b[0m                 \u001b[1;32mdef\u001b[0m \u001b[0mrval\u001b[0m\u001b[1;33m(\u001b[0m\u001b[1;33m)\u001b[0m\u001b[1;33m:\u001b[0m\u001b[1;33m\u001b[0m\u001b[0m\n\u001b[1;32m--> 757\u001b[1;33m                     \u001b[0mfill_storage\u001b[0m\u001b[1;33m(\u001b[0m\u001b[1;33m)\u001b[0m\u001b[1;33m\u001b[0m\u001b[0m\n\u001b[0m\u001b[0;32m    758\u001b[0m                     \u001b[1;32mfor\u001b[0m \u001b[0mo\u001b[0m \u001b[1;32min\u001b[0m \u001b[0mnode\u001b[0m\u001b[1;33m.\u001b[0m\u001b[0moutputs\u001b[0m\u001b[1;33m:\u001b[0m\u001b[1;33m\u001b[0m\u001b[0m\n\u001b[0;32m    759\u001b[0m                         \u001b[0mcompute_map\u001b[0m\u001b[1;33m[\u001b[0m\u001b[0mo\u001b[0m\u001b[1;33m]\u001b[0m\u001b[1;33m[\u001b[0m\u001b[1;36m0\u001b[0m\u001b[1;33m]\u001b[0m \u001b[1;33m=\u001b[0m \u001b[0mTrue\u001b[0m\u001b[1;33m\u001b[0m\u001b[0m\n",
      "\u001b[1;32m/home/jch/scratch/speech/libs/Theano/theano/gof/cc.pyc\u001b[0m in \u001b[0;36m__call__\u001b[1;34m(self)\u001b[0m\n\u001b[0;32m   1538\u001b[0m                 \u001b[1;32mraise\u001b[0m\u001b[1;33m\u001b[0m\u001b[0m\n\u001b[0;32m   1539\u001b[0m \u001b[1;33m\u001b[0m\u001b[0m\n\u001b[1;32m-> 1540\u001b[1;33m             \u001b[1;32mraise\u001b[0m \u001b[0mexc_type\u001b[0m\u001b[1;33m,\u001b[0m \u001b[0mexc_value\u001b[0m\u001b[1;33m,\u001b[0m \u001b[0mexc_trace\u001b[0m\u001b[1;33m\u001b[0m\u001b[0m\n\u001b[0m\u001b[0;32m   1541\u001b[0m \u001b[1;33m\u001b[0m\u001b[0m\n\u001b[0;32m   1542\u001b[0m \u001b[1;33m\u001b[0m\u001b[0m\n",
      "\u001b[1;31mValueError\u001b[0m: Input dimension mis-match. (input[0].shape[1] = 4, input[1].shape[1] = 3)"
     ]
    }
   ],
   "source": [
    "x+v #teraz szybko łapiemy błędy"
   ]
  },
  {
   "cell_type": "code",
   "execution_count": 51,
   "metadata": {
    "collapsed": false
   },
   "outputs": [
    {
     "data": {
      "text/plain": [
       "Shape: (3, 4)\n",
       "[[  0.           1.           2.           3.        ]\n",
       " [  4.0999999    5.0999999    6.0999999    7.0999999 ]\n",
       " [  8.19999981   9.19999981  10.19999981  11.19999981]]"
      ]
     },
     "execution_count": 51,
     "metadata": {},
     "output_type": "execute_result"
    }
   ],
   "source": [
    "z = x + v.dimshuffle(0,'x')\n",
    "z.tag.test_value"
   ]
  },
  {
   "cell_type": "markdown",
   "metadata": {},
   "source": [
    "## Theano umie różniczkować"
   ]
  },
  {
   "cell_type": "code",
   "execution_count": 52,
   "metadata": {
    "collapsed": true
   },
   "outputs": [],
   "source": [
    "theano.config.compute_test_value = 'off' #wyłaczamy"
   ]
  },
  {
   "cell_type": "code",
   "execution_count": 53,
   "metadata": {
    "collapsed": true
   },
   "outputs": [],
   "source": [
    "x = TT.scalar('x')"
   ]
  },
  {
   "cell_type": "code",
   "execution_count": 54,
   "metadata": {
    "collapsed": false
   },
   "outputs": [],
   "source": [
    "y = x**2 "
   ]
  },
  {
   "cell_type": "code",
   "execution_count": 55,
   "metadata": {
    "collapsed": true
   },
   "outputs": [],
   "source": [
    "dy_dx = TT.grad(y,x)"
   ]
  },
  {
   "cell_type": "code",
   "execution_count": 56,
   "metadata": {
    "collapsed": false
   },
   "outputs": [
    {
     "data": {
      "text/plain": [
       "'((fill((x ** TensorConstant{2}), TensorConstant{1.0}) * TensorConstant{2}) * (x ** (TensorConstant{2} - TensorConstant{1})))'"
      ]
     },
     "execution_count": 56,
     "metadata": {},
     "output_type": "execute_result"
    }
   ],
   "source": [
    "TP.pp(dy_dx) #przed optymalizacją niewiele widać"
   ]
  },
  {
   "cell_type": "code",
   "execution_count": 57,
   "metadata": {
    "collapsed": false
   },
   "outputs": [
    {
     "data": {
      "text/plain": [
       "'HostFromGpu(GpuElemwise{Mul}[(0, 1)](CudaNdarrayConstant{2.0}, GpuFromHost(x)))'"
      ]
     },
     "execution_count": 57,
     "metadata": {},
     "output_type": "execute_result"
    }
   ],
   "source": [
    "f_dy_dx = theano.function([x],dy_dx) #niestety nie wiem, jak odpalić optymalizację bez kompilacji funkcji...\n",
    "TP.pprint(f_dy_dx.maker.fgraph.outputs[0])"
   ]
  },
  {
   "cell_type": "markdown",
   "metadata": {},
   "source": [
    "## Theano zna też rachunek różniczkowy na macierzach"
   ]
  },
  {
   "cell_type": "code",
   "execution_count": 52,
   "metadata": {
    "collapsed": true
   },
   "outputs": [],
   "source": [
    "x = TT.matrix('x')\n",
    "v = TT.vector('v')\n",
    "\n",
    "y = v.dot(x).sum()"
   ]
  },
  {
   "cell_type": "code",
   "execution_count": 53,
   "metadata": {
    "collapsed": false
   },
   "outputs": [],
   "source": [
    "dy_dx = TT.grad(y,x)"
   ]
  },
  {
   "cell_type": "code",
   "execution_count": 54,
   "metadata": {
    "collapsed": false
   },
   "outputs": [
    {
     "data": {
      "text/plain": [
       "'(DimShuffle{0, x}(v) \\\\dot fill((v \\\\dot x), fill(Sum{acc_dtype=float64}((v \\\\dot x)), TensorConstant{1.0})))'"
      ]
     },
     "execution_count": 54,
     "metadata": {},
     "output_type": "execute_result"
    }
   ],
   "source": [
    "TP.pp(dy_dx) "
   ]
  },
  {
   "cell_type": "code",
   "execution_count": 55,
   "metadata": {
    "collapsed": false
   },
   "outputs": [
    {
     "data": {
      "text/plain": [
       "'HostFromGpu(GpuGer{inplace}(GpuAlloc{memset_0=True}(CudaNdarrayConstant{0.0}, Shape_i{0}(v), Shape_i{1}(x)), TensorConstant{1.0}, GpuFromHost(v), GpuDimShuffle{1}(GpuAlloc(CudaNdarrayConstant{Shape: (1, 1)\\n[[ 1.]]}, TensorConstant{1}, Shape_i{1}(x)))))'"
      ]
     },
     "execution_count": 55,
     "metadata": {},
     "output_type": "execute_result"
    }
   ],
   "source": [
    "f_dy_dx = theano.function([x,v],dy_dx) #niestety nie wiem, jak odpalić optymalizację bez kompilacji funkcji...\n",
    "TP.pprint(f_dy_dx.maker.fgraph.outputs[0])"
   ]
  },
  {
   "cell_type": "code",
   "execution_count": 56,
   "metadata": {
    "collapsed": false
   },
   "outputs": [
    {
     "data": {
      "text/plain": [
       "for{cpu,scan_fn}.0:TensorType(float32, 3D)"
      ]
     },
     "execution_count": 56,
     "metadata": {},
     "output_type": "execute_result"
    }
   ],
   "source": [
    "theano.gradient.jacobian(v.dot(x), x)"
   ]
  },
  {
   "cell_type": "markdown",
   "metadata": {},
   "source": [
    "## Zmienne współdzielone (shared) - stan funkcji\n",
    "\n",
    "Na razie umiemy w Theano zapisać jedynie funkcje bez stanu. `shared variables` pozwalają na dodanie ukrytego stanu funkcji. Dzieki nim będziemy mogli łatwo implementować modele uczące się - dopasowywane parametry zakodujemy jako shared variables."
   ]
  },
  {
   "cell_type": "code",
   "execution_count": 57,
   "metadata": {
    "collapsed": false
   },
   "outputs": [],
   "source": [
    "s = theano.shared(np.random.rand(3,3).astype(np.float32))"
   ]
  },
  {
   "cell_type": "code",
   "execution_count": 58,
   "metadata": {
    "collapsed": false
   },
   "outputs": [
    {
     "data": {
      "text/plain": [
       "<CudaNdarrayType(float32, matrix)>:CudaNdarrayType(float32, matrix)"
      ]
     },
     "execution_count": 58,
     "metadata": {},
     "output_type": "execute_result"
    }
   ],
   "source": [
    "s"
   ]
  },
  {
   "cell_type": "code",
   "execution_count": 59,
   "metadata": {
    "collapsed": false
   },
   "outputs": [
    {
     "data": {
      "text/plain": [
       "CudaNdarrayType(float32, matrix)"
      ]
     },
     "execution_count": 59,
     "metadata": {},
     "output_type": "execute_result"
    }
   ],
   "source": [
    "s.type"
   ]
  },
  {
   "cell_type": "code",
   "execution_count": 60,
   "metadata": {
    "collapsed": false
   },
   "outputs": [
    {
     "data": {
      "text/plain": [
       "(False, False)"
      ]
     },
     "execution_count": 60,
     "metadata": {},
     "output_type": "execute_result"
    }
   ],
   "source": [
    "s.broadcastable"
   ]
  },
  {
   "cell_type": "markdown",
   "metadata": {},
   "source": [
    "Na pierwszy rzut oka `s` jest zwykłą zmienną symboliczną. Jednak `s` posiada wartości - jest zmienną którą możemy czytać i do której możemy pisać:"
   ]
  },
  {
   "cell_type": "code",
   "execution_count": 61,
   "metadata": {
    "collapsed": false
   },
   "outputs": [
    {
     "data": {
      "text/plain": [
       "Shape: (3, 3)\n",
       "[[ 0.18300894  0.62730706  0.45276999]\n",
       " [ 0.00842668  0.45045659  0.78276771]\n",
       " [ 0.28307703  0.41000003  0.962367  ]]"
      ]
     },
     "execution_count": 61,
     "metadata": {},
     "output_type": "execute_result"
    }
   ],
   "source": [
    "s.get_value()"
   ]
  },
  {
   "cell_type": "code",
   "execution_count": 62,
   "metadata": {
    "collapsed": false
   },
   "outputs": [],
   "source": [
    "s.set_value(np.zeros((3,3), dtype=np.float32))"
   ]
  },
  {
   "cell_type": "code",
   "execution_count": 63,
   "metadata": {
    "collapsed": false
   },
   "outputs": [
    {
     "data": {
      "text/plain": [
       "Shape: (3, 3)\n",
       "[[ 0.  0.  0.]\n",
       " [ 0.  0.  0.]\n",
       " [ 0.  0.  0.]]"
      ]
     },
     "execution_count": 63,
     "metadata": {},
     "output_type": "execute_result"
    }
   ],
   "source": [
    "s.get_value(borrow=True) #borrow mówi, żeby zwrócić widok pamięci związanej z shared variable. To trochę przyspiesza kod\n",
    "                         #gdy zmienne sa duże"
   ]
  },
  {
   "cell_type": "code",
   "execution_count": 64,
   "metadata": {
    "collapsed": true
   },
   "outputs": [],
   "source": [
    "aa = s.get_value(borrow=True)\n",
    "aa[0,0]=10"
   ]
  },
  {
   "cell_type": "code",
   "execution_count": 65,
   "metadata": {
    "collapsed": false
   },
   "outputs": [
    {
     "data": {
      "text/plain": [
       "Shape: (3, 3)\n",
       "[[ 0.  0.  0.]\n",
       " [ 0.  0.  0.]\n",
       " [ 0.  0.  0.]]"
      ]
     },
     "execution_count": 65,
     "metadata": {},
     "output_type": "execute_result"
    }
   ],
   "source": [
    "s.get_value()"
   ]
  },
  {
   "cell_type": "code",
   "execution_count": 65,
   "metadata": {
    "collapsed": false
   },
   "outputs": [],
   "source": [
    "# s możemy używać jak każdej innej zmiennej symbolicznej:\n",
    "\n",
    "f_s = theano.function([], 2*s)"
   ]
  },
  {
   "cell_type": "code",
   "execution_count": 66,
   "metadata": {
    "collapsed": false
   },
   "outputs": [
    {
     "data": {
      "text/plain": [
       "Shape: (3, 3)\n",
       "[[ 0.  0.  0.]\n",
       " [ 0.  0.  0.]\n",
       " [ 0.  0.  0.]]"
      ]
     },
     "execution_count": 66,
     "metadata": {},
     "output_type": "execute_result"
    }
   ],
   "source": [
    "f_s()"
   ]
  },
  {
   "cell_type": "code",
   "execution_count": 67,
   "metadata": {
    "collapsed": true
   },
   "outputs": [],
   "source": [
    "s.set_value(np.ones((3,3), dtype=np.float32))"
   ]
  },
  {
   "cell_type": "code",
   "execution_count": 68,
   "metadata": {
    "collapsed": false
   },
   "outputs": [
    {
     "data": {
      "text/plain": [
       "Shape: (3, 3)\n",
       "[[ 2.  2.  2.]\n",
       " [ 2.  2.  2.]\n",
       " [ 2.  2.  2.]]"
      ]
     },
     "execution_count": 68,
     "metadata": {},
     "output_type": "execute_result"
    }
   ],
   "source": [
    "f_s()"
   ]
  },
  {
   "cell_type": "code",
   "execution_count": 69,
   "metadata": {
    "collapsed": false
   },
   "outputs": [],
   "source": [
    "# operacje arytmetyczne w Theano zasadniczo nie mają skutków ubocznych.\n",
    "# Aby zmienić wartość shared variable możemy zadeklarować listę zmian w wywołanu theano.function:\n",
    "\n",
    "ctr = theano.shared(0)\n",
    "\n",
    "f_ctr = theano.function([],ctr, updates=[(ctr, ctr+1)]) #uwaga - updates wykonuja się z zadanej kolejności!"
   ]
  },
  {
   "cell_type": "code",
   "execution_count": 70,
   "metadata": {
    "collapsed": false
   },
   "outputs": [
    {
     "data": {
      "text/plain": [
       "0"
      ]
     },
     "execution_count": 70,
     "metadata": {},
     "output_type": "execute_result"
    }
   ],
   "source": [
    "f_ctr()"
   ]
  },
  {
   "cell_type": "code",
   "execution_count": 71,
   "metadata": {
    "collapsed": false
   },
   "outputs": [
    {
     "data": {
      "text/plain": [
       "1"
      ]
     },
     "execution_count": 71,
     "metadata": {},
     "output_type": "execute_result"
    }
   ],
   "source": [
    "ctr.get_value()"
   ]
  },
  {
   "cell_type": "code",
   "execution_count": 72,
   "metadata": {
    "collapsed": true
   },
   "outputs": [],
   "source": [
    "ctr.set_value(-10)"
   ]
  },
  {
   "cell_type": "code",
   "execution_count": 73,
   "metadata": {
    "collapsed": false
   },
   "outputs": [
    {
     "data": {
      "text/plain": [
       "-10"
      ]
     },
     "execution_count": 73,
     "metadata": {},
     "output_type": "execute_result"
    }
   ],
   "source": [
    "f_ctr()"
   ]
  },
  {
   "cell_type": "code",
   "execution_count": null,
   "metadata": {
    "collapsed": true
   },
   "outputs": [],
   "source": []
  },
  {
   "cell_type": "code",
   "execution_count": 74,
   "metadata": {
    "collapsed": false
   },
   "outputs": [
    {
     "data": {
      "text/plain": [
       "False"
      ]
     },
     "execution_count": 74,
     "metadata": {},
     "output_type": "execute_result"
    }
   ],
   "source": [
    "x = TT.matrix('x')\n",
    "x_stary = x\n",
    "x += 1 \n",
    "\n",
    "x_stary is x"
   ]
  },
  {
   "cell_type": "code",
   "execution_count": 75,
   "metadata": {
    "collapsed": false
   },
   "outputs": [
    {
     "data": {
      "image/svg+xml": [
       "<svg height=\"308pt\" viewBox=\"0.00 0.00 483.00 308.00\" width=\"483pt\" xmlns=\"http://www.w3.org/2000/svg\" xmlns:xlink=\"http://www.w3.org/1999/xlink\">\n",
       "<g class=\"graph\" id=\"graph0\" transform=\"scale(1 1) rotate(0) translate(4 304)\">\n",
       "<title>G</title>\n",
       "<polygon fill=\"white\" points=\"-4,4 -4,-304 479,-304 479,4 -4,4\" stroke=\"none\"/>\n",
       "<!-- DimShuffle{x,x} -->\n",
       "<g class=\"node\" id=\"node1\"><title>DimShuffle{x,x}</title>\n",
       "<ellipse cx=\"311\" cy=\"-194\" fill=\"none\" rx=\"72.192\" ry=\"18\" stroke=\"black\"/>\n",
       "<text font-family=\"Times,serif\" font-size=\"14.00\" text-anchor=\"middle\" x=\"311\" y=\"-190.3\">DimShuffle{x,x}</text>\n",
       "</g>\n",
       "<!-- Elemwise{add,no_inplace} -->\n",
       "<g class=\"node\" id=\"node3\"><title>Elemwise{add,no_inplace}</title>\n",
       "<ellipse cx=\"207\" cy=\"-106\" fill=\"#ffaabb\" rx=\"108.31\" ry=\"18\" stroke=\"black\"/>\n",
       "<text font-family=\"Times,serif\" font-size=\"14.00\" text-anchor=\"middle\" x=\"207\" y=\"-102.3\">Elemwise{add,no_inplace}</text>\n",
       "</g>\n",
       "<!-- DimShuffle{x,x}&#45;&gt;Elemwise{add,no_inplace} -->\n",
       "<g class=\"edge\" id=\"edge3\"><title>DimShuffle{x,x}-&gt;Elemwise{add,no_inplace}</title>\n",
       "<path d=\"M304.936,-176.061C300.324,-165.173 293.05,-151.365 283,-142 276.813,-136.234 269.509,-131.281 261.917,-127.069\" fill=\"none\" stroke=\"black\"/>\n",
       "<polygon fill=\"black\" points=\"263.417,-123.905 252.921,-122.46 260.225,-130.135 263.417,-123.905\" stroke=\"black\"/>\n",
       "<text font-family=\"Times,serif\" font-size=\"14.00\" text-anchor=\"middle\" x=\"384.5\" y=\"-146.3\">1 TensorType(int8, (True, True))</text>\n",
       "</g>\n",
       "<!-- val=1 TensorType(int8, scalar) -->\n",
       "<g class=\"node\" id=\"node2\"><title>val=1 TensorType(int8, scalar)</title>\n",
       "<polygon fill=\"green\" points=\"403.5,-300 218.5,-300 218.5,-264 403.5,-264 403.5,-300\" stroke=\"black\"/>\n",
       "<text font-family=\"Times,serif\" font-size=\"14.00\" text-anchor=\"middle\" x=\"311\" y=\"-278.3\">val=1 TensorType(int8, scalar)</text>\n",
       "</g>\n",
       "<!-- val=1 TensorType(int8, scalar)&#45;&gt;DimShuffle{x,x} -->\n",
       "<g class=\"edge\" id=\"edge1\"><title>val=1 TensorType(int8, scalar)-&gt;DimShuffle{x,x}</title>\n",
       "<path d=\"M311,-263.597C311,-251.746 311,-235.817 311,-222.292\" fill=\"none\" stroke=\"black\"/>\n",
       "<polygon fill=\"black\" points=\"314.5,-222.084 311,-212.084 307.5,-222.084 314.5,-222.084\" stroke=\"black\"/>\n",
       "<text font-family=\"Times,serif\" font-size=\"14.00\" text-anchor=\"middle\" x=\"378.5\" y=\"-234.3\">TensorType(int8, scalar)</text>\n",
       "</g>\n",
       "<!-- TensorType(float32, matrix) -->\n",
       "<g class=\"node\" id=\"node5\"><title>TensorType(float32, matrix)</title>\n",
       "<polygon fill=\"blue\" points=\"293.25,-36 120.75,-36 120.75,-0 293.25,-0 293.25,-36\" stroke=\"black\"/>\n",
       "<text font-family=\"Times,serif\" font-size=\"14.00\" text-anchor=\"middle\" x=\"207\" y=\"-14.3\">TensorType(float32, matrix)</text>\n",
       "</g>\n",
       "<!-- Elemwise{add,no_inplace}&#45;&gt;TensorType(float32, matrix) -->\n",
       "<g class=\"edge\" id=\"edge4\"><title>Elemwise{add,no_inplace}-&gt;TensorType(float32, matrix)</title>\n",
       "<path d=\"M207,-87.5966C207,-75.7459 207,-59.8169 207,-46.2917\" fill=\"none\" stroke=\"black\"/>\n",
       "<polygon fill=\"black\" points=\"210.5,-46.084 207,-36.084 203.5,-46.084 210.5,-46.084\" stroke=\"black\"/>\n",
       "<text font-family=\"Times,serif\" font-size=\"14.00\" text-anchor=\"middle\" x=\"285.5\" y=\"-58.3\">TensorType(float32, matrix)</text>\n",
       "</g>\n",
       "<!-- name=x TensorType(float32, matrix) -->\n",
       "<g class=\"node\" id=\"node4\"><title>name=x TensorType(float32, matrix)</title>\n",
       "<polygon fill=\"green\" points=\"220.25,-212 -0.25,-212 -0.25,-176 220.25,-176 220.25,-212\" stroke=\"black\"/>\n",
       "<text font-family=\"Times,serif\" font-size=\"14.00\" text-anchor=\"middle\" x=\"110\" y=\"-190.3\">name=x TensorType(float32, matrix)</text>\n",
       "</g>\n",
       "<!-- name=x TensorType(float32, matrix)&#45;&gt;Elemwise{add,no_inplace} -->\n",
       "<g class=\"edge\" id=\"edge2\"><title>name=x TensorType(float32, matrix)-&gt;Elemwise{add,no_inplace}</title>\n",
       "<path d=\"M107.796,-175.72C107.372,-164.966 108.672,-151.435 116,-142 121.224,-135.274 127.909,-129.84 135.28,-125.45\" fill=\"none\" stroke=\"black\"/>\n",
       "<polygon fill=\"black\" points=\"136.978,-128.512 144.201,-120.761 133.721,-122.315 136.978,-128.512\" stroke=\"black\"/>\n",
       "<text font-family=\"Times,serif\" font-size=\"14.00\" text-anchor=\"middle\" x=\"199.5\" y=\"-146.3\">0 TensorType(float32, matrix)</text>\n",
       "</g>\n",
       "</g>\n",
       "</svg>"
      ],
      "text/plain": [
       "<IPython.core.display.SVG object>"
      ]
     },
     "execution_count": 75,
     "metadata": {},
     "output_type": "execute_result"
    }
   ],
   "source": [
    "svgdotprint(x)"
   ]
  },
  {
   "cell_type": "code",
   "execution_count": 76,
   "metadata": {
    "collapsed": false
   },
   "outputs": [
    {
     "data": {
      "text/plain": [
       "Shape: (3, 3)\n",
       "[[ 1.  1.  1.]\n",
       " [ 1.  1.  1.]\n",
       " [ 1.  1.  1.]]"
      ]
     },
     "execution_count": 76,
     "metadata": {},
     "output_type": "execute_result"
    }
   ],
   "source": [
    "f_weird = theano.function([x],x)\n",
    "f_weird(np.ones((3,3), dtype=np.float32))"
   ]
  },
  {
   "cell_type": "code",
   "execution_count": 77,
   "metadata": {
    "collapsed": false
   },
   "outputs": [
    {
     "data": {
      "image/svg+xml": [
       "<svg height=\"220pt\" viewBox=\"0.00 0.00 266.00 220.00\" width=\"266pt\" xmlns=\"http://www.w3.org/2000/svg\" xmlns:xlink=\"http://www.w3.org/1999/xlink\">\n",
       "<g class=\"graph\" id=\"graph0\" transform=\"scale(1 1) rotate(0) translate(4 216)\">\n",
       "<title>G</title>\n",
       "<polygon fill=\"white\" points=\"-4,4 -4,-216 262,-216 262,4 -4,4\" stroke=\"none\"/>\n",
       "<!-- DeepCopyOp -->\n",
       "<g class=\"node\" id=\"node1\"><title>DeepCopyOp</title>\n",
       "<ellipse cx=\"101\" cy=\"-106\" fill=\"none\" rx=\"59.2173\" ry=\"18\" stroke=\"black\"/>\n",
       "<text font-family=\"Times,serif\" font-size=\"14.00\" text-anchor=\"middle\" x=\"101\" y=\"-102.3\">DeepCopyOp</text>\n",
       "</g>\n",
       "<!-- TensorType(float32, matrix) id=1 -->\n",
       "<g class=\"node\" id=\"node3\"><title>TensorType(float32, matrix) id=1</title>\n",
       "<polygon fill=\"blue\" points=\"202,-36 0,-36 0,-0 202,-0 202,-36\" stroke=\"black\"/>\n",
       "<text font-family=\"Times,serif\" font-size=\"14.00\" text-anchor=\"middle\" x=\"101\" y=\"-14.3\">TensorType(float32, matrix) id=1</text>\n",
       "</g>\n",
       "<!-- DeepCopyOp&#45;&gt;TensorType(float32, matrix) id=1 -->\n",
       "<g class=\"edge\" id=\"edge2\"><title>DeepCopyOp-&gt;TensorType(float32, matrix) id=1</title>\n",
       "<path d=\"M101,-87.5966C101,-75.7459 101,-59.8169 101,-46.2917\" fill=\"none\" stroke=\"black\"/>\n",
       "<polygon fill=\"black\" points=\"104.5,-46.084 101,-36.084 97.5001,-46.084 104.5,-46.084\" stroke=\"black\"/>\n",
       "<text font-family=\"Times,serif\" font-size=\"14.00\" text-anchor=\"middle\" x=\"179.5\" y=\"-58.3\">TensorType(float32, matrix)</text>\n",
       "</g>\n",
       "<!-- TensorType(float32, matrix) -->\n",
       "<g class=\"node\" id=\"node2\"><title>TensorType(float32, matrix)</title>\n",
       "<polygon fill=\"green\" points=\"187.25,-212 14.75,-212 14.75,-176 187.25,-176 187.25,-212\" stroke=\"black\"/>\n",
       "<text font-family=\"Times,serif\" font-size=\"14.00\" text-anchor=\"middle\" x=\"101\" y=\"-190.3\">TensorType(float32, matrix)</text>\n",
       "</g>\n",
       "<!-- TensorType(float32, matrix)&#45;&gt;DeepCopyOp -->\n",
       "<g class=\"edge\" id=\"edge1\"><title>TensorType(float32, matrix)-&gt;DeepCopyOp</title>\n",
       "<path d=\"M101,-175.597C101,-163.746 101,-147.817 101,-134.292\" fill=\"none\" stroke=\"black\"/>\n",
       "<polygon fill=\"black\" points=\"104.5,-134.084 101,-124.084 97.5001,-134.084 104.5,-134.084\" stroke=\"black\"/>\n",
       "<text font-family=\"Times,serif\" font-size=\"14.00\" text-anchor=\"middle\" x=\"179.5\" y=\"-146.3\">TensorType(float32, matrix)</text>\n",
       "</g>\n",
       "</g>\n",
       "</svg>"
      ],
      "text/plain": [
       "<IPython.core.display.SVG object>"
      ]
     },
     "execution_count": 77,
     "metadata": {},
     "output_type": "execute_result"
    }
   ],
   "source": [
    "svgdotprint(f_weird)"
   ]
  },
  {
   "cell_type": "code",
   "execution_count": 78,
   "metadata": {
    "collapsed": false
   },
   "outputs": [],
   "source": [
    "x = theano.shared(np.ones((3,3), dtype=np.float32))\n",
    "x += 1"
   ]
  },
  {
   "cell_type": "code",
   "execution_count": null,
   "metadata": {
    "collapsed": true
   },
   "outputs": [],
   "source": []
  },
  {
   "cell_type": "code",
   "execution_count": 79,
   "metadata": {
    "collapsed": false
   },
   "outputs": [],
   "source": [
    "f_x = theano.function([],x)"
   ]
  },
  {
   "cell_type": "code",
   "execution_count": 80,
   "metadata": {
    "collapsed": false
   },
   "outputs": [
    {
     "data": {
      "text/plain": [
       "Shape: (3, 3)\n",
       "[[ 2.  2.  2.]\n",
       " [ 2.  2.  2.]\n",
       " [ 2.  2.  2.]]"
      ]
     },
     "execution_count": 80,
     "metadata": {},
     "output_type": "execute_result"
    }
   ],
   "source": [
    "f_x()"
   ]
  },
  {
   "cell_type": "markdown",
   "metadata": {},
   "source": [
    "# Łączymy klocki - regresja logistyczna w Theano"
   ]
  },
  {
   "cell_type": "code",
   "execution_count": 58,
   "metadata": {
    "collapsed": true
   },
   "outputs": [],
   "source": [
    "#dane mnist\n",
    "\n",
    "from sklearn.datasets import fetch_mldata\n",
    "mnist = fetch_mldata('MNIST original')"
   ]
  },
  {
   "cell_type": "code",
   "execution_count": 59,
   "metadata": {
    "collapsed": false
   },
   "outputs": [],
   "source": [
    "trainX, testX = np.split((mnist.data).astype(np.float32), [60000])\n",
    "trainY, testY = np.split(mnist.target.astype(np.int32), [60000])"
   ]
  },
  {
   "cell_type": "code",
   "execution_count": 60,
   "metadata": {
    "collapsed": false
   },
   "outputs": [],
   "source": [
    "trainX_mean = trainX.mean(0, keepdims=True)\n",
    "trainX_std = trainX.std(0, keepdims=True)\n",
    "trainX_std[trainX_std<1e-4] = 1.0\n",
    "trainX = (trainX-trainX_mean)/trainX_std\n",
    "testX = (testX-trainX_mean)/trainX_std"
   ]
  },
  {
   "cell_type": "code",
   "execution_count": 69,
   "metadata": {
    "collapsed": true
   },
   "outputs": [],
   "source": [
    "theano.config.compute_test_value = 'warn' #właczamy"
   ]
  },
  {
   "cell_type": "code",
   "execution_count": 70,
   "metadata": {
    "collapsed": false
   },
   "outputs": [],
   "source": [
    "X = TT.matrix() #zmienne niezależne - minibatch\n",
    "X.tag.test_value = trainX[:2,:] #weźmiemy tylko dwie wartości, żeby szybko sie liczyło"
   ]
  },
  {
   "cell_type": "code",
   "execution_count": 71,
   "metadata": {
    "collapsed": true
   },
   "outputs": [],
   "source": [
    "Y = TT.ivector() #Y będzie typu integer\n",
    "Y.tag.test_value = trainY[:2]"
   ]
  },
  {
   "cell_type": "code",
   "execution_count": 72,
   "metadata": {
    "collapsed": true
   },
   "outputs": [],
   "source": [
    "# wagi - będziemy na początku wykrywać tylko jedynki. Potrzebujemy więc jednego zestawu wag\n",
    "W = theano.shared((np.random.randn(trainX.shape[1], 1) * 0.05).astype(np.float32))\n",
    "\n",
    "# biasy - znów dla jednego wyjścia\n",
    "b = theano.shared(np.zeros((1,), dtype=np.float32))\n",
    "\n",
    "parameters = [W,b]"
   ]
  },
  {
   "cell_type": "code",
   "execution_count": 73,
   "metadata": {
    "collapsed": false
   },
   "outputs": [
    {
     "data": {
      "text/plain": [
       "Shape: (2, 1)\n",
       "[[ 0.78463763]\n",
       " [ 0.65582711]]"
      ]
     },
     "execution_count": 73,
     "metadata": {},
     "output_type": "execute_result"
    }
   ],
   "source": [
    "#prob_Y_given_X = TT.nnet.sigmoid(X.dot(W) + b)\n",
    "score = X.dot(W) + b\n",
    "prob_Y_given_X = 1.0 / (1.0 + TT.exp(-score))\n",
    "\n",
    "prob_Y_given_X.tag.test_value #przewidywana klasa dla dwóch klas"
   ]
  },
  {
   "cell_type": "code",
   "execution_count": 74,
   "metadata": {
    "collapsed": false
   },
   "outputs": [
    {
     "data": {
      "text/plain": [
       "TensorType(int32, vector)"
      ]
     },
     "execution_count": 74,
     "metadata": {},
     "output_type": "execute_result"
    }
   ],
   "source": [
    "Y.type"
   ]
  },
  {
   "cell_type": "code",
   "execution_count": 75,
   "metadata": {
    "collapsed": false
   },
   "outputs": [],
   "source": [
    "YV = TT.shape_padright(Y)\n",
    "loss = neg_log_likelihood = -(TT.eq(YV,1)*TT.log(prob_Y_given_X) + (1-TT.eq(YV,1))*TT.log(1-prob_Y_given_X)).mean() #błąd - entropia skrośna"
   ]
  },
  {
   "cell_type": "code",
   "execution_count": 76,
   "metadata": {
    "collapsed": true
   },
   "outputs": [],
   "source": [
    "errs = TT.neq(TT.eq(YV,1), prob_Y_given_X>0.5).sum()"
   ]
  },
  {
   "cell_type": "code",
   "execution_count": 77,
   "metadata": {
    "collapsed": false
   },
   "outputs": [
    {
     "name": "stdout",
     "output_type": "stream",
     "text": [
      "Shape: (10,)\n",
      "[1 1 1 1 0 0 0 0 1 1]\n",
      "Shape: (10,)\n",
      "[0 0 0 0 0 0 0 0 0 0]\n"
     ]
    }
   ],
   "source": [
    "#Gotowy klasyfikator\n",
    "is_one = theano.function([X], (prob_Y_given_X>0.5).ravel())\n",
    "\n",
    "#Na razie jest kiepsko...\n",
    "print is_one(trainX[:10]).T\n",
    "print trainY[:10]"
   ]
  },
  {
   "cell_type": "code",
   "execution_count": 78,
   "metadata": {
    "collapsed": false
   },
   "outputs": [],
   "source": [
    "d_loss_d_parameters = theano.grad(loss, parameters)"
   ]
  },
  {
   "cell_type": "code",
   "execution_count": 79,
   "metadata": {
    "collapsed": false
   },
   "outputs": [
    {
     "data": {
      "text/plain": [
       "[GpuFromHost.0:CudaNdarrayType(float32, matrix):<CudaNdarray object at 0x7f7c5e9c5930>,\n",
       " GpuFromHost.0:CudaNdarrayType(float32, vector):<CudaNdarray object at 0x7f7c5f674cb0>]"
      ]
     },
     "execution_count": 79,
     "metadata": {},
     "output_type": "execute_result"
    }
   ],
   "source": [
    "d_loss_d_parameters"
   ]
  },
  {
   "cell_type": "code",
   "execution_count": 80,
   "metadata": {
    "collapsed": true
   },
   "outputs": [],
   "source": [
    "learn_rule = [(p,p- 0.001*dl_dp) for p, dl_dp in zip(parameters, d_loss_d_parameters)]"
   ]
  },
  {
   "cell_type": "code",
   "execution_count": 81,
   "metadata": {
    "collapsed": true
   },
   "outputs": [],
   "source": [
    "train_fun = theano.function([X,Y], (neg_log_likelihood, errs), updates=learn_rule)"
   ]
  },
  {
   "cell_type": "code",
   "execution_count": 82,
   "metadata": {
    "collapsed": false
   },
   "outputs": [
    {
     "name": "stdout",
     "output_type": "stream",
     "text": [
      "Warning: node val=Shape, port  (1, 1) TensorType(int8, (True, True)) unrecognized\n",
      "Warning: node val=Shape, port  (1, 1) TensorType(int8, (True, True)) unrecognized\n",
      "Warning: node val=Shape, port  (1, 1) CudaNdarrayType(float32, (True, True)) unrecognized\n",
      "Warning: node val=Shape, port  (1, 1) CudaNdarrayType(float32, (True, True)) unrecognized\n",
      "Warning: node val=Shape, port  (1, 1) TensorType(float32, (True, True)) unrecognized\n",
      "Warning: node val=Shape, port  (1,) CudaNdarrayType(float32, (True,)) unrecognized\n",
      "\n"
     ]
    },
    {
     "data": {
      "image/svg+xml": [
       "<svg height=\"1140pt\" viewBox=\"0.00 0.00 4819.00 1140.00\" width=\"4819pt\" xmlns=\"http://www.w3.org/2000/svg\" xmlns:xlink=\"http://www.w3.org/1999/xlink\">\n",
       "<g class=\"graph\" id=\"graph0\" transform=\"scale(1 1) rotate(0) translate(4 1136)\">\n",
       "<title>G</title>\n",
       "<polygon fill=\"white\" points=\"-4,4 -4,-1136 4815,-1136 4815,4 -4,4\" stroke=\"none\"/>\n",
       "<!-- GpuDimShuffle{x,0} -->\n",
       "<g class=\"node\" id=\"node1\"><title>GpuDimShuffle{x,0}</title>\n",
       "<ellipse cx=\"1102\" cy=\"-830\" fill=\"none\" rx=\"87.613\" ry=\"18\" stroke=\"black\"/>\n",
       "<text font-family=\"Times,serif\" font-size=\"14.00\" text-anchor=\"middle\" x=\"1102\" y=\"-826.3\">GpuDimShuffle{x,0}</text>\n",
       "</g>\n",
       "<!-- GpuElemwise{Add}[(0, 0)] -->\n",
       "<g class=\"node\" id=\"node17\"><title>GpuElemwise{Add}[(0, 0)]</title>\n",
       "<ellipse cx=\"1802\" cy=\"-722\" fill=\"#ffaabb\" rx=\"110.235\" ry=\"18\" stroke=\"black\"/>\n",
       "<text font-family=\"Times,serif\" font-size=\"14.00\" text-anchor=\"middle\" x=\"1802\" y=\"-718.3\">GpuElemwise{Add}[(0, 0)]</text>\n",
       "</g>\n",
       "<!-- GpuDimShuffle{x,0}&#45;&gt;GpuElemwise{Add}[(0, 0)] -->\n",
       "<g class=\"edge\" id=\"edge17\"><title>GpuDimShuffle{x,0}-&gt;GpuElemwise{Add}[(0, 0)]</title>\n",
       "<path d=\"M1170.07,-818.692C1297.74,-799.36 1572.94,-757.686 1714.29,-736.282\" fill=\"none\" stroke=\"black\"/>\n",
       "<polygon fill=\"black\" points=\"1714.86,-739.735 1724.23,-734.777 1713.82,-732.814 1714.86,-739.735\" stroke=\"black\"/>\n",
       "<text font-family=\"Times,serif\" font-size=\"14.00\" text-anchor=\"middle\" x=\"1649.5\" y=\"-772.3\">1 CudaNdarrayType(float32, row)</text>\n",
       "</g>\n",
       "<!-- CudaNdarrayType(float32, vector) -->\n",
       "<g class=\"node\" id=\"node2\"><title>CudaNdarrayType(float32, vector)</title>\n",
       "<polygon fill=\"green\" points=\"1010,-936 804,-936 804,-900 1010,-900 1010,-936\" stroke=\"black\"/>\n",
       "<text font-family=\"Times,serif\" font-size=\"14.00\" text-anchor=\"middle\" x=\"907\" y=\"-914.3\">CudaNdarrayType(float32, vector)</text>\n",
       "</g>\n",
       "<!-- CudaNdarrayType(float32, vector)&#45;&gt;GpuDimShuffle{x,0} -->\n",
       "<g class=\"edge\" id=\"edge1\"><title>CudaNdarrayType(float32, vector)-&gt;GpuDimShuffle{x,0}</title>\n",
       "<path d=\"M945.992,-899.803C978.06,-885.661 1023.53,-865.609 1057.11,-850.799\" fill=\"none\" stroke=\"blue\"/>\n",
       "<polygon fill=\"blue\" points=\"1058.94,-853.814 1066.68,-846.577 1056.12,-847.41 1058.94,-853.814\" stroke=\"blue\"/>\n",
       "<text font-family=\"Times,serif\" font-size=\"14.00\" text-anchor=\"middle\" x=\"1117\" y=\"-870.3\">CudaNdarrayType(float32, vector)</text>\n",
       "</g>\n",
       "<!-- GpuElemwise{Composite{(i0 &#45; (i1 * i2))}}[(0, 0)] -->\n",
       "<g class=\"node\" id=\"node50\"><title>GpuElemwise{Composite{(i0 - (i1 * i2))}}[(0, 0)]</title>\n",
       "<ellipse cx=\"233\" cy=\"-194\" fill=\"#ffaabb\" rx=\"191.599\" ry=\"18\" stroke=\"black\"/>\n",
       "<text font-family=\"Times,serif\" font-size=\"14.00\" text-anchor=\"middle\" x=\"233\" y=\"-190.3\">GpuElemwise{Composite{(i0 - (i1 * i2))}}[(0, 0)]</text>\n",
       "</g>\n",
       "<!-- CudaNdarrayType(float32, vector)&#45;&gt;GpuElemwise{Composite{(i0 &#45; (i1 * i2))}}[(0, 0)] -->\n",
       "<g class=\"edge\" id=\"edge70\"><title>CudaNdarrayType(float32, vector)-&gt;GpuElemwise{Composite{(i0 - (i1 * i2))}}[(0, 0)]</title>\n",
       "<path d=\"M877.928,-899.813C762.496,-831.555 341.449,-582.427 314,-564 276.582,-538.881 233,-548.067 233,-503 233,-503 233,-503 233,-281 233,-261.404 233,-239.296 233,-222.402\" fill=\"none\" stroke=\"red\"/>\n",
       "<polygon fill=\"red\" points=\"236.5,-222.133 233,-212.133 229.5,-222.133 236.5,-222.133\" stroke=\"red\"/>\n",
       "<text font-family=\"Times,serif\" font-size=\"14.00\" text-anchor=\"middle\" x=\"414\" y=\"-542.3\">0 CudaNdarrayType(float32, vector)</text>\n",
       "</g>\n",
       "<!-- Shape_i{1} -->\n",
       "<g class=\"node\" id=\"node3\"><title>Shape_i{1}</title>\n",
       "<ellipse cx=\"2895\" cy=\"-1026\" fill=\"cyan\" rx=\"51.4931\" ry=\"18\" stroke=\"black\"/>\n",
       "<text font-family=\"Times,serif\" font-size=\"14.00\" text-anchor=\"middle\" x=\"2895\" y=\"-1022.3\">Shape_i{1}</text>\n",
       "</g>\n",
       "<!-- MakeVector -->\n",
       "<g class=\"node\" id=\"node14\"><title>MakeVector</title>\n",
       "<ellipse cx=\"2895\" cy=\"-918\" fill=\"none\" rx=\"55.3682\" ry=\"18\" stroke=\"black\"/>\n",
       "<text font-family=\"Times,serif\" font-size=\"14.00\" text-anchor=\"middle\" x=\"2895\" y=\"-914.3\">MakeVector</text>\n",
       "</g>\n",
       "<!-- Shape_i{1}&#45;&gt;MakeVector -->\n",
       "<g class=\"edge\" id=\"edge13\"><title>Shape_i{1}-&gt;MakeVector</title>\n",
       "<path d=\"M2895,-1007.97C2895,-991.378 2895,-965.883 2895,-946.431\" fill=\"none\" stroke=\"black\"/>\n",
       "<polygon fill=\"black\" points=\"2898.5,-946.341 2895,-936.341 2891.5,-946.341 2898.5,-946.341\" stroke=\"black\"/>\n",
       "<text font-family=\"Times,serif\" font-size=\"14.00\" text-anchor=\"middle\" x=\"2971\" y=\"-968.3\">1 TensorType(int64, scalar)</text>\n",
       "</g>\n",
       "<!-- CudaNdarrayType(float32, matrix) -->\n",
       "<g class=\"node\" id=\"node4\"><title>CudaNdarrayType(float32, matrix)</title>\n",
       "<polygon fill=\"green\" points=\"2999,-1132 2791,-1132 2791,-1096 2999,-1096 2999,-1132\" stroke=\"black\"/>\n",
       "<text font-family=\"Times,serif\" font-size=\"14.00\" text-anchor=\"middle\" x=\"2895\" y=\"-1110.3\">CudaNdarrayType(float32, matrix)</text>\n",
       "</g>\n",
       "<!-- CudaNdarrayType(float32, matrix)&#45;&gt;Shape_i{1} -->\n",
       "<g class=\"edge\" id=\"edge2\"><title>CudaNdarrayType(float32, matrix)-&gt;Shape_i{1}</title>\n",
       "<path d=\"M2895,-1095.6C2895,-1083.75 2895,-1067.82 2895,-1054.29\" fill=\"none\" stroke=\"black\"/>\n",
       "<polygon fill=\"black\" points=\"2898.5,-1054.08 2895,-1044.08 2891.5,-1054.08 2898.5,-1054.08\" stroke=\"black\"/>\n",
       "<text font-family=\"Times,serif\" font-size=\"14.00\" text-anchor=\"middle\" x=\"2991\" y=\"-1066.3\">CudaNdarrayType(float32, matrix)</text>\n",
       "</g>\n",
       "<!-- GpuDot22 -->\n",
       "<g class=\"node\" id=\"node11\"><title>GpuDot22</title>\n",
       "<ellipse cx=\"2027\" cy=\"-830\" fill=\"none\" rx=\"48.1437\" ry=\"18\" stroke=\"black\"/>\n",
       "<text font-family=\"Times,serif\" font-size=\"14.00\" text-anchor=\"middle\" x=\"2027\" y=\"-826.3\">GpuDot22</text>\n",
       "</g>\n",
       "<!-- CudaNdarrayType(float32, matrix)&#45;&gt;GpuDot22 -->\n",
       "<g class=\"edge\" id=\"edge8\"><title>CudaNdarrayType(float32, matrix)-&gt;GpuDot22</title>\n",
       "<path d=\"M2790.94,-1111.21C2595.15,-1105.68 2182.44,-1083 2080,-990 2042.22,-955.703 2031.33,-893.787 2028.22,-858.182\" fill=\"none\" stroke=\"black\"/>\n",
       "<polygon fill=\"black\" points=\"2031.7,-857.757 2027.48,-848.037 2024.71,-858.264 2031.7,-857.757\" stroke=\"black\"/>\n",
       "<text font-family=\"Times,serif\" font-size=\"14.00\" text-anchor=\"middle\" x=\"2181\" y=\"-968.3\">1 CudaNdarrayType(float32, matrix)</text>\n",
       "</g>\n",
       "<!-- GpuGemm{inplace} -->\n",
       "<g class=\"node\" id=\"node47\"><title>GpuGemm{inplace}</title>\n",
       "<ellipse cx=\"4199\" cy=\"-282\" fill=\"none\" rx=\"85.2138\" ry=\"18\" stroke=\"black\"/>\n",
       "<text font-family=\"Times,serif\" font-size=\"14.00\" text-anchor=\"middle\" x=\"4199\" y=\"-278.3\">GpuGemm{inplace}</text>\n",
       "</g>\n",
       "<!-- CudaNdarrayType(float32, matrix)&#45;&gt;GpuGemm{inplace} -->\n",
       "<g class=\"edge\" id=\"edge65\"><title>CudaNdarrayType(float32, matrix)-&gt;GpuGemm{inplace}</title>\n",
       "<path d=\"M2999.32,-1113.25C3371.06,-1113.45 4609,-1108.03 4609,-1027 4609,-1027 4609,-1027 4609,-369 4609,-340.996 4596.32,-331.875 4572,-318 4526.21,-291.882 4388.87,-284.807 4294.26,-283.13\" fill=\"none\" stroke=\"red\"/>\n",
       "<polygon fill=\"red\" points=\"4294.16,-279.628 4284.1,-282.968 4294.04,-286.627 4294.16,-279.628\" stroke=\"red\"/>\n",
       "<text font-family=\"Times,serif\" font-size=\"14.00\" text-anchor=\"middle\" x=\"4710\" y=\"-674.3\">0 CudaNdarrayType(float32, matrix)</text>\n",
       "</g>\n",
       "<!-- GpuFromHost -->\n",
       "<g class=\"node\" id=\"node5\"><title>GpuFromHost</title>\n",
       "<ellipse cx=\"2285\" cy=\"-918\" fill=\"red\" rx=\"61.6163\" ry=\"18\" stroke=\"black\"/>\n",
       "<text font-family=\"Times,serif\" font-size=\"14.00\" text-anchor=\"middle\" x=\"2285\" y=\"-914.3\">GpuFromHost</text>\n",
       "</g>\n",
       "<!-- GpuFromHost&#45;&gt;GpuDot22 -->\n",
       "<g class=\"edge\" id=\"edge7\"><title>GpuFromHost-&gt;GpuDot22</title>\n",
       "<path d=\"M2225.85,-913.126C2168.9,-908.453 2087.61,-899.016 2061,-882 2051.59,-875.981 2044.18,-866.32 2038.71,-857.017\" fill=\"none\" stroke=\"black\"/>\n",
       "<polygon fill=\"black\" points=\"2041.68,-855.155 2033.89,-847.981 2035.51,-858.451 2041.68,-855.155\" stroke=\"black\"/>\n",
       "<text font-family=\"Times,serif\" font-size=\"14.00\" text-anchor=\"middle\" x=\"2162\" y=\"-870.3\">0 CudaNdarrayType(float32, matrix)</text>\n",
       "</g>\n",
       "<!-- GpuDimShuffle{1,0} -->\n",
       "<g class=\"node\" id=\"node12\"><title>GpuDimShuffle{1,0}</title>\n",
       "<ellipse cx=\"3623\" cy=\"-776\" fill=\"none\" rx=\"87.613\" ry=\"18\" stroke=\"black\"/>\n",
       "<text font-family=\"Times,serif\" font-size=\"14.00\" text-anchor=\"middle\" x=\"3623\" y=\"-772.3\">GpuDimShuffle{1,0}</text>\n",
       "</g>\n",
       "<!-- GpuFromHost&#45;&gt;GpuDimShuffle{1,0} -->\n",
       "<g class=\"edge\" id=\"edge9\"><title>GpuFromHost-&gt;GpuDimShuffle{1,0}</title>\n",
       "<path d=\"M2287.66,-900.006C2290,-889.366 2294.3,-875.855 2302,-866 2329.56,-830.733 2344.18,-825.029 2387,-812 2464.2,-788.511 3032.34,-796.344 3113,-794 3257.62,-789.797 3425.27,-784.038 3527.72,-780.419\" fill=\"none\" stroke=\"blue\"/>\n",
       "<polygon fill=\"blue\" points=\"3527.86,-783.916 3537.73,-780.065 3527.62,-776.92 3527.86,-783.916\" stroke=\"blue\"/>\n",
       "<text font-family=\"Times,serif\" font-size=\"14.00\" text-anchor=\"middle\" x=\"2398\" y=\"-870.3\">CudaNdarrayType(float32, matrix)</text>\n",
       "</g>\n",
       "<!-- TensorType(float32, matrix) -->\n",
       "<g class=\"node\" id=\"node6\"><title>TensorType(float32, matrix)</title>\n",
       "<polygon fill=\"green\" points=\"2481.25,-1044 2308.75,-1044 2308.75,-1008 2481.25,-1008 2481.25,-1044\" stroke=\"black\"/>\n",
       "<text font-family=\"Times,serif\" font-size=\"14.00\" text-anchor=\"middle\" x=\"2395\" y=\"-1022.3\">TensorType(float32, matrix)</text>\n",
       "</g>\n",
       "<!-- TensorType(float32, matrix)&#45;&gt;GpuFromHost -->\n",
       "<g class=\"edge\" id=\"edge3\"><title>TensorType(float32, matrix)-&gt;GpuFromHost</title>\n",
       "<path d=\"M2322.12,-1007.86C2313.39,-1003.26 2305.34,-997.412 2299,-990 2288.84,-978.135 2285.25,-961.051 2284.24,-946.615\" fill=\"none\" stroke=\"black\"/>\n",
       "<polygon fill=\"black\" points=\"2287.73,-946.104 2283.91,-936.221 2280.73,-946.329 2287.73,-946.104\" stroke=\"black\"/>\n",
       "<text font-family=\"Times,serif\" font-size=\"14.00\" text-anchor=\"middle\" x=\"2377.5\" y=\"-968.3\">TensorType(float32, matrix)</text>\n",
       "</g>\n",
       "<!-- Shape_i{0} -->\n",
       "<g class=\"node\" id=\"node7\"><title>Shape_i{0}</title>\n",
       "<ellipse cx=\"2495\" cy=\"-918\" fill=\"cyan\" rx=\"51.4931\" ry=\"18\" stroke=\"black\"/>\n",
       "<text font-family=\"Times,serif\" font-size=\"14.00\" text-anchor=\"middle\" x=\"2495\" y=\"-914.3\">Shape_i{0}</text>\n",
       "</g>\n",
       "<!-- TensorType(float32, matrix)&#45;&gt;Shape_i{0} -->\n",
       "<g class=\"edge\" id=\"edge4\"><title>TensorType(float32, matrix)-&gt;Shape_i{0}</title>\n",
       "<path d=\"M2436.18,-1007.82C2444.76,-1002.94 2453.24,-997.01 2460,-990 2472.09,-977.464 2480.79,-959.936 2486.49,-945.433\" fill=\"none\" stroke=\"black\"/>\n",
       "<polygon fill=\"black\" points=\"2489.8,-946.568 2489.96,-935.974 2483.23,-944.156 2489.8,-946.568\" stroke=\"black\"/>\n",
       "<text font-family=\"Times,serif\" font-size=\"14.00\" text-anchor=\"middle\" x=\"2561.5\" y=\"-968.3\">TensorType(float32, matrix)</text>\n",
       "</g>\n",
       "<!-- Elemwise{eq,no_inplace} -->\n",
       "<g class=\"node\" id=\"node13\"><title>Elemwise{eq,no_inplace}</title>\n",
       "<ellipse cx=\"2500\" cy=\"-830\" fill=\"#ffaabb\" rx=\"103.486\" ry=\"18\" stroke=\"black\"/>\n",
       "<text font-family=\"Times,serif\" font-size=\"14.00\" text-anchor=\"middle\" x=\"2500\" y=\"-826.3\">Elemwise{eq,no_inplace}</text>\n",
       "</g>\n",
       "<!-- Shape_i{0}&#45;&gt;Elemwise{eq,no_inplace} -->\n",
       "<g class=\"edge\" id=\"edge11\"><title>Shape_i{0}-&gt;Elemwise{eq,no_inplace}</title>\n",
       "<path d=\"M2496.01,-899.597C2496.7,-887.746 2497.63,-871.817 2498.41,-858.292\" fill=\"none\" stroke=\"black\"/>\n",
       "<polygon fill=\"black\" points=\"2501.92,-858.27 2499.01,-848.084 2494.93,-857.864 2501.92,-858.27\" stroke=\"black\"/>\n",
       "<text font-family=\"Times,serif\" font-size=\"14.00\" text-anchor=\"middle\" x=\"2574\" y=\"-870.3\">1 TensorType(int64, scalar)</text>\n",
       "</g>\n",
       "<!-- Shape_i{0} id=4 -->\n",
       "<g class=\"node\" id=\"node8\"><title>Shape_i{0} id=4</title>\n",
       "<ellipse cx=\"2667\" cy=\"-1026\" fill=\"cyan\" rx=\"71.2405\" ry=\"18\" stroke=\"black\"/>\n",
       "<text font-family=\"Times,serif\" font-size=\"14.00\" text-anchor=\"middle\" x=\"2667\" y=\"-1022.3\">Shape_i{0} id=4</text>\n",
       "</g>\n",
       "<!-- Shape_i{0} id=4&#45;&gt;Elemwise{eq,no_inplace} -->\n",
       "<g class=\"edge\" id=\"edge10\"><title>Shape_i{0} id=4-&gt;Elemwise{eq,no_inplace}</title>\n",
       "<path d=\"M2671.37,-1007.68C2678.35,-975.492 2687.96,-906.11 2653,-866 2644.15,-855.846 2619.32,-848.315 2592.17,-842.895\" fill=\"none\" stroke=\"black\"/>\n",
       "<polygon fill=\"black\" points=\"2592.56,-839.408 2582.09,-840.993 2591.27,-846.287 2592.56,-839.408\" stroke=\"black\"/>\n",
       "<text font-family=\"Times,serif\" font-size=\"14.00\" text-anchor=\"middle\" x=\"2754\" y=\"-914.3\">0 TensorType(int64, scalar)</text>\n",
       "</g>\n",
       "<!-- Shape_i{0} id=4&#45;&gt;MakeVector -->\n",
       "<g class=\"edge\" id=\"edge12\"><title>Shape_i{0} id=4-&gt;MakeVector</title>\n",
       "<path d=\"M2679.35,-1008.16C2692.33,-991.737 2714.28,-967.337 2739,-954 2772.6,-935.871 2785.75,-944.387 2823,-936 2829.17,-934.611 2835.62,-933.128 2842.03,-931.638\" fill=\"none\" stroke=\"black\"/>\n",
       "<polygon fill=\"black\" points=\"2843.07,-934.99 2852.01,-929.304 2841.48,-928.174 2843.07,-934.99\" stroke=\"black\"/>\n",
       "<text font-family=\"Times,serif\" font-size=\"14.00\" text-anchor=\"middle\" x=\"2815\" y=\"-968.3\">0 TensorType(int64, scalar)</text>\n",
       "</g>\n",
       "<!-- TensorType(int32, vector) -->\n",
       "<g class=\"node\" id=\"node9\"><title>TensorType(int32, vector)</title>\n",
       "<polygon fill=\"green\" points=\"1587,-1132 1427,-1132 1427,-1096 1587,-1096 1587,-1132\" stroke=\"black\"/>\n",
       "<text font-family=\"Times,serif\" font-size=\"14.00\" text-anchor=\"middle\" x=\"1507\" y=\"-1110.3\">TensorType(int32, vector)</text>\n",
       "</g>\n",
       "<!-- TensorType(int32, vector)&#45;&gt;Shape_i{0} id=4 -->\n",
       "<g class=\"edge\" id=\"edge5\"><title>TensorType(int32, vector)-&gt;Shape_i{0} id=4</title>\n",
       "<path d=\"M1587.01,-1108.08C1754.6,-1097.63 2154.77,-1071.86 2490,-1044 2523.59,-1041.21 2560.72,-1037.71 2592.27,-1034.61\" fill=\"none\" stroke=\"black\"/>\n",
       "<polygon fill=\"black\" points=\"2592.7,-1038.08 2602.3,-1033.62 2592.01,-1031.12 2592.7,-1038.08\" stroke=\"black\"/>\n",
       "<text font-family=\"Times,serif\" font-size=\"14.00\" text-anchor=\"middle\" x=\"2320\" y=\"-1066.3\">TensorType(int32, vector)</text>\n",
       "</g>\n",
       "<!-- InplaceDimShuffle{0,x} -->\n",
       "<g class=\"node\" id=\"node10\"><title>InplaceDimShuffle{0,x}</title>\n",
       "<ellipse cx=\"728\" cy=\"-972\" fill=\"none\" rx=\"98.1881\" ry=\"18\" stroke=\"black\"/>\n",
       "<text font-family=\"Times,serif\" font-size=\"14.00\" text-anchor=\"middle\" x=\"728\" y=\"-968.3\">InplaceDimShuffle{0,x}</text>\n",
       "</g>\n",
       "<!-- TensorType(int32, vector)&#45;&gt;InplaceDimShuffle{0,x} -->\n",
       "<g class=\"edge\" id=\"edge6\"><title>TensorType(int32, vector)-&gt;InplaceDimShuffle{0,x}</title>\n",
       "<path d=\"M1426.93,-1098.61C1276.54,-1071.58 953.665,-1013.56 805.367,-986.904\" fill=\"none\" stroke=\"blue\"/>\n",
       "<polygon fill=\"blue\" points=\"805.887,-983.442 795.425,-985.118 804.649,-990.331 805.887,-983.442\" stroke=\"blue\"/>\n",
       "<text font-family=\"Times,serif\" font-size=\"14.00\" text-anchor=\"middle\" x=\"1382\" y=\"-1066.3\">TensorType(int32, vector)</text>\n",
       "</g>\n",
       "<!-- Elemwise{eq,no_inplace} id=10 -->\n",
       "<g class=\"node\" id=\"node15\"><title>Elemwise{eq,no_inplace} id=10</title>\n",
       "<ellipse cx=\"777\" cy=\"-634\" fill=\"#ffaabb\" rx=\"127.083\" ry=\"18\" stroke=\"black\"/>\n",
       "<text font-family=\"Times,serif\" font-size=\"14.00\" text-anchor=\"middle\" x=\"777\" y=\"-630.3\">Elemwise{eq,no_inplace} id=10</text>\n",
       "</g>\n",
       "<!-- InplaceDimShuffle{0,x}&#45;&gt;Elemwise{eq,no_inplace} id=10 -->\n",
       "<g class=\"edge\" id=\"edge14\"><title>InplaceDimShuffle{0,x}-&gt;Elemwise{eq,no_inplace} id=10</title>\n",
       "<path d=\"M673.07,-957.031C633.848,-943.374 588,-918.175 588,-875 588,-875 588,-875 588,-721 588,-680.367 624.638,-658.843 665.652,-647.478\" fill=\"none\" stroke=\"black\"/>\n",
       "<polygon fill=\"black\" points=\"666.764,-650.806 675.584,-644.936 665.029,-644.025 666.764,-650.806\" stroke=\"black\"/>\n",
       "<text font-family=\"Times,serif\" font-size=\"14.00\" text-anchor=\"middle\" x=\"656.5\" y=\"-826.3\">0 TensorType(int32, col)</text>\n",
       "</g>\n",
       "<!-- GpuDot22&#45;&gt;GpuElemwise{Add}[(0, 0)] -->\n",
       "<g class=\"edge\" id=\"edge16\"><title>GpuDot22-&gt;GpuElemwise{Add}[(0, 0)]</title>\n",
       "<path d=\"M1998.05,-815.359C1959.37,-797.141 1890.53,-764.707 1845.57,-743.528\" fill=\"none\" stroke=\"red\"/>\n",
       "<polygon fill=\"red\" points=\"1846.9,-740.284 1836.36,-739.189 1843.92,-746.617 1846.9,-740.284\" stroke=\"red\"/>\n",
       "<text font-family=\"Times,serif\" font-size=\"14.00\" text-anchor=\"middle\" x=\"2049\" y=\"-772.3\">0 CudaNdarrayType(float32, matrix)</text>\n",
       "</g>\n",
       "<!-- GpuDimShuffle{1,0}&#45;&gt;GpuGemm{inplace} -->\n",
       "<g class=\"edge\" id=\"edge67\"><title>GpuDimShuffle{1,0}-&gt;GpuGemm{inplace}</title>\n",
       "<path d=\"M3707.89,-771.525C3824.78,-764.384 4021,-742.882 4021,-679 4021,-679 4021,-679 4021,-369 4021,-323.996 4067.7,-302.532 4113.26,-292.301\" fill=\"none\" stroke=\"black\"/>\n",
       "<polygon fill=\"black\" points=\"4114.17,-295.686 4123.25,-290.225 4112.75,-288.832 4114.17,-295.686\" stroke=\"black\"/>\n",
       "<text font-family=\"Times,serif\" font-size=\"14.00\" text-anchor=\"middle\" x=\"4122\" y=\"-542.3\">2 CudaNdarrayType(float32, matrix)</text>\n",
       "</g>\n",
       "<!-- Assert{msg=&#39;Theano Assert failed!&#39;} -->\n",
       "<g class=\"node\" id=\"node35\"><title>Assert{msg='Theano Assert failed!'}</title>\n",
       "<ellipse cx=\"2270\" cy=\"-458\" fill=\"none\" rx=\"141.531\" ry=\"18\" stroke=\"black\"/>\n",
       "<text font-family=\"Times,serif\" font-size=\"14.00\" text-anchor=\"middle\" x=\"2270\" y=\"-454.3\">Assert{msg='Theano Assert failed!'}</text>\n",
       "</g>\n",
       "<!-- Elemwise{eq,no_inplace}&#45;&gt;Assert{msg=&#39;Theano Assert failed!&#39;} -->\n",
       "<g class=\"edge\" id=\"edge41\"><title>Elemwise{eq,no_inplace}-&gt;Assert{msg='Theano Assert failed!'}</title>\n",
       "<path d=\"M2504.71,-811.95C2518.62,-757.453 2553.5,-585.71 2469,-494 2462.16,-486.58 2421.29,-478.761 2378.34,-472.4\" fill=\"none\" stroke=\"black\"/>\n",
       "<polygon fill=\"black\" points=\"2378.68,-468.913 2368.29,-470.941 2377.68,-475.841 2378.68,-468.913\" stroke=\"black\"/>\n",
       "<text font-family=\"Times,serif\" font-size=\"14.00\" text-anchor=\"middle\" x=\"2596.5\" y=\"-630.3\">1 TensorType(int8, scalar)</text>\n",
       "</g>\n",
       "<!-- Elemwise{Cast{float32}} -->\n",
       "<g class=\"node\" id=\"node18\"><title>Elemwise{Cast{float32}}</title>\n",
       "<ellipse cx=\"2912\" cy=\"-830\" fill=\"#ffaabb\" rx=\"103.486\" ry=\"18\" stroke=\"black\"/>\n",
       "<text font-family=\"Times,serif\" font-size=\"14.00\" text-anchor=\"middle\" x=\"2912\" y=\"-826.3\">Elemwise{Cast{float32}}</text>\n",
       "</g>\n",
       "<!-- MakeVector&#45;&gt;Elemwise{Cast{float32}} -->\n",
       "<g class=\"edge\" id=\"edge18\"><title>MakeVector-&gt;Elemwise{Cast{float32}}</title>\n",
       "<path d=\"M2898.36,-900.009C2900.72,-888.073 2903.92,-871.853 2906.64,-858.138\" fill=\"none\" stroke=\"black\"/>\n",
       "<polygon fill=\"black\" points=\"2910.08,-858.739 2908.59,-848.25 2903.22,-857.381 2910.08,-858.739\" stroke=\"black\"/>\n",
       "<text font-family=\"Times,serif\" font-size=\"14.00\" text-anchor=\"middle\" x=\"2978\" y=\"-870.3\">TensorType(int64, vector)</text>\n",
       "</g>\n",
       "<!-- Elemwise{Composite{Cast{float32}((i0 &#45; i1))}} -->\n",
       "<g class=\"node\" id=\"node19\"><title>Elemwise{Composite{Cast{float32}((i0 - i1))}}</title>\n",
       "<ellipse cx=\"1382\" cy=\"-546\" fill=\"#ffaabb\" rx=\"184.375\" ry=\"18\" stroke=\"black\"/>\n",
       "<text font-family=\"Times,serif\" font-size=\"14.00\" text-anchor=\"middle\" x=\"1382\" y=\"-542.3\">Elemwise{Composite{Cast{float32}((i0 - i1))}}</text>\n",
       "</g>\n",
       "<!-- Elemwise{eq,no_inplace} id=10&#45;&gt;Elemwise{Composite{Cast{float32}((i0 &#45; i1))}} -->\n",
       "<g class=\"edge\" id=\"edge20\"><title>Elemwise{eq,no_inplace} id=10-&gt;Elemwise{Composite{Cast{float32}((i0 - i1))}}</title>\n",
       "<path d=\"M888.345,-625.218C941.43,-620.016 1005.53,-611.55 1062,-598 1082.23,-593.145 1085.78,-586.895 1106,-582 1147.61,-571.929 1193.5,-564.635 1235.71,-559.404\" fill=\"none\" stroke=\"black\"/>\n",
       "<polygon fill=\"black\" points=\"1236.28,-562.861 1245.79,-558.185 1235.44,-555.911 1236.28,-562.861\" stroke=\"black\"/>\n",
       "<text font-family=\"Times,serif\" font-size=\"14.00\" text-anchor=\"middle\" x=\"1171\" y=\"-586.3\">1 TensorType(int8, col)</text>\n",
       "</g>\n",
       "<!-- Elemwise{Cast{float32}} id=14 -->\n",
       "<g class=\"node\" id=\"node20\"><title>Elemwise{Cast{float32}} id=14</title>\n",
       "<ellipse cx=\"1052\" cy=\"-546\" fill=\"#ffaabb\" rx=\"127.083\" ry=\"18\" stroke=\"black\"/>\n",
       "<text font-family=\"Times,serif\" font-size=\"14.00\" text-anchor=\"middle\" x=\"1052\" y=\"-542.3\">Elemwise{Cast{float32}} id=14</text>\n",
       "</g>\n",
       "<!-- Elemwise{eq,no_inplace} id=10&#45;&gt;Elemwise{Cast{float32}} id=14 -->\n",
       "<g class=\"edge\" id=\"edge21\"><title>Elemwise{eq,no_inplace} id=10-&gt;Elemwise{Cast{float32}} id=14</title>\n",
       "<path d=\"M826.8,-617.426C873.38,-602.859 943.003,-581.086 992.49,-565.61\" fill=\"none\" stroke=\"black\"/>\n",
       "<polygon fill=\"black\" points=\"993.607,-568.928 1002.11,-562.603 991.517,-562.247 993.607,-568.928\" stroke=\"black\"/>\n",
       "<text font-family=\"Times,serif\" font-size=\"14.00\" text-anchor=\"middle\" x=\"1000\" y=\"-586.3\">TensorType(int8, col)</text>\n",
       "</g>\n",
       "<!-- Elemwise{Composite{NEQ(i0, GT(i1, i2))}} -->\n",
       "<g class=\"node\" id=\"node40\"><title>Elemwise{Composite{NEQ(i0, GT(i1, i2))}}</title>\n",
       "<ellipse cx=\"754\" cy=\"-458\" fill=\"#ffaabb\" rx=\"173.302\" ry=\"18\" stroke=\"black\"/>\n",
       "<text font-family=\"Times,serif\" font-size=\"14.00\" text-anchor=\"middle\" x=\"754\" y=\"-454.3\">Elemwise{Composite{NEQ(i0, GT(i1, i2))}}</text>\n",
       "</g>\n",
       "<!-- Elemwise{eq,no_inplace} id=10&#45;&gt;Elemwise{Composite{NEQ(i0, GT(i1, i2))}} -->\n",
       "<g class=\"edge\" id=\"edge51\"><title>Elemwise{eq,no_inplace} id=10-&gt;Elemwise{Composite{NEQ(i0, GT(i1, i2))}}</title>\n",
       "<path d=\"M774.753,-615.999C770.768,-585.853 762.432,-522.79 757.626,-486.43\" fill=\"none\" stroke=\"black\"/>\n",
       "<polygon fill=\"black\" points=\"761.037,-485.525 756.256,-476.07 754.097,-486.442 761.037,-485.525\" stroke=\"black\"/>\n",
       "<text font-family=\"Times,serif\" font-size=\"14.00\" text-anchor=\"middle\" x=\"833\" y=\"-542.3\">0 TensorType(int8, col)</text>\n",
       "</g>\n",
       "<!-- val=Shape -->\n",
       "<g class=\"node\" id=\"node16\"><title>val=Shape</title>\n",
       "<polygon fill=\"green\" points=\"750,-740 676,-740 676,-704 750,-704 750,-740\" stroke=\"black\"/>\n",
       "<text font-family=\"Times,serif\" font-size=\"14.00\" text-anchor=\"middle\" x=\"713\" y=\"-718.3\">val=Shape</text>\n",
       "</g>\n",
       "<!-- val=Shape&#45;&gt;Elemwise{eq,no_inplace} id=10 -->\n",
       "<g class=\"edge\" id=\"edge15\"><title>val=Shape: (1, 1) TensorType(int8, (True, True))-&gt;Elemwise{eq,no_inplace} id=10</title>\n",
       "<path d=\"M725.951,-703.597C735.207,-691.159 747.806,-674.23 758.171,-660.302\" fill=\"none\" stroke=\"black\"/>\n",
       "<polygon fill=\"black\" points=\"761.124,-662.196 764.286,-652.084 755.508,-658.017 761.124,-662.196\" stroke=\"black\"/>\n",
       "<text font-family=\"Times,serif\" font-size=\"14.00\" text-anchor=\"middle\" x=\"841.5\" y=\"-674.3\">1 TensorType(int8, (True, True))</text>\n",
       "</g>\n",
       "<!-- val=Shape&#45;&gt;Elemwise{Composite{Cast{float32}((i0 &#45; i1))}} -->\n",
       "<g class=\"edge\" id=\"edge19\"><title>val=Shape: (1, 1) TensorType(int8, (True, True))-&gt;Elemwise{Composite{Cast{float32}((i0 - i1))}}</title>\n",
       "<path d=\"M750.368,-716.64C794.89,-711.099 871.374,-700.486 936,-686 1071.59,-655.608 1103.7,-640.481 1236,-598 1266.17,-588.313 1299.55,-576.72 1326.77,-567.036\" fill=\"none\" stroke=\"black\"/>\n",
       "<polygon fill=\"black\" points=\"1328.26,-570.221 1336.5,-563.562 1325.9,-563.628 1328.26,-570.221\" stroke=\"black\"/>\n",
       "<text font-family=\"Times,serif\" font-size=\"14.00\" text-anchor=\"middle\" x=\"1268.5\" y=\"-630.3\">0 TensorType(int8, (True, True))</text>\n",
       "</g>\n",
       "<!-- GpuElemwise{Composite{((i0 * i1 * scalar_softplus(i2)) + (i0 * i3 *... -->\n",
       "<g class=\"node\" id=\"node29\"><title>GpuElemwise{Composite{((i0 * i1 * scalar_softplus(i2)) + (i0 * i3 *...</title>\n",
       "<ellipse cx=\"1686\" cy=\"-370\" fill=\"#ffaabb\" rx=\"264.29\" ry=\"18\" stroke=\"black\"/>\n",
       "<text font-family=\"Times,serif\" font-size=\"14.00\" text-anchor=\"middle\" x=\"1686\" y=\"-366.3\">GpuElemwise{Composite{((i0 * i1 * scalar_softplus(i2)) + (i0 * i3 *...</text>\n",
       "</g>\n",
       "<!-- val=Shape&#45;&gt;GpuElemwise{Composite{((i0 * i1 * scalar_softplus(i2)) + (i0 * i3 *... -->\n",
       "<g class=\"edge\" id=\"edge30\"><title>val=Shape: (1, 1) CudaNdarrayType(float32, (True, True))-&gt;GpuElemwise{Composite{((i0 * i1 * scalar_softplus(i2)) + (i0 * i3 *...</title>\n",
       "<path d=\"M675.987,-704.498C629.174,-681.141 551.58,-633.407 526,-564 505.726,-508.989 521.958,-472.127 571,-440 639.977,-394.813 1109.39,-379.212 1416.76,-373.83\" fill=\"none\" stroke=\"black\"/>\n",
       "<polygon fill=\"black\" points=\"1417.23,-377.322 1427.17,-373.651 1417.11,-370.324 1417.23,-377.322\" stroke=\"black\"/>\n",
       "<text font-family=\"Times,serif\" font-size=\"14.00\" text-anchor=\"middle\" x=\"643\" y=\"-542.3\">0 CudaNdarrayType(float32, (True, True))</text>\n",
       "</g>\n",
       "<!-- GpuElemwise{Composite{((i0 / i1) / i2)},no_inplace} -->\n",
       "<g class=\"node\" id=\"node38\"><title>GpuElemwise{Composite{((i0 / i1) / i2)},no_inplace}</title>\n",
       "<ellipse cx=\"2634\" cy=\"-458\" fill=\"#ffaabb\" rx=\"204.598\" ry=\"18\" stroke=\"black\"/>\n",
       "<text font-family=\"Times,serif\" font-size=\"14.00\" text-anchor=\"middle\" x=\"2634\" y=\"-454.3\">GpuElemwise{Composite{((i0 / i1) / i2)},no_inplace}</text>\n",
       "</g>\n",
       "<!-- val=Shape&#45;&gt;GpuElemwise{Composite{((i0 / i1) / i2)},no_inplace} -->\n",
       "<g class=\"edge\" id=\"edge45\"><title>val=Shape: (1, 1) CudaNdarrayType(float32, (True, True))-&gt;GpuElemwise{Composite{((i0 / i1) / i2)},no_inplace}</title>\n",
       "<path d=\"M750.107,-720.332C968.752,-716.37 2084.64,-695.801 2237,-686 2308.58,-681.395 2507.39,-702.839 2558,-652 2607.79,-601.977 2535.8,-553.353 2574,-494 2576.98,-489.373 2580.8,-485.284 2585.07,-481.687\" fill=\"none\" stroke=\"black\"/>\n",
       "<polygon fill=\"black\" points=\"2587.18,-484.482 2593.16,-475.736 2583.03,-478.844 2587.18,-484.482\" stroke=\"black\"/>\n",
       "<text font-family=\"Times,serif\" font-size=\"14.00\" text-anchor=\"middle\" x=\"2693\" y=\"-586.3\">0 CudaNdarrayType(float32, (True, True))</text>\n",
       "</g>\n",
       "<!-- val=Shape&#45;&gt;Elemwise{Composite{NEQ(i0, GT(i1, i2))}} -->\n",
       "<g class=\"edge\" id=\"edge53\"><title>val=Shape: (1, 1) TensorType(float32, (True, True))-&gt;Elemwise{Composite{NEQ(i0, GT(i1, i2))}}</title>\n",
       "<path d=\"M675.899,-706.037C620.101,-681.47 525.412,-630.459 568,-582 609.123,-535.209 657.01,-601.169 707,-564 731.851,-545.522 743.84,-510.909 749.432,-486.484\" fill=\"none\" stroke=\"black\"/>\n",
       "<polygon fill=\"black\" points=\"752.92,-486.896 751.514,-476.395 746.065,-485.481 752.92,-486.896\" stroke=\"black\"/>\n",
       "<text font-family=\"Times,serif\" font-size=\"14.00\" text-anchor=\"middle\" x=\"667.5\" y=\"-586.3\">2 TensorType(float32, (True, True))</text>\n",
       "</g>\n",
       "<!-- val=Shape&#45;&gt;GpuElemwise{Composite{(i0 &#45; (i1 * i2))}}[(0, 0)] -->\n",
       "<g class=\"edge\" id=\"edge71\"><title>val=Shape: (1,) CudaNdarrayType(float32, (True,))-&gt;GpuElemwise{Composite{(i0 - (i1 * i2))}}[(0, 0)]</title>\n",
       "<path d=\"M675.67,-720.462C528.965,-717.864 0,-703.731 0,-635 0,-635 0,-635 0,-281 0,-250.086 73.0985,-226.822 137.409,-212.337\" fill=\"none\" stroke=\"black\"/>\n",
       "<polygon fill=\"black\" points=\"138.218,-215.743 147.232,-210.176 136.714,-208.906 138.218,-215.743\" stroke=\"black\"/>\n",
       "<text font-family=\"Times,serif\" font-size=\"14.00\" text-anchor=\"middle\" x=\"102.5\" y=\"-454.3\">1 CudaNdarrayType(float32, (True,))</text>\n",
       "</g>\n",
       "<!-- GpuElemwise{neg,no_inplace} -->\n",
       "<g class=\"node\" id=\"node21\"><title>GpuElemwise{neg,no_inplace}</title>\n",
       "<ellipse cx=\"2114\" cy=\"-634\" fill=\"#ffaabb\" rx=\"123.234\" ry=\"18\" stroke=\"black\"/>\n",
       "<text font-family=\"Times,serif\" font-size=\"14.00\" text-anchor=\"middle\" x=\"2114\" y=\"-630.3\">GpuElemwise{neg,no_inplace}</text>\n",
       "</g>\n",
       "<!-- GpuElemwise{Add}[(0, 0)]&#45;&gt;GpuElemwise{neg,no_inplace} -->\n",
       "<g class=\"edge\" id=\"edge22\"><title>GpuElemwise{Add}[(0, 0)]-&gt;GpuElemwise{neg,no_inplace}</title>\n",
       "<path d=\"M1886.49,-710.408C1921.45,-704.871 1962.12,-696.921 1998,-686 2023.67,-678.188 2051.2,-666.245 2073,-655.88\" fill=\"none\" stroke=\"black\"/>\n",
       "<polygon fill=\"black\" points=\"2074.8,-658.901 2082.28,-651.4 2071.75,-652.597 2074.8,-658.901\" stroke=\"black\"/>\n",
       "<text font-family=\"Times,serif\" font-size=\"14.00\" text-anchor=\"middle\" x=\"2137\" y=\"-674.3\">CudaNdarrayType(float32, matrix)</text>\n",
       "</g>\n",
       "<!-- GpuElemwise{Add}[(0, 0)]&#45;&gt;GpuElemwise{Composite{((i0 * i1 * scalar_softplus(i2)) + (i0 * i3 *... -->\n",
       "<g class=\"edge\" id=\"edge34\"><title>GpuElemwise{Add}[(0, 0)]-&gt;GpuElemwise{Composite{((i0 * i1 * scalar_softplus(i2)) + (i0 * i3 *...</title>\n",
       "<path d=\"M1702.5,-714.131C1652.75,-704.675 1603,-683.175 1603,-635 1603,-635 1603,-635 1603,-457 1603,-433.495 1602.14,-424.208 1617,-406 1620.96,-401.152 1625.76,-396.909 1630.97,-393.212\" fill=\"none\" stroke=\"black\"/>\n",
       "<polygon fill=\"black\" points=\"1632.86,-396.157 1639.43,-387.843 1629.11,-390.248 1632.86,-396.157\" stroke=\"black\"/>\n",
       "<text font-family=\"Times,serif\" font-size=\"14.00\" text-anchor=\"middle\" x=\"1704\" y=\"-542.3\">4 CudaNdarrayType(float32, matrix)</text>\n",
       "</g>\n",
       "<!-- GpuElemwise{ScalarSigmoid}[(0, 0)] id=23 -->\n",
       "<g class=\"node\" id=\"node31\"><title>GpuElemwise{ScalarSigmoid}[(0, 0)] id=23</title>\n",
       "<ellipse cx=\"1802\" cy=\"-634\" fill=\"#ffaabb\" rx=\"170.402\" ry=\"18\" stroke=\"black\"/>\n",
       "<text font-family=\"Times,serif\" font-size=\"14.00\" text-anchor=\"middle\" x=\"1802\" y=\"-630.3\">GpuElemwise{ScalarSigmoid}[(0, 0)] id=23</text>\n",
       "</g>\n",
       "<!-- GpuElemwise{Add}[(0, 0)]&#45;&gt;GpuElemwise{ScalarSigmoid}[(0, 0)] id=23 -->\n",
       "<g class=\"edge\" id=\"edge36\"><title>GpuElemwise{Add}[(0, 0)]-&gt;GpuElemwise{ScalarSigmoid}[(0, 0)] id=23</title>\n",
       "<path d=\"M1802,-703.597C1802,-691.746 1802,-675.817 1802,-662.292\" fill=\"none\" stroke=\"red\"/>\n",
       "<polygon fill=\"red\" points=\"1805.5,-662.084 1802,-652.084 1798.5,-662.084 1805.5,-662.084\" stroke=\"red\"/>\n",
       "<text font-family=\"Times,serif\" font-size=\"14.00\" text-anchor=\"middle\" x=\"1898\" y=\"-674.3\">CudaNdarrayType(float32, matrix)</text>\n",
       "</g>\n",
       "<!-- GpuFromHost id=16 -->\n",
       "<g class=\"node\" id=\"node22\"><title>GpuFromHost id=16</title>\n",
       "<ellipse cx=\"2978\" cy=\"-722\" fill=\"red\" rx=\"85.2138\" ry=\"18\" stroke=\"black\"/>\n",
       "<text font-family=\"Times,serif\" font-size=\"14.00\" text-anchor=\"middle\" x=\"2978\" y=\"-718.3\">GpuFromHost id=16</text>\n",
       "</g>\n",
       "<!-- Elemwise{Cast{float32}}&#45;&gt;GpuFromHost id=16 -->\n",
       "<g class=\"edge\" id=\"edge23\"><title>Elemwise{Cast{float32}}-&gt;GpuFromHost id=16</title>\n",
       "<path d=\"M2922.6,-811.969C2933.24,-794.893 2949.74,-768.384 2961.97,-748.74\" fill=\"none\" stroke=\"black\"/>\n",
       "<polygon fill=\"black\" points=\"2965.11,-750.327 2967.42,-739.988 2959.17,-746.627 2965.11,-750.327\" stroke=\"black\"/>\n",
       "<text font-family=\"Times,serif\" font-size=\"14.00\" text-anchor=\"middle\" x=\"3032\" y=\"-772.3\">TensorType(float32, vector)</text>\n",
       "</g>\n",
       "<!-- GpuFromHost id=17 -->\n",
       "<g class=\"node\" id=\"node23\"><title>GpuFromHost id=17</title>\n",
       "<ellipse cx=\"1842\" cy=\"-458\" fill=\"red\" rx=\"85.2138\" ry=\"18\" stroke=\"black\"/>\n",
       "<text font-family=\"Times,serif\" font-size=\"14.00\" text-anchor=\"middle\" x=\"1842\" y=\"-454.3\">GpuFromHost id=17</text>\n",
       "</g>\n",
       "<!-- Elemwise{Composite{Cast{float32}((i0 &#45; i1))}}&#45;&gt;GpuFromHost id=17 -->\n",
       "<g class=\"edge\" id=\"edge24\"><title>Elemwise{Composite{Cast{float32}((i0 - i1))}}-&gt;GpuFromHost id=17</title>\n",
       "<path d=\"M1407,-528.004C1425.49,-516.346 1451.74,-501.652 1477,-494 1526.25,-479.079 1658.89,-469.044 1749.94,-463.676\" fill=\"none\" stroke=\"black\"/>\n",
       "<polygon fill=\"black\" points=\"1750.22,-467.166 1760,-463.091 1749.81,-460.177 1750.22,-467.166\" stroke=\"black\"/>\n",
       "<text font-family=\"Times,serif\" font-size=\"14.00\" text-anchor=\"middle\" x=\"1545.5\" y=\"-498.3\">TensorType(float32, col)</text>\n",
       "</g>\n",
       "<!-- GpuFromHost id=18 -->\n",
       "<g class=\"node\" id=\"node24\"><title>GpuFromHost id=18</title>\n",
       "<ellipse cx=\"1405\" cy=\"-458\" fill=\"red\" rx=\"85.2138\" ry=\"18\" stroke=\"black\"/>\n",
       "<text font-family=\"Times,serif\" font-size=\"14.00\" text-anchor=\"middle\" x=\"1405\" y=\"-454.3\">GpuFromHost id=18</text>\n",
       "</g>\n",
       "<!-- Elemwise{Cast{float32}} id=14&#45;&gt;GpuFromHost id=18 -->\n",
       "<g class=\"edge\" id=\"edge25\"><title>Elemwise{Cast{float32}} id=14-&gt;GpuFromHost id=18</title>\n",
       "<path d=\"M1111.61,-529.977C1152.49,-519.721 1207.99,-505.89 1257,-494 1284.18,-487.405 1314.21,-480.275 1340.08,-474.181\" fill=\"none\" stroke=\"black\"/>\n",
       "<polygon fill=\"black\" points=\"1341.21,-477.511 1350.14,-471.813 1339.61,-470.697 1341.21,-477.511\" stroke=\"black\"/>\n",
       "<text font-family=\"Times,serif\" font-size=\"14.00\" text-anchor=\"middle\" x=\"1325.5\" y=\"-498.3\">TensorType(float32, col)</text>\n",
       "</g>\n",
       "<!-- GpuElemwise{neg,no_inplace}&#45;&gt;GpuElemwise{Composite{((i0 * i1 * scalar_softplus(i2)) + (i0 * i3 *... -->\n",
       "<g class=\"edge\" id=\"edge32\"><title>GpuElemwise{neg,no_inplace}-&gt;GpuElemwise{Composite{((i0 * i1 * scalar_softplus(i2)) + (i0 * i3 *...</title>\n",
       "<path d=\"M2104.5,-615.848C2091.76,-592.406 2068.88,-548.83 2053,-510 2034.59,-464.988 2056.82,-436.569 2019,-406 2007.28,-396.526 1950.41,-388.985 1886.9,-383.364\" fill=\"none\" stroke=\"black\"/>\n",
       "<polygon fill=\"black\" points=\"1886.91,-379.853 1876.65,-382.479 1886.31,-386.827 1886.91,-379.853\" stroke=\"black\"/>\n",
       "<text font-family=\"Times,serif\" font-size=\"14.00\" text-anchor=\"middle\" x=\"2154\" y=\"-498.3\">2 CudaNdarrayType(float32, matrix)</text>\n",
       "</g>\n",
       "<!-- GpuElemwise{ScalarSigmoid}[(0, 0)] -->\n",
       "<g class=\"node\" id=\"node30\"><title>GpuElemwise{ScalarSigmoid}[(0, 0)]</title>\n",
       "<ellipse cx=\"2251\" cy=\"-546\" fill=\"#ffaabb\" rx=\"147.305\" ry=\"18\" stroke=\"black\"/>\n",
       "<text font-family=\"Times,serif\" font-size=\"14.00\" text-anchor=\"middle\" x=\"2251\" y=\"-542.3\">GpuElemwise{ScalarSigmoid}[(0, 0)]</text>\n",
       "</g>\n",
       "<!-- GpuElemwise{neg,no_inplace}&#45;&gt;GpuElemwise{ScalarSigmoid}[(0, 0)] -->\n",
       "<g class=\"edge\" id=\"edge35\"><title>GpuElemwise{neg,no_inplace}-&gt;GpuElemwise{ScalarSigmoid}[(0, 0)]</title>\n",
       "<path d=\"M2140.74,-616.214C2162.15,-602.777 2192.35,-583.818 2215.73,-569.139\" fill=\"none\" stroke=\"red\"/>\n",
       "<polygon fill=\"red\" points=\"2217.72,-572.025 2224.33,-563.743 2214,-566.096 2217.72,-572.025\" stroke=\"red\"/>\n",
       "<text font-family=\"Times,serif\" font-size=\"14.00\" text-anchor=\"middle\" x=\"2291\" y=\"-586.3\">CudaNdarrayType(float32, matrix)</text>\n",
       "</g>\n",
       "<!-- GpuSubtensor{int64} -->\n",
       "<g class=\"node\" id=\"node25\"><title>GpuSubtensor{int64}</title>\n",
       "<ellipse cx=\"3606\" cy=\"-634\" fill=\"#ffaaff\" rx=\"87.613\" ry=\"18\" stroke=\"black\"/>\n",
       "<text font-family=\"Times,serif\" font-size=\"14.00\" text-anchor=\"middle\" x=\"3606\" y=\"-630.3\">GpuSubtensor{int64}</text>\n",
       "</g>\n",
       "<!-- GpuFromHost id=16&#45;&gt;GpuSubtensor{int64} -->\n",
       "<g class=\"edge\" id=\"edge26\"><title>GpuFromHost id=16-&gt;GpuSubtensor{int64}</title>\n",
       "<path d=\"M3047.3,-711.509C3164.43,-695.47 3400.9,-663.087 3525.3,-646.051\" fill=\"none\" stroke=\"blue\"/>\n",
       "<polygon fill=\"blue\" points=\"3526.09,-649.476 3535.52,-644.652 3525.14,-642.541 3526.09,-649.476\" stroke=\"blue\"/>\n",
       "<text font-family=\"Times,serif\" font-size=\"14.00\" text-anchor=\"middle\" x=\"3449\" y=\"-674.3\">0 CudaNdarrayType(float32, vector)</text>\n",
       "</g>\n",
       "<!-- GpuSubtensor{int64} id=20 -->\n",
       "<g class=\"node\" id=\"node27\"><title>GpuSubtensor{int64} id=20</title>\n",
       "<ellipse cx=\"2886\" cy=\"-634\" fill=\"#ffaaff\" rx=\"111.21\" ry=\"18\" stroke=\"black\"/>\n",
       "<text font-family=\"Times,serif\" font-size=\"14.00\" text-anchor=\"middle\" x=\"2886\" y=\"-630.3\">GpuSubtensor{int64} id=20</text>\n",
       "</g>\n",
       "<!-- GpuFromHost id=16&#45;&gt;GpuSubtensor{int64} id=20 -->\n",
       "<g class=\"edge\" id=\"edge28\"><title>GpuFromHost id=16-&gt;GpuSubtensor{int64} id=20</title>\n",
       "<path d=\"M2959.82,-704.009C2946.09,-691.17 2927.05,-673.376 2911.75,-659.072\" fill=\"none\" stroke=\"blue\"/>\n",
       "<polygon fill=\"blue\" points=\"2913.83,-656.228 2904.14,-651.956 2909.05,-661.341 2913.83,-656.228\" stroke=\"blue\"/>\n",
       "<text font-family=\"Times,serif\" font-size=\"14.00\" text-anchor=\"middle\" x=\"3041\" y=\"-674.3\">0 CudaNdarrayType(float32, vector)</text>\n",
       "</g>\n",
       "<!-- GpuFromHost id=17&#45;&gt;GpuElemwise{Composite{((i0 * i1 * scalar_softplus(i2)) + (i0 * i3 *... -->\n",
       "<g class=\"edge\" id=\"edge33\"><title>GpuFromHost id=17-&gt;GpuElemwise{Composite{((i0 * i1 * scalar_softplus(i2)) + (i0 * i3 *...</title>\n",
       "<path d=\"M1838.72,-440.008C1835.7,-428.812 1830.1,-414.669 1820,-406 1813.03,-400.018 1805.16,-395.042 1796.82,-390.905\" fill=\"none\" stroke=\"black\"/>\n",
       "<polygon fill=\"black\" points=\"1798.14,-387.664 1787.59,-386.737 1795.26,-394.044 1798.14,-387.664\" stroke=\"black\"/>\n",
       "<text font-family=\"Times,serif\" font-size=\"14.00\" text-anchor=\"middle\" x=\"1923.5\" y=\"-410.3\">3 CudaNdarrayType(float32, col)</text>\n",
       "</g>\n",
       "<!-- GpuElemwise{Composite{((i0 * i1 * i2) + ((i3 * i4) / i5))}}[(0, 0)] -->\n",
       "<g class=\"node\" id=\"node41\"><title>GpuElemwise{Composite{((i0 * i1 * i2) + ((i3 * i4) / i5))}}[(0, 0)]</title>\n",
       "<ellipse cx=\"2288\" cy=\"-370\" fill=\"#ffaabb\" rx=\"252.266\" ry=\"18\" stroke=\"black\"/>\n",
       "<text font-family=\"Times,serif\" font-size=\"14.00\" text-anchor=\"middle\" x=\"2288\" y=\"-366.3\">GpuElemwise{Composite{((i0 * i1 * i2) + ((i3 * i4) / i5))}}[(0, 0)]</text>\n",
       "</g>\n",
       "<!-- GpuFromHost id=17&#45;&gt;GpuElemwise{Composite{((i0 * i1 * i2) + ((i3 * i4) / i5))}}[(0, 0)] -->\n",
       "<g class=\"edge\" id=\"edge58\"><title>GpuFromHost id=17-&gt;GpuElemwise{Composite{((i0 * i1 * i2) + ((i3 * i4) / i5))}}[(0, 0)]</title>\n",
       "<path d=\"M1905.37,-445.866C1939.25,-439.563 1981.57,-431.127 2019,-422 2043.73,-415.969 2049.17,-411.62 2074,-406 2104.56,-399.082 2137.88,-392.962 2168.92,-387.853\" fill=\"none\" stroke=\"black\"/>\n",
       "<polygon fill=\"black\" points=\"2169.6,-391.288 2178.91,-386.23 2168.48,-384.378 2169.6,-391.288\" stroke=\"black\"/>\n",
       "<text font-family=\"Times,serif\" font-size=\"14.00\" text-anchor=\"middle\" x=\"2165.5\" y=\"-410.3\">4 CudaNdarrayType(float32, col)</text>\n",
       "</g>\n",
       "<!-- GpuFromHost id=18&#45;&gt;GpuElemwise{Composite{((i0 * i1 * scalar_softplus(i2)) + (i0 * i3 *... -->\n",
       "<g class=\"edge\" id=\"edge31\"><title>GpuFromHost id=18-&gt;GpuElemwise{Composite{((i0 * i1 * scalar_softplus(i2)) + (i0 * i3 *...</title>\n",
       "<path d=\"M1400.14,-439.788C1398.16,-428.785 1397.94,-414.951 1406,-406 1413.84,-397.293 1454.92,-390.207 1503.3,-384.745\" fill=\"none\" stroke=\"black\"/>\n",
       "<polygon fill=\"black\" points=\"1503.83,-388.207 1513.39,-383.639 1503.07,-381.249 1503.83,-388.207\" stroke=\"black\"/>\n",
       "<text font-family=\"Times,serif\" font-size=\"14.00\" text-anchor=\"middle\" x=\"1497.5\" y=\"-410.3\">1 CudaNdarrayType(float32, col)</text>\n",
       "</g>\n",
       "<!-- GpuFromHost id=18&#45;&gt;GpuElemwise{Composite{((i0 * i1 * i2) + ((i3 * i4) / i5))}}[(0, 0)] -->\n",
       "<g class=\"edge\" id=\"edge56\"><title>GpuFromHost id=18-&gt;GpuElemwise{Composite{((i0 * i1 * i2) + ((i3 * i4) / i5))}}[(0, 0)]</title>\n",
       "<path d=\"M1474.07,-447.473C1509.94,-441.691 1554.26,-433.236 1593,-422 1611.39,-416.667 1614.3,-410.121 1633,-406 1638.53,-404.781 1890.34,-391.55 2080.07,-381.714\" fill=\"none\" stroke=\"black\"/>\n",
       "<polygon fill=\"black\" points=\"2080.39,-385.202 2090.2,-381.189 2080.03,-378.212 2080.39,-385.202\" stroke=\"black\"/>\n",
       "<text font-family=\"Times,serif\" font-size=\"14.00\" text-anchor=\"middle\" x=\"1724.5\" y=\"-410.3\">2 CudaNdarrayType(float32, col)</text>\n",
       "</g>\n",
       "<!-- GpuDimShuffle{x,x} -->\n",
       "<g class=\"node\" id=\"node32\"><title>GpuDimShuffle{x,x}</title>\n",
       "<ellipse cx=\"3338\" cy=\"-546\" fill=\"none\" rx=\"87.613\" ry=\"18\" stroke=\"black\"/>\n",
       "<text font-family=\"Times,serif\" font-size=\"14.00\" text-anchor=\"middle\" x=\"3338\" y=\"-542.3\">GpuDimShuffle{x,x}</text>\n",
       "</g>\n",
       "<!-- GpuSubtensor{int64}&#45;&gt;GpuDimShuffle{x,x} -->\n",
       "<g class=\"edge\" id=\"edge37\"><title>GpuSubtensor{int64}-&gt;GpuDimShuffle{x,x}</title>\n",
       "<path d=\"M3560.84,-618.509C3514.55,-603.654 3442.51,-580.538 3392.94,-564.632\" fill=\"none\" stroke=\"blue\"/>\n",
       "<polygon fill=\"blue\" points=\"3393.94,-561.274 3383.34,-561.551 3391.8,-567.939 3393.94,-561.274\" stroke=\"blue\"/>\n",
       "<text font-family=\"Times,serif\" font-size=\"14.00\" text-anchor=\"middle\" x=\"3590.5\" y=\"-586.3\">CudaNdarrayType(float32, scalar)</text>\n",
       "</g>\n",
       "<!-- GpuElemwise{Composite{(&#45;((i0 / i1) / i2))}}[(0, 0)] -->\n",
       "<g class=\"node\" id=\"node39\"><title>GpuElemwise{Composite{(-((i0 / i1) / i2))}}[(0, 0)]</title>\n",
       "<ellipse cx=\"3587\" cy=\"-194\" fill=\"#ffaabb\" rx=\"198.349\" ry=\"18\" stroke=\"black\"/>\n",
       "<text font-family=\"Times,serif\" font-size=\"14.00\" text-anchor=\"middle\" x=\"3587\" y=\"-190.3\">GpuElemwise{Composite{(-((i0 / i1) / i2))}}[(0, 0)]</text>\n",
       "</g>\n",
       "<!-- GpuSubtensor{int64}&#45;&gt;GpuElemwise{Composite{(&#45;((i0 / i1) / i2))}}[(0, 0)] -->\n",
       "<g class=\"edge\" id=\"edge49\"><title>GpuSubtensor{int64}-&gt;GpuElemwise{Composite{(-((i0 / i1) / i2))}}[(0, 0)]</title>\n",
       "<path d=\"M3690.5,-629.225C3745.85,-621.664 3808,-601.124 3808,-547 3808,-547 3808,-547 3808,-281 3808,-251.299 3737.8,-227.76 3676.53,-212.871\" fill=\"none\" stroke=\"black\"/>\n",
       "<polygon fill=\"black\" points=\"3677.32,-209.462 3666.79,-210.556 3675.71,-216.272 3677.32,-209.462\" stroke=\"black\"/>\n",
       "<text font-family=\"Times,serif\" font-size=\"14.00\" text-anchor=\"middle\" x=\"3907\" y=\"-410.3\">1 CudaNdarrayType(float32, scalar)</text>\n",
       "</g>\n",
       "<!-- val=0 int64 -->\n",
       "<g class=\"node\" id=\"node26\"><title>val=0 int64</title>\n",
       "<polygon fill=\"green\" points=\"3646,-740 3566,-740 3566,-704 3646,-704 3646,-740\" stroke=\"black\"/>\n",
       "<text font-family=\"Times,serif\" font-size=\"14.00\" text-anchor=\"middle\" x=\"3606\" y=\"-718.3\">val=0 int64</text>\n",
       "</g>\n",
       "<!-- val=0 int64&#45;&gt;GpuSubtensor{int64} -->\n",
       "<g class=\"edge\" id=\"edge27\"><title>val=0 int64-&gt;GpuSubtensor{int64}</title>\n",
       "<path d=\"M3606,-703.597C3606,-691.746 3606,-675.817 3606,-662.292\" fill=\"none\" stroke=\"black\"/>\n",
       "<polygon fill=\"black\" points=\"3609.5,-662.084 3606,-652.084 3602.5,-662.084 3609.5,-662.084\" stroke=\"black\"/>\n",
       "<text font-family=\"Times,serif\" font-size=\"14.00\" text-anchor=\"middle\" x=\"3625.5\" y=\"-674.3\">1 int64</text>\n",
       "</g>\n",
       "<!-- GpuDimShuffle{x,x} id=25 -->\n",
       "<g class=\"node\" id=\"node33\"><title>GpuDimShuffle{x,x} id=25</title>\n",
       "<ellipse cx=\"2824\" cy=\"-546\" fill=\"none\" rx=\"111.21\" ry=\"18\" stroke=\"black\"/>\n",
       "<text font-family=\"Times,serif\" font-size=\"14.00\" text-anchor=\"middle\" x=\"2824\" y=\"-542.3\">GpuDimShuffle{x,x} id=25</text>\n",
       "</g>\n",
       "<!-- GpuSubtensor{int64} id=20&#45;&gt;GpuDimShuffle{x,x} id=25 -->\n",
       "<g class=\"edge\" id=\"edge38\"><title>GpuSubtensor{int64} id=20-&gt;GpuDimShuffle{x,x} id=25</title>\n",
       "<path d=\"M2873.75,-616.009C2864.75,-603.524 2852.37,-586.352 2842.21,-572.261\" fill=\"none\" stroke=\"blue\"/>\n",
       "<polygon fill=\"blue\" points=\"2844.91,-570.02 2836.22,-563.956 2839.23,-574.114 2844.91,-570.02\" stroke=\"blue\"/>\n",
       "<text font-family=\"Times,serif\" font-size=\"14.00\" text-anchor=\"middle\" x=\"2954.5\" y=\"-586.3\">CudaNdarrayType(float32, scalar)</text>\n",
       "</g>\n",
       "<!-- GpuSubtensor{int64} id=20&#45;&gt;GpuElemwise{Composite{(&#45;((i0 / i1) / i2))}}[(0, 0)] -->\n",
       "<g class=\"edge\" id=\"edge50\"><title>GpuSubtensor{int64} id=20-&gt;GpuElemwise{Composite{(-((i0 / i1) / i2))}}[(0, 0)]</title>\n",
       "<path d=\"M2990.8,-627.919C3102.24,-620.644 3282.89,-603.467 3434,-564 3513.8,-543.159 3587,-541.473 3587,-459 3587,-459 3587,-459 3587,-281 3587,-261.404 3587,-239.296 3587,-222.402\" fill=\"none\" stroke=\"black\"/>\n",
       "<polygon fill=\"black\" points=\"3590.5,-222.133 3587,-212.133 3583.5,-222.133 3590.5,-222.133\" stroke=\"black\"/>\n",
       "<text font-family=\"Times,serif\" font-size=\"14.00\" text-anchor=\"middle\" x=\"3686\" y=\"-410.3\">2 CudaNdarrayType(float32, scalar)</text>\n",
       "</g>\n",
       "<!-- val=1 int64 -->\n",
       "<g class=\"node\" id=\"node28\"><title>val=1 int64</title>\n",
       "<polygon fill=\"green\" points=\"2875,-740 2795,-740 2795,-704 2875,-704 2875,-740\" stroke=\"black\"/>\n",
       "<text font-family=\"Times,serif\" font-size=\"14.00\" text-anchor=\"middle\" x=\"2835\" y=\"-718.3\">val=1 int64</text>\n",
       "</g>\n",
       "<!-- val=1 int64&#45;&gt;GpuSubtensor{int64} id=20 -->\n",
       "<g class=\"edge\" id=\"edge29\"><title>val=1 int64-&gt;GpuSubtensor{int64} id=20</title>\n",
       "<path d=\"M2845.32,-703.597C2852.63,-691.277 2862.55,-674.549 2870.76,-660.696\" fill=\"none\" stroke=\"black\"/>\n",
       "<polygon fill=\"black\" points=\"2873.78,-662.471 2875.87,-652.084 2867.76,-658.9 2873.78,-662.471\" stroke=\"black\"/>\n",
       "<text font-family=\"Times,serif\" font-size=\"14.00\" text-anchor=\"middle\" x=\"2885.5\" y=\"-674.3\">1 int64</text>\n",
       "</g>\n",
       "<!-- GpuCAReduce{add}{1,1} -->\n",
       "<g class=\"node\" id=\"node34\"><title>GpuCAReduce{add}{1,1}</title>\n",
       "<ellipse cx=\"1798\" cy=\"-282\" fill=\"none\" rx=\"105.411\" ry=\"18\" stroke=\"black\"/>\n",
       "<text font-family=\"Times,serif\" font-size=\"14.00\" text-anchor=\"middle\" x=\"1798\" y=\"-278.3\">GpuCAReduce{add}{1,1}</text>\n",
       "</g>\n",
       "<!-- GpuElemwise{Composite{((i0 * i1 * scalar_softplus(i2)) + (i0 * i3 *...&#45;&gt;GpuCAReduce{add}{1,1} -->\n",
       "<g class=\"edge\" id=\"edge39\"><title>GpuElemwise{Composite{((i0 * i1 * scalar_softplus(i2)) + (i0 * i3 *...-&gt;GpuCAReduce{add}{1,1}</title>\n",
       "<path d=\"M1708.13,-352.009C1725.34,-338.79 1749.4,-320.319 1768.29,-305.813\" fill=\"none\" stroke=\"black\"/>\n",
       "<polygon fill=\"black\" points=\"1770.5,-308.529 1776.3,-299.663 1766.24,-302.977 1770.5,-308.529\" stroke=\"black\"/>\n",
       "<text font-family=\"Times,serif\" font-size=\"14.00\" text-anchor=\"middle\" x=\"1849\" y=\"-322.3\">CudaNdarrayType(float32, matrix)</text>\n",
       "</g>\n",
       "<!-- GpuElemwise{ScalarSigmoid}[(0, 0)]&#45;&gt;Assert{msg=&#39;Theano Assert failed!&#39;} -->\n",
       "<g class=\"edge\" id=\"edge40\"><title>GpuElemwise{ScalarSigmoid}[(0, 0)]-&gt;Assert{msg='Theano Assert failed!'}</title>\n",
       "<path d=\"M2254.84,-527.597C2257.49,-515.629 2261.05,-499.501 2264.06,-485.891\" fill=\"none\" stroke=\"blue\"/>\n",
       "<polygon fill=\"blue\" points=\"2267.49,-486.604 2266.23,-476.084 2260.65,-485.093 2267.49,-486.604\" stroke=\"blue\"/>\n",
       "<text font-family=\"Times,serif\" font-size=\"14.00\" text-anchor=\"middle\" x=\"2364\" y=\"-498.3\">0 CudaNdarrayType(float32, matrix)</text>\n",
       "</g>\n",
       "<!-- HostFromGpu -->\n",
       "<g class=\"node\" id=\"node36\"><title>HostFromGpu</title>\n",
       "<ellipse cx=\"1885\" cy=\"-546\" fill=\"red\" rx=\"61.6163\" ry=\"18\" stroke=\"black\"/>\n",
       "<text font-family=\"Times,serif\" font-size=\"14.00\" text-anchor=\"middle\" x=\"1885\" y=\"-542.3\">HostFromGpu</text>\n",
       "</g>\n",
       "<!-- GpuElemwise{ScalarSigmoid}[(0, 0)] id=23&#45;&gt;HostFromGpu -->\n",
       "<g class=\"edge\" id=\"edge42\"><title>GpuElemwise{ScalarSigmoid}[(0, 0)] id=23-&gt;HostFromGpu</title>\n",
       "<path d=\"M1779.95,-616.096C1769.46,-605.985 1760.82,-593.006 1769,-582 1772.98,-576.637 1801.57,-567.98 1829.37,-560.617\" fill=\"none\" stroke=\"black\"/>\n",
       "<polygon fill=\"black\" points=\"1830.33,-563.983 1839.13,-558.074 1828.57,-557.209 1830.33,-563.983\" stroke=\"black\"/>\n",
       "<text font-family=\"Times,serif\" font-size=\"14.00\" text-anchor=\"middle\" x=\"1865\" y=\"-586.3\">CudaNdarrayType(float32, matrix)</text>\n",
       "</g>\n",
       "<!-- GpuElemwise{ScalarSigmoid}[(0, 0)] id=23&#45;&gt;GpuElemwise{Composite{((i0 * i1 * i2) + ((i3 * i4) / i5))}}[(0, 0)] -->\n",
       "<g class=\"edge\" id=\"edge57\"><title>GpuElemwise{ScalarSigmoid}[(0, 0)] id=23-&gt;GpuElemwise{Composite{((i0 * i1 * i2) + ((i3 * i4) / i5))}}[(0, 0)]</title>\n",
       "<path d=\"M1908.32,-619.909C1932.47,-614.695 1953.3,-607.583 1961,-598 1971.87,-584.483 1983.11,-557.474 1955,-528 1918.8,-490.048 1808.58,-534.422 1842,-494 1855.55,-477.608 1915.12,-480.053 1936,-476 2017.37,-460.205 2037.19,-453.368 2119,-440 2149.52,-435.013 2231.08,-438.875 2257,-422 2266.12,-416.064 2272.97,-406.417 2277.88,-397.103\" fill=\"none\" stroke=\"black\"/>\n",
       "<polygon fill=\"black\" points=\"2281.05,-398.586 2282.16,-388.049 2274.72,-395.595 2281.05,-398.586\" stroke=\"black\"/>\n",
       "<text font-family=\"Times,serif\" font-size=\"14.00\" text-anchor=\"middle\" x=\"1943\" y=\"-498.3\">3 CudaNdarrayType(float32, matrix)</text>\n",
       "</g>\n",
       "<!-- GpuElemwise{mul,no_inplace} -->\n",
       "<g class=\"node\" id=\"node37\"><title>GpuElemwise{mul,no_inplace}</title>\n",
       "<ellipse cx=\"2982\" cy=\"-458\" fill=\"#ffaabb\" rx=\"124.184\" ry=\"18\" stroke=\"black\"/>\n",
       "<text font-family=\"Times,serif\" font-size=\"14.00\" text-anchor=\"middle\" x=\"2982\" y=\"-454.3\">GpuElemwise{mul,no_inplace}</text>\n",
       "</g>\n",
       "<!-- GpuDimShuffle{x,x}&#45;&gt;GpuElemwise{mul,no_inplace} -->\n",
       "<g class=\"edge\" id=\"edge44\"><title>GpuDimShuffle{x,x}-&gt;GpuElemwise{mul,no_inplace}</title>\n",
       "<path d=\"M3335.24,-528.001C3332.44,-516.5 3326.88,-501.997 3316,-494 3284.58,-470.899 3194.79,-462.384 3116.21,-459.519\" fill=\"none\" stroke=\"black\"/>\n",
       "<polygon fill=\"black\" points=\"3116.31,-456.02 3106.2,-459.182 3116.08,-463.016 3116.31,-456.02\" stroke=\"black\"/>\n",
       "<text font-family=\"Times,serif\" font-size=\"14.00\" text-anchor=\"middle\" x=\"3446\" y=\"-498.3\">1 CudaNdarrayType(float32, (True, True))</text>\n",
       "</g>\n",
       "<!-- GpuDimShuffle{x,x}&#45;&gt;GpuElemwise{Composite{((i0 / i1) / i2)},no_inplace} -->\n",
       "<g class=\"edge\" id=\"edge47\"><title>GpuDimShuffle{x,x}-&gt;GpuElemwise{Composite{((i0 / i1) / i2)},no_inplace}</title>\n",
       "<path d=\"M3257.25,-539.081C3193.13,-533.47 3109.23,-523.831 3078,-510 3067.91,-505.53 3069.21,-498.208 3059,-494 3057.39,-493.335 2910.04,-481.295 2789.31,-471.521\" fill=\"none\" stroke=\"black\"/>\n",
       "<polygon fill=\"black\" points=\"2789.44,-468.02 2779.19,-470.702 2788.88,-474.997 2789.44,-468.02\" stroke=\"black\"/>\n",
       "<text font-family=\"Times,serif\" font-size=\"14.00\" text-anchor=\"middle\" x=\"3195\" y=\"-498.3\">2 CudaNdarrayType(float32, (True, True))</text>\n",
       "</g>\n",
       "<!-- GpuDimShuffle{x,x} id=25&#45;&gt;GpuElemwise{mul,no_inplace} -->\n",
       "<g class=\"edge\" id=\"edge43\"><title>GpuDimShuffle{x,x} id=25-&gt;GpuElemwise{mul,no_inplace}</title>\n",
       "<path d=\"M2819.35,-527.55C2817.57,-516.729 2817.49,-503.186 2825,-494 2832.88,-484.363 2854.32,-477.193 2878.91,-471.941\" fill=\"none\" stroke=\"black\"/>\n",
       "<polygon fill=\"black\" points=\"2879.73,-475.346 2888.85,-469.949 2878.36,-468.483 2879.73,-475.346\" stroke=\"black\"/>\n",
       "<text font-family=\"Times,serif\" font-size=\"14.00\" text-anchor=\"middle\" x=\"2942\" y=\"-498.3\">0 CudaNdarrayType(float32, (True, True))</text>\n",
       "</g>\n",
       "<!-- GpuDimShuffle{x,x} id=25&#45;&gt;GpuElemwise{Composite{((i0 / i1) / i2)},no_inplace} -->\n",
       "<g class=\"edge\" id=\"edge46\"><title>GpuDimShuffle{x,x} id=25-&gt;GpuElemwise{Composite{((i0 / i1) / i2)},no_inplace}</title>\n",
       "<path d=\"M2714.58,-542.878C2658.66,-539.231 2598.72,-530.457 2581,-510 2572.59,-500.292 2578.97,-490.339 2589.82,-481.833\" fill=\"none\" stroke=\"black\"/>\n",
       "<polygon fill=\"black\" points=\"2592.13,-484.489 2598.36,-475.919 2588.14,-478.735 2592.13,-484.489\" stroke=\"black\"/>\n",
       "<text font-family=\"Times,serif\" font-size=\"14.00\" text-anchor=\"middle\" x=\"2698\" y=\"-498.3\">1 CudaNdarrayType(float32, (True, True))</text>\n",
       "</g>\n",
       "<!-- GpuCAReduce{add}{1,1}&#45;&gt;GpuElemwise{Composite{(&#45;((i0 / i1) / i2))}}[(0, 0)] -->\n",
       "<g class=\"edge\" id=\"edge48\"><title>GpuCAReduce{add}{1,1}-&gt;GpuElemwise{Composite{(-((i0 / i1) / i2))}}[(0, 0)]</title>\n",
       "<path d=\"M1801.24,-263.667C1804.41,-252.009 1810.51,-237.455 1822,-230 1854.26,-209.079 2920.83,-199.449 3380.06,-196.265\" fill=\"none\" stroke=\"red\"/>\n",
       "<polygon fill=\"red\" points=\"3380.15,-199.765 3390.13,-196.196 3380.1,-192.765 3380.15,-199.765\" stroke=\"red\"/>\n",
       "<text font-family=\"Times,serif\" font-size=\"14.00\" text-anchor=\"middle\" x=\"1921\" y=\"-234.3\">0 CudaNdarrayType(float32, scalar)</text>\n",
       "</g>\n",
       "<!-- Assert{msg=&#39;Theano Assert failed!&#39;}&#45;&gt;GpuElemwise{Composite{((i0 * i1 * i2) + ((i3 * i4) / i5))}}[(0, 0)] -->\n",
       "<g class=\"edge\" id=\"edge54\"><title>Assert{msg='Theano Assert failed!'}-&gt;GpuElemwise{Composite{((i0 * i1 * i2) + ((i3 * i4) / i5))}}[(0, 0)]</title>\n",
       "<path d=\"M2276.73,-439.765C2278.69,-434.171 2280.66,-427.888 2282,-422 2283.74,-414.35 2284.99,-405.933 2285.89,-398.18\" fill=\"none\" stroke=\"red\"/>\n",
       "<polygon fill=\"red\" points=\"2289.38,-398.455 2286.9,-388.155 2282.41,-397.753 2289.38,-398.455\" stroke=\"red\"/>\n",
       "<text font-family=\"Times,serif\" font-size=\"14.00\" text-anchor=\"middle\" x=\"2386\" y=\"-410.3\">0 CudaNdarrayType(float32, matrix)</text>\n",
       "</g>\n",
       "<!-- HostFromGpu&#45;&gt;Elemwise{Composite{NEQ(i0, GT(i1, i2))}} -->\n",
       "<g class=\"edge\" id=\"edge52\"><title>HostFromGpu-&gt;Elemwise{Composite{NEQ(i0, GT(i1, i2))}}</title>\n",
       "<path d=\"M1839.35,-533.89C1829.39,-531.717 1818.87,-529.615 1809,-528 1733.15,-515.59 1709.04,-536.791 1637,-510 1625.33,-505.66 1625.8,-497.967 1614,-494 1597.93,-488.6 1172.43,-473.266 926.09,-464.797\" fill=\"none\" stroke=\"black\"/>\n",
       "<polygon fill=\"black\" points=\"926.065,-461.295 915.951,-464.449 925.825,-468.29 926.065,-461.295\" stroke=\"black\"/>\n",
       "<text font-family=\"Times,serif\" font-size=\"14.00\" text-anchor=\"middle\" x=\"1720.5\" y=\"-498.3\">1 TensorType(float32, matrix)</text>\n",
       "</g>\n",
       "<!-- GpuElemwise{mul,no_inplace}&#45;&gt;GpuElemwise{Composite{((i0 * i1 * i2) + ((i3 * i4) / i5))}}[(0, 0)] -->\n",
       "<g class=\"edge\" id=\"edge59\"><title>GpuElemwise{mul,no_inplace}-&gt;GpuElemwise{Composite{((i0 * i1 * i2) + ((i3 * i4) / i5))}}[(0, 0)]</title>\n",
       "<path d=\"M2931.3,-441.473C2890.97,-429.77 2832.89,-414.358 2781,-406 2696.75,-392.431 2603.55,-384.122 2521.07,-379.035\" fill=\"none\" stroke=\"black\"/>\n",
       "<polygon fill=\"black\" points=\"2521.26,-375.54 2511.07,-378.43 2520.84,-382.527 2521.26,-375.54\" stroke=\"black\"/>\n",
       "<text font-family=\"Times,serif\" font-size=\"14.00\" text-anchor=\"middle\" x=\"2971\" y=\"-410.3\">5 CudaNdarrayType(float32, (True, True))</text>\n",
       "</g>\n",
       "<!-- GpuElemwise{Composite{((i0 / i1) / i2)},no_inplace}&#45;&gt;GpuElemwise{Composite{((i0 * i1 * i2) + ((i3 * i4) / i5))}}[(0, 0)] -->\n",
       "<g class=\"edge\" id=\"edge55\"><title>GpuElemwise{Composite{((i0 / i1) / i2)},no_inplace}-&gt;GpuElemwise{Composite{((i0 * i1 * i2) + ((i3 * i4) / i5))}}[(0, 0)]</title>\n",
       "<path d=\"M2592.98,-440.248C2564.71,-429.23 2526.06,-415.2 2491,-406 2464.12,-398.945 2434.85,-392.949 2407.13,-388.018\" fill=\"none\" stroke=\"black\"/>\n",
       "<polygon fill=\"black\" points=\"2407.44,-384.52 2396.99,-386.249 2406.24,-391.416 2407.44,-384.52\" stroke=\"black\"/>\n",
       "<text font-family=\"Times,serif\" font-size=\"14.00\" text-anchor=\"middle\" x=\"2660\" y=\"-410.3\">1 CudaNdarrayType(float32, (True, True))</text>\n",
       "</g>\n",
       "<!-- HostFromGpu id=34 -->\n",
       "<g class=\"node\" id=\"node42\"><title>HostFromGpu id=34</title>\n",
       "<ellipse cx=\"3587\" cy=\"-106\" fill=\"red\" rx=\"85.2138\" ry=\"18\" stroke=\"black\"/>\n",
       "<text font-family=\"Times,serif\" font-size=\"14.00\" text-anchor=\"middle\" x=\"3587\" y=\"-102.3\">HostFromGpu id=34</text>\n",
       "</g>\n",
       "<!-- GpuElemwise{Composite{(&#45;((i0 / i1) / i2))}}[(0, 0)]&#45;&gt;HostFromGpu id=34 -->\n",
       "<g class=\"edge\" id=\"edge60\"><title>GpuElemwise{Composite{(-((i0 / i1) / i2))}}[(0, 0)]-&gt;HostFromGpu id=34</title>\n",
       "<path d=\"M3587,-175.597C3587,-163.746 3587,-147.817 3587,-134.292\" fill=\"none\" stroke=\"black\"/>\n",
       "<polygon fill=\"black\" points=\"3590.5,-134.084 3587,-124.084 3583.5,-134.084 3590.5,-134.084\" stroke=\"black\"/>\n",
       "<text font-family=\"Times,serif\" font-size=\"14.00\" text-anchor=\"middle\" x=\"3680.5\" y=\"-146.3\">CudaNdarrayType(float32, scalar)</text>\n",
       "</g>\n",
       "<!-- Sum{acc_dtype=int64} -->\n",
       "<g class=\"node\" id=\"node44\"><title>Sum{acc_dtype=int64}</title>\n",
       "<ellipse cx=\"357\" cy=\"-370\" fill=\"none\" rx=\"94.338\" ry=\"18\" stroke=\"black\"/>\n",
       "<text font-family=\"Times,serif\" font-size=\"14.00\" text-anchor=\"middle\" x=\"357\" y=\"-366.3\">Sum{acc_dtype=int64}</text>\n",
       "</g>\n",
       "<!-- Elemwise{Composite{NEQ(i0, GT(i1, i2))}}&#45;&gt;Sum{acc_dtype=int64} -->\n",
       "<g class=\"edge\" id=\"edge62\"><title>Elemwise{Composite{NEQ(i0, GT(i1, i2))}}-&gt;Sum{acc_dtype=int64}</title>\n",
       "<path d=\"M682.566,-441.526C610.074,-425.822 498.577,-401.669 426.711,-386.101\" fill=\"none\" stroke=\"black\"/>\n",
       "<polygon fill=\"black\" points=\"427.356,-382.66 416.841,-383.963 425.874,-389.501 427.356,-382.66\" stroke=\"black\"/>\n",
       "<text font-family=\"Times,serif\" font-size=\"14.00\" text-anchor=\"middle\" x=\"661.5\" y=\"-410.3\">TensorType(int8, matrix)</text>\n",
       "</g>\n",
       "<!-- GpuCAReduce{add}{1,0} -->\n",
       "<g class=\"node\" id=\"node46\"><title>GpuCAReduce{add}{1,0}</title>\n",
       "<ellipse cx=\"2050\" cy=\"-282\" fill=\"none\" rx=\"105.411\" ry=\"18\" stroke=\"black\"/>\n",
       "<text font-family=\"Times,serif\" font-size=\"14.00\" text-anchor=\"middle\" x=\"2050\" y=\"-278.3\">GpuCAReduce{add}{1,0}</text>\n",
       "</g>\n",
       "<!-- GpuElemwise{Composite{((i0 * i1 * i2) + ((i3 * i4) / i5))}}[(0, 0)]&#45;&gt;GpuCAReduce{add}{1,0} -->\n",
       "<g class=\"edge\" id=\"edge64\"><title>GpuElemwise{Composite{((i0 * i1 * i2) + ((i3 * i4) / i5))}}[(0, 0)]-&gt;GpuCAReduce{add}{1,0}</title>\n",
       "<path d=\"M2241.55,-352.214C2201.64,-337.793 2144.12,-317.011 2102.54,-301.986\" fill=\"none\" stroke=\"black\"/>\n",
       "<polygon fill=\"black\" points=\"2103.73,-298.692 2093.13,-298.586 2101.35,-305.276 2103.73,-298.692\" stroke=\"black\"/>\n",
       "<text font-family=\"Times,serif\" font-size=\"14.00\" text-anchor=\"middle\" x=\"2287\" y=\"-322.3\">CudaNdarrayType(float32, matrix)</text>\n",
       "</g>\n",
       "<!-- GpuElemwise{Composite{((i0 * i1 * i2) + ((i3 * i4) / i5))}}[(0, 0)]&#45;&gt;GpuGemm{inplace} -->\n",
       "<g class=\"edge\" id=\"edge68\"><title>GpuElemwise{Composite{((i0 * i1 * i2) + ((i3 * i4) / i5))}}[(0, 0)]-&gt;GpuGemm{inplace}</title>\n",
       "<path d=\"M2494.78,-359.694C2906.59,-341.162 3814.66,-300.296 4106.64,-287.156\" fill=\"none\" stroke=\"black\"/>\n",
       "<polygon fill=\"black\" points=\"4106.93,-290.647 4116.76,-286.701 4106.62,-283.654 4106.93,-290.647\" stroke=\"black\"/>\n",
       "<text font-family=\"Times,serif\" font-size=\"14.00\" text-anchor=\"middle\" x=\"3516\" y=\"-322.3\">3 CudaNdarrayType(float32, matrix)</text>\n",
       "</g>\n",
       "<!-- TensorType(float32, scalar) -->\n",
       "<g class=\"node\" id=\"node43\"><title>TensorType(float32, scalar)</title>\n",
       "<polygon fill=\"blue\" points=\"3670.5,-36 3503.5,-36 3503.5,-0 3670.5,-0 3670.5,-36\" stroke=\"black\"/>\n",
       "<text font-family=\"Times,serif\" font-size=\"14.00\" text-anchor=\"middle\" x=\"3587\" y=\"-14.3\">TensorType(float32, scalar)</text>\n",
       "</g>\n",
       "<!-- HostFromGpu id=34&#45;&gt;TensorType(float32, scalar) -->\n",
       "<g class=\"edge\" id=\"edge61\"><title>HostFromGpu id=34-&gt;TensorType(float32, scalar)</title>\n",
       "<path d=\"M3587,-87.5966C3587,-75.7459 3587,-59.8169 3587,-46.2917\" fill=\"none\" stroke=\"black\"/>\n",
       "<polygon fill=\"black\" points=\"3590.5,-46.084 3587,-36.084 3583.5,-46.084 3590.5,-46.084\" stroke=\"black\"/>\n",
       "<text font-family=\"Times,serif\" font-size=\"14.00\" text-anchor=\"middle\" x=\"3663\" y=\"-58.3\">TensorType(float32, scalar)</text>\n",
       "</g>\n",
       "<!-- TensorType(int64, scalar) id=44 -->\n",
       "<g class=\"node\" id=\"node45\"><title>TensorType(int64, scalar) id=44</title>\n",
       "<polygon fill=\"blue\" points=\"454.5,-300 261.5,-300 261.5,-264 454.5,-264 454.5,-300\" stroke=\"black\"/>\n",
       "<text font-family=\"Times,serif\" font-size=\"14.00\" text-anchor=\"middle\" x=\"358\" y=\"-278.3\">TensorType(int64, scalar) id=44</text>\n",
       "</g>\n",
       "<!-- Sum{acc_dtype=int64}&#45;&gt;TensorType(int64, scalar) id=44 -->\n",
       "<g class=\"edge\" id=\"edge63\"><title>Sum{acc_dtype=int64}-&gt;TensorType(int64, scalar) id=44</title>\n",
       "<path d=\"M357.202,-351.597C357.34,-339.746 357.525,-323.817 357.683,-310.292\" fill=\"none\" stroke=\"black\"/>\n",
       "<polygon fill=\"black\" points=\"361.185,-310.124 357.801,-300.084 354.185,-310.043 361.185,-310.124\" stroke=\"black\"/>\n",
       "<text font-family=\"Times,serif\" font-size=\"14.00\" text-anchor=\"middle\" x=\"429\" y=\"-322.3\">TensorType(int64, scalar)</text>\n",
       "</g>\n",
       "<!-- GpuCAReduce{add}{1,0}&#45;&gt;GpuElemwise{Composite{(i0 &#45; (i1 * i2))}}[(0, 0)] -->\n",
       "<g class=\"edge\" id=\"edge72\"><title>GpuCAReduce{add}{1,0}-&gt;GpuElemwise{Composite{(i0 - (i1 * i2))}}[(0, 0)]</title>\n",
       "<path d=\"M2044.85,-263.799C2040.33,-252.042 2032.5,-237.314 2020,-230 1986.17,-210.211 892.339,-199.855 432.99,-196.371\" fill=\"none\" stroke=\"black\"/>\n",
       "<polygon fill=\"black\" points=\"432.953,-192.87 422.926,-196.295 432.9,-199.87 432.953,-192.87\" stroke=\"black\"/>\n",
       "<text font-family=\"Times,serif\" font-size=\"14.00\" text-anchor=\"middle\" x=\"2136\" y=\"-234.3\">2 CudaNdarrayType(float32, vector)</text>\n",
       "</g>\n",
       "<!-- val=&#45;0.0010000000475 TensorType(float32, scalar) -->\n",
       "<g class=\"node\" id=\"node48\"><title>val=-0.0010000000475 TensorType(float32, scalar)</title>\n",
       "<polygon fill=\"green\" points=\"4348.25,-388 4049.75,-388 4049.75,-352 4348.25,-352 4348.25,-388\" stroke=\"black\"/>\n",
       "<text font-family=\"Times,serif\" font-size=\"14.00\" text-anchor=\"middle\" x=\"4199\" y=\"-366.3\">val=-0.0010000000475 TensorType(float32, scalar)</text>\n",
       "</g>\n",
       "<!-- val=&#45;0.0010000000475 TensorType(float32, scalar)&#45;&gt;GpuGemm{inplace} -->\n",
       "<g class=\"edge\" id=\"edge66\"><title>val=-0.0010000000475 TensorType(float32, scalar)-&gt;GpuGemm{inplace}</title>\n",
       "<path d=\"M4199,-351.597C4199,-339.746 4199,-323.817 4199,-310.292\" fill=\"none\" stroke=\"black\"/>\n",
       "<polygon fill=\"black\" points=\"4202.5,-310.084 4199,-300.084 4195.5,-310.084 4202.5,-310.084\" stroke=\"black\"/>\n",
       "<text font-family=\"Times,serif\" font-size=\"14.00\" text-anchor=\"middle\" x=\"4280.5\" y=\"-322.3\">1 TensorType(float32, scalar)</text>\n",
       "</g>\n",
       "<!-- val=1.0 TensorType(float32, scalar) -->\n",
       "<g class=\"node\" id=\"node49\"><title>val=1.0 TensorType(float32, scalar)</title>\n",
       "<polygon fill=\"green\" points=\"4580.5,-388 4367.5,-388 4367.5,-352 4580.5,-352 4580.5,-388\" stroke=\"black\"/>\n",
       "<text font-family=\"Times,serif\" font-size=\"14.00\" text-anchor=\"middle\" x=\"4474\" y=\"-366.3\">val=1.0 TensorType(float32, scalar)</text>\n",
       "</g>\n",
       "<!-- val=1.0 TensorType(float32, scalar)&#45;&gt;GpuGemm{inplace} -->\n",
       "<g class=\"edge\" id=\"edge69\"><title>val=1.0 TensorType(float32, scalar)-&gt;GpuGemm{inplace}</title>\n",
       "<path d=\"M4442.68,-351.804C4421.54,-340.807 4392.73,-326.975 4366,-318 4337.11,-308.302 4304.47,-300.746 4275.76,-295.177\" fill=\"none\" stroke=\"black\"/>\n",
       "<polygon fill=\"black\" points=\"4276.26,-291.709 4265.79,-293.29 4274.96,-298.588 4276.26,-291.709\" stroke=\"black\"/>\n",
       "<text font-family=\"Times,serif\" font-size=\"14.00\" text-anchor=\"middle\" x=\"4486.5\" y=\"-322.3\">4 TensorType(float32, scalar)</text>\n",
       "</g>\n",
       "</g>\n",
       "</svg>"
      ],
      "text/plain": [
       "<IPython.core.display.SVG object>"
      ]
     },
     "execution_count": 82,
     "metadata": {},
     "output_type": "execute_result"
    }
   ],
   "source": [
    "svgdotprint(train_fun)"
   ]
  },
  {
   "cell_type": "code",
   "execution_count": 85,
   "metadata": {
    "collapsed": false
   },
   "outputs": [
    {
     "name": "stdout",
     "output_type": "stream",
     "text": [
      "0 0.135152593255 25\n",
      "test errs:  200\n",
      "1000 0.133246645331 30\n",
      "test errs:  190\n",
      "2000 0.121706545353 20\n",
      "test errs:  179\n",
      "3000 0.108372025192 22\n",
      "test errs:  173\n",
      "4000 0.115951508284 24\n",
      "test errs:  165\n",
      "5000 0.103434242308 10\n",
      "test errs:  156\n",
      "6000 0.114383324981 28\n",
      "test errs:  156\n",
      "7000 0.105613715947 19\n",
      "test errs:  152\n",
      "8000 0.100954905152 16\n",
      "test errs:  150\n",
      "9000 0.101504124701 21\n",
      "test errs:  146\n",
      "10000 0.0931702852249 13\n",
      "test errs:  143\n",
      "11000 0.0976519659162 19\n",
      "test errs:  139\n",
      "12000 0.0929547697306 17\n",
      "test errs:  135\n",
      "13000 0.0994606986642 23\n",
      "test errs:  132\n",
      "14000 0.0976180955768 21\n",
      "test errs:  132\n",
      "15000 0.0870763882995 21\n",
      "test errs:  130\n",
      "16000 0.0692994147539 8\n",
      "test errs:  130\n",
      "17000 0.0772057250142 16\n",
      "test errs:  129\n"
     ]
    },
    {
     "ename": "KeyboardInterrupt",
     "evalue": "",
     "output_type": "error",
     "traceback": [
      "\u001b[1;31m---------------------------------------------------------------------------\u001b[0m",
      "\u001b[1;31mKeyboardInterrupt\u001b[0m                         Traceback (most recent call last)",
      "\u001b[1;32m<ipython-input-85-92efbdf2befa>\u001b[0m in \u001b[0;36m<module>\u001b[1;34m()\u001b[0m\n\u001b[0;32m      3\u001b[0m     \u001b[0mbatchX\u001b[0m \u001b[1;33m=\u001b[0m \u001b[0mnp\u001b[0m\u001b[1;33m.\u001b[0m\u001b[0mtake\u001b[0m\u001b[1;33m(\u001b[0m\u001b[0mtrainX\u001b[0m\u001b[1;33m,\u001b[0m \u001b[0mbatch_idx\u001b[0m\u001b[1;33m,\u001b[0m \u001b[0maxis\u001b[0m\u001b[1;33m=\u001b[0m\u001b[1;36m0\u001b[0m\u001b[1;33m)\u001b[0m\u001b[1;33m\u001b[0m\u001b[0m\n\u001b[0;32m      4\u001b[0m     \u001b[0mbatchY\u001b[0m \u001b[1;33m=\u001b[0m \u001b[0mnp\u001b[0m\u001b[1;33m.\u001b[0m\u001b[0mtake\u001b[0m\u001b[1;33m(\u001b[0m\u001b[0mtrainY\u001b[0m\u001b[1;33m,\u001b[0m \u001b[0mbatch_idx\u001b[0m\u001b[1;33m,\u001b[0m \u001b[0maxis\u001b[0m\u001b[1;33m=\u001b[0m\u001b[1;36m0\u001b[0m\u001b[1;33m)\u001b[0m\u001b[1;33m\u001b[0m\u001b[0m\n\u001b[1;32m----> 5\u001b[1;33m     \u001b[0mnll\u001b[0m\u001b[1;33m,\u001b[0m \u001b[0merr\u001b[0m \u001b[1;33m=\u001b[0m \u001b[0mtrain_fun\u001b[0m\u001b[1;33m(\u001b[0m\u001b[0mbatchX\u001b[0m\u001b[1;33m,\u001b[0m \u001b[0mbatchY\u001b[0m\u001b[1;33m)\u001b[0m\u001b[1;33m\u001b[0m\u001b[0m\n\u001b[0m\u001b[0;32m      6\u001b[0m     \u001b[1;32mif\u001b[0m \u001b[1;33m(\u001b[0m\u001b[0mstep\u001b[0m\u001b[1;33m%\u001b[0m\u001b[1;36m1000\u001b[0m\u001b[1;33m)\u001b[0m\u001b[1;33m==\u001b[0m\u001b[1;36m0\u001b[0m\u001b[1;33m:\u001b[0m\u001b[1;33m\u001b[0m\u001b[0m\n\u001b[0;32m      7\u001b[0m         \u001b[1;32mprint\u001b[0m \u001b[0mstep\u001b[0m\u001b[1;33m,\u001b[0m \u001b[0mnll\u001b[0m\u001b[1;33m,\u001b[0m \u001b[0merr\u001b[0m\u001b[1;33m\u001b[0m\u001b[0m\n",
      "\u001b[1;32m/home/jch/scratch/speech/libs/Theano/theano/compile/function_module.pyc\u001b[0m in \u001b[0;36m__call__\u001b[1;34m(self, *args, **kwargs)\u001b[0m\n\u001b[0;32m    597\u001b[0m         \u001b[0mt0_fn\u001b[0m \u001b[1;33m=\u001b[0m \u001b[0mtime\u001b[0m\u001b[1;33m.\u001b[0m\u001b[0mtime\u001b[0m\u001b[1;33m(\u001b[0m\u001b[1;33m)\u001b[0m\u001b[1;33m\u001b[0m\u001b[0m\n\u001b[0;32m    598\u001b[0m         \u001b[1;32mtry\u001b[0m\u001b[1;33m:\u001b[0m\u001b[1;33m\u001b[0m\u001b[0m\n\u001b[1;32m--> 599\u001b[1;33m             \u001b[0moutputs\u001b[0m \u001b[1;33m=\u001b[0m \u001b[0mself\u001b[0m\u001b[1;33m.\u001b[0m\u001b[0mfn\u001b[0m\u001b[1;33m(\u001b[0m\u001b[1;33m)\u001b[0m\u001b[1;33m\u001b[0m\u001b[0m\n\u001b[0m\u001b[0;32m    600\u001b[0m         \u001b[1;32mexcept\u001b[0m \u001b[0mException\u001b[0m\u001b[1;33m:\u001b[0m\u001b[1;33m\u001b[0m\u001b[0m\n\u001b[0;32m    601\u001b[0m             \u001b[1;32mif\u001b[0m \u001b[0mhasattr\u001b[0m\u001b[1;33m(\u001b[0m\u001b[0mself\u001b[0m\u001b[1;33m.\u001b[0m\u001b[0mfn\u001b[0m\u001b[1;33m,\u001b[0m \u001b[1;34m'position_of_error'\u001b[0m\u001b[1;33m)\u001b[0m\u001b[1;33m:\u001b[0m\u001b[1;33m\u001b[0m\u001b[0m\n",
      "\u001b[1;31mKeyboardInterrupt\u001b[0m: "
     ]
    }
   ],
   "source": [
    "for step in xrange(100000):\n",
    "    batch_idx = np.random.random_integers(0, trainX.shape[0]-1, 1000) #index of train samples for this iter\n",
    "    batchX = np.take(trainX, batch_idx, axis=0)\n",
    "    batchY = np.take(trainY, batch_idx, axis=0)\n",
    "    nll, err = train_fun(batchX, batchY)\n",
    "    if (step%1000)==0:\n",
    "        print step, nll, err\n",
    "    \n",
    "    if (step%1000)==0:\n",
    "        testPreds = is_one(testX).ravel()\n",
    "        testErrs = ((testY==1) != testPreds).sum()\n",
    "        print \"test errs: \", testErrs"
   ]
  },
  {
   "cell_type": "code",
   "execution_count": 86,
   "metadata": {
    "collapsed": false
   },
   "outputs": [
    {
     "data": {
      "text/plain": [
       "<matplotlib.colorbar.Colorbar instance at 0x7f7c4cd0f560>"
      ]
     },
     "execution_count": 86,
     "metadata": {},
     "output_type": "execute_result"
    },
    {
     "data": {
      "image/png": "[encoded data removed]",
      "text/plain": [
       "<matplotlib.figure.Figure at 0x7f7c5af3ca10>"
      ]
     },
     "metadata": {},
     "output_type": "display_data"
    }
   ],
   "source": [
    "plt.imshow(W.get_value().reshape(28,28), interpolation='nearest')\n",
    "plt.colorbar()"
   ]
  },
  {
   "cell_type": "markdown",
   "metadata": {},
   "source": [
    "## Dlaczego wszędzie chcemy float32?\n",
    "\n",
    "Theano potrafi generować kod w C do obliczeń wykorzystujcych CPU i kod w CUDA do obliczeń na GPU. Garty dla graczy zwykle zoptymalizowane są z myślą o obliczeniach we float32. Dodatkowo, uczenie sieci neuronowych nie wymaga pracyzju float64. Ponadto, osczędzamy trochę pamięci.\n",
    "\n",
    "W starych wersjach Theano funkcje kompilowane na GPU obsługiwały jedynie obliczenia w float32. W nowszej (testowej) implementacji możemy na GPU korzystać z float16, float32 i float64. Sam sprzęt jest jednak najwydajniejszy dla float32.\n",
    "\n",
    "Domyślny typ liczb zmiennoprzecinkowych możemy ustawiać flagą konfiguracyjną Theano config.floatX: http://deeplearning.net/software/theano/library/config.html"
   ]
  },
  {
   "cell_type": "markdown",
   "metadata": {},
   "source": [
    "## Budujemy sieć neuronową"
   ]
  },
  {
   "cell_type": "code",
   "execution_count": 61,
   "metadata": {
    "collapsed": true
   },
   "outputs": [],
   "source": [
    "from theano.tensor.shared_randomstreams import RandomStreams"
   ]
  },
  {
   "cell_type": "code",
   "execution_count": 100,
   "metadata": {
    "collapsed": false
   },
   "outputs": [],
   "source": [
    "theano.config.compute_test_value = 'warn' #właczamy\n",
    "\n",
    "X = TT.matrix('X') #zmienne niezależne - minibatch\n",
    "X.tag.test_value = trainX[:2,:] #weźmiemy tylko dwie wartości, żeby szybko sie liczyło\n",
    "\n",
    "Y = TT.ivector() #Y będzie typu integer\n",
    "Y.tag.test_value = trainY[:2]\n",
    "\n",
    "parameters = []\n",
    "layers = [] #will be needed for dropout\n",
    "\n",
    "# zaczynamy od wejść\n",
    "L = X\n",
    "last_dim = trainX.shape[1]\n",
    "for hl_num, hl_size in enumerate([800, 800]):\n",
    "    W = theano.shared((np.random.rand(last_dim, hl_size)*0.01-0.005).astype(np.float32),\n",
    "                     name='W_%d' % (hl_num))\n",
    "\n",
    "    # biasy - znów dla jednego wyjścia\n",
    "    b = theano.shared(np.zeros((hl_size,), dtype=np.float32),\n",
    "                     name='b_%d' % (hl_num))\n",
    "    parameters.extend([W,b])\n",
    "    \n",
    "    L = L.dot(W) + b\n",
    "    L = TT.maximum(0, L) #ReLU activation\n",
    "    layers.append(L)\n",
    "    last_dim = hl_size\n",
    "    \n",
    "## warstwa wyjściowa:\n",
    "W = theano.shared((np.random.rand(last_dim, 10)*0.01-0.005).astype(np.float32),\n",
    "                     name='W_out')\n",
    "# biasy - znów dla jednego wyjścia\n",
    "b = theano.shared(np.zeros((10,), dtype=np.float32),\n",
    "                     name='b_out')\n",
    "\n",
    "parameters.extend([W,b])\n",
    "L = L.dot(W) + b\n",
    "p_y_given_x = TT.nnet.softmax(L) #ReLU activation"
   ]
  },
  {
   "cell_type": "code",
   "execution_count": 101,
   "metadata": {
    "collapsed": false
   },
   "outputs": [
    {
     "data": {
      "text/plain": [
       "[W_0:CudaNdarrayType(float32, matrix),\n",
       " b_0:CudaNdarrayType(float32, vector),\n",
       " W_1:CudaNdarrayType(float32, matrix),\n",
       " b_1:CudaNdarrayType(float32, vector),\n",
       " W_out:CudaNdarrayType(float32, matrix),\n",
       " b_out:CudaNdarrayType(float32, vector)]"
      ]
     },
     "execution_count": 101,
     "metadata": {},
     "output_type": "execute_result"
    }
   ],
   "source": [
    "parameters"
   ]
  },
  {
   "cell_type": "code",
   "execution_count": 102,
   "metadata": {
    "collapsed": false
   },
   "outputs": [
    {
     "data": {
      "text/plain": [
       "Shape: (2, 10)\n",
       "[[ 0.10000848  0.1000341   0.10003663  0.09997744  0.10001019  0.09995852\n",
       "   0.10000192  0.09997851  0.09999165  0.10000257]\n",
       " [ 0.10000823  0.10002995  0.10003844  0.09996197  0.10001402  0.09996747\n",
       "   0.09999985  0.09996491  0.09999809  0.10001708]]"
      ]
     },
     "execution_count": 102,
     "metadata": {},
     "output_type": "execute_result"
    }
   ],
   "source": [
    "p_y_given_x.tag.test_value"
   ]
  },
  {
   "cell_type": "code",
   "execution_count": 103,
   "metadata": {
    "collapsed": false
   },
   "outputs": [
    {
     "data": {
      "text/plain": [
       "Shape: (2,)\n",
       "[2 2]"
      ]
     },
     "execution_count": 103,
     "metadata": {},
     "output_type": "execute_result"
    }
   ],
   "source": [
    "pred_y_given_x = TT.argmax(p_y_given_x, axis=1)\n",
    "pred_y_given_x.tag.test_value"
   ]
  },
  {
   "cell_type": "code",
   "execution_count": 104,
   "metadata": {
    "collapsed": true
   },
   "outputs": [],
   "source": [
    "classify = theano.function([X], pred_y_given_x)"
   ]
  },
  {
   "cell_type": "markdown",
   "metadata": {},
   "source": [
    "## Dodajemy dropout\n",
    "\n",
    "Dropout polega na wyłaczeniu pewnego losowego podzbioru neuronów w każdej z warstw. Możemy go zaimplementować jako mnożenie przez losową macierz 0-1. \n",
    "\n",
    "Zamiast modyfikować kod implementujący sieć, podmienimy w Theano węzły każdej z warstw na mnożenie z losową macierzą. W ten sposób możemy zaimplementować dropout dla wszystkich możliwych modeli."
   ]
  },
  {
   "cell_type": "code",
   "execution_count": 105,
   "metadata": {
    "collapsed": false
   },
   "outputs": [],
   "source": [
    "ret=None\n",
    "if len(layers)<2:\n",
    "    ret=svgdotprint(p_y_given_x)\n",
    "ret"
   ]
  },
  {
   "cell_type": "code",
   "execution_count": 106,
   "metadata": {
    "collapsed": false
   },
   "outputs": [
    {
     "name": "stdout",
     "output_type": "stream",
     "text": [
      "ss\n"
     ]
    }
   ],
   "source": [
    "from theano.tensor.shared_randomstreams import RandomStreams\n",
    "ret=None\n",
    "rng = RandomStreams()\n",
    "input_dropout=0.2\n",
    "dropout = 0.5\n",
    "if dropout>0:\n",
    "    replacements = []\n",
    "    \n",
    "    if input_dropout>0:\n",
    "        print 'ss'\n",
    "        mask = rng.uniform((X.shape[0],X.shape[1])) >= input_dropout\n",
    "        mask /= (1.0-input_dropout)\n",
    "        replacements.append((X, X*mask))\n",
    "    \n",
    "    for l in layers:\n",
    "        mask = rng.uniform((l.shape[0],l.shape[1])) >= dropout\n",
    "        mask /= (1.0-dropout)\n",
    "        replacements.append((l, l*mask))\n",
    "\n",
    "    p_y_given_x = theano.clone(p_y_given_x, replace=replacements)\n",
    "    pred_y_given_x = theano.clone(pred_y_given_x, replace=replacements)\n",
    "    if len(layers)<2:\n",
    "        ret=svgdotprint(p_y_given_x)\n",
    "ret"
   ]
  },
  {
   "cell_type": "code",
   "execution_count": 107,
   "metadata": {
    "collapsed": false
   },
   "outputs": [],
   "source": [
    "neg_ll = -TT.log(p_y_given_x[TT.arange(Y.shape[0]), Y]).mean() # log z prawdopodobienstw przypisanym poprawnym klasom"
   ]
  },
  {
   "cell_type": "code",
   "execution_count": 108,
   "metadata": {
    "collapsed": false
   },
   "outputs": [],
   "source": [
    "loss = neg_ll\n",
    "\n",
    "#for p in parameters:\n",
    "#    if p.name.startswith('W'):\n",
    "#        loss = loss + 1e-4*(p**2).sum()"
   ]
  },
  {
   "cell_type": "code",
   "execution_count": 109,
   "metadata": {
    "collapsed": false
   },
   "outputs": [],
   "source": [
    "errs = TT.neq(Y, pred_y_given_x).sum()"
   ]
  },
  {
   "cell_type": "code",
   "execution_count": 110,
   "metadata": {
    "collapsed": false
   },
   "outputs": [],
   "source": [
    "d_loss_d_parameters = theano.grad(loss, parameters)"
   ]
  },
  {
   "cell_type": "code",
   "execution_count": 111,
   "metadata": {
    "collapsed": true
   },
   "outputs": [],
   "source": [
    "num_steps = theano.shared(np.array(0, dtype=np.float32))\n",
    "lrate_sched = [(num_steps, num_steps+1)]"
   ]
  },
  {
   "cell_type": "code",
   "execution_count": 112,
   "metadata": {
    "collapsed": false
   },
   "outputs": [],
   "source": [
    "K = 3000\n",
    "lrate = (K*0.3)/TT.maximum(K, num_steps)"
   ]
  },
  {
   "cell_type": "code",
   "execution_count": 113,
   "metadata": {
    "collapsed": false
   },
   "outputs": [],
   "source": [
    "learn_rule = []\n",
    "\n",
    "for p, dl_dp in zip(parameters, d_loss_d_parameters):\n",
    "    p_new = p- lrate*dl_dp\n",
    "    if p.name.startswith('W'):\n",
    "        p_new_col_norms = TT.sqrt((p_new**2).sum(0, keepdims=True))\n",
    "        p_new = p_new / TT.switch(p_new_col_norms>1.0, p_new_col_norms, 1.0)\n",
    "    learn_rule.append((p,p_new))\n",
    "    "
   ]
  },
  {
   "cell_type": "code",
   "execution_count": null,
   "metadata": {
    "collapsed": true
   },
   "outputs": [],
   "source": []
  },
  {
   "cell_type": "code",
   "execution_count": 114,
   "metadata": {
    "collapsed": true
   },
   "outputs": [],
   "source": [
    "train_fun = theano.function([X,Y], (loss, errs), updates=learn_rule+lrate_sched)"
   ]
  },
  {
   "cell_type": "code",
   "execution_count": 115,
   "metadata": {
    "collapsed": false,
    "scrolled": true
   },
   "outputs": [
    {
     "name": "stdout",
     "output_type": "stream",
     "text": [
      "0 2.30257987976 95.0 %%\n",
      "test errs:  89.9 %%\n",
      "50 2.29752333164 87.26 %%\n",
      "100 1.66333782554 58.24 %%\n",
      "150 0.599581331611 18.92 %%\n",
      "200 0.361875680089 10.64 %%\n",
      "250 0.316401032805 9.22 %%\n",
      "300 0.284721823037 8.74 %%\n",
      "350 0.25609244138 7.62 %%\n",
      "400 0.234181158245 6.54 %%\n",
      "450 0.212472470552 5.92 %%\n",
      "500 0.194286559969 5.86 %%\n",
      "550 0.204885071069 5.96 %%\n",
      "600 0.205114082694 5.66 %%\n",
      "650 0.164034750313 4.44 %%\n",
      "700 0.161216153055 4.7 %%\n",
      "750 0.158288211897 4.58 %%\n",
      "800 0.154040496498 4.26 %%\n",
      "850 0.14622402437 3.86 %%\n",
      "900 0.149899998754 4.12 %%\n",
      "950 0.152941461653 4.1 %%\n",
      "1000 0.133165308386 3.86 %%\n",
      "test errs:  4.04 %%\n",
      "1050 0.125808657147 3.68 %%\n",
      "1100 0.113890041262 3.4 %%\n",
      "1150 0.10952644065 3.18 %%\n",
      "1200 0.109599674381 3.6 %%\n",
      "1250 0.139885922447 3.84 %%\n",
      "1300 0.0973279761523 2.84 %%\n",
      "1350 0.111118956581 2.86 %%\n",
      "1400 0.100540672932 3.08 %%\n",
      "1450 0.109885300715 2.88 %%\n",
      "1500 0.0989344232902 2.6 %%\n",
      "1550 0.107042226978 3.28 %%\n",
      "1600 0.121921634637 2.86 %%\n",
      "1650 0.0767285779491 2.44 %%\n",
      "1700 0.106637279205 2.66 %%\n",
      "1750 0.100708118044 2.56 %%\n",
      "1800 0.0852400244772 2.5 %%\n",
      "1850 0.072188488692 2.14 %%\n",
      "1900 0.080431384109 2.46 %%\n",
      "1950 0.083044770956 2.48 %%\n",
      "2000 0.0798282207176 2.4 %%\n",
      "test errs:  2.97 %%\n",
      "2050 0.0782053402998 2.5 %%\n",
      "2100 0.0721189085767 2.18 %%\n",
      "2150 0.0742528568581 2.12 %%\n",
      "2200 0.0638669252582 1.92 %%\n",
      "2250 0.0652118181624 1.9 %%\n",
      "2300 0.0975482978672 2.4 %%\n",
      "2350 0.0667894346826 1.74 %%\n",
      "2400 0.0851445890591 2.22 %%\n",
      "2450 0.0640188766457 1.88 %%\n",
      "2500 0.0610972829349 1.74 %%\n",
      "2550 0.0819537101407 1.8 %%\n",
      "2600 0.0716187970527 2.18 %%\n",
      "2650 0.0647542218491 2.22 %%\n",
      "2700 0.0678598535061 2.2 %%\n",
      "2750 0.0453853668645 1.38 %%\n",
      "2800 0.0700683380477 2.04 %%\n",
      "2850 0.0537579071894 1.5 %%\n",
      "2900 0.0444182709977 1.3 %%\n",
      "2950 0.0566162109375 1.76 %%\n",
      "3000 0.0483267213125 1.32 %%\n",
      "test errs:  2.88 %%\n",
      "3050 0.052232500799 1.5 %%\n",
      "3100 0.0835349381622 1.48 %%\n",
      "3150 0.0562989967316 1.58 %%\n",
      "3200 0.0547766504623 1.66 %%\n",
      "3250 0.0513560083695 1.26 %%\n",
      "3300 0.0522251615766 1.56 %%\n",
      "3350 0.0403452973068 1.14 %%\n",
      "3400 0.0352917550877 1.02 %%\n",
      "3450 0.038415351212 1.1 %%\n",
      "3500 0.0420424393099 1.26 %%\n",
      "3550 0.0323853394901 0.88 %%\n",
      "3600 0.0352627260517 1.06 %%\n",
      "3650 0.0356025384832 1.2 %%\n",
      "3700 0.0408661313914 1.32 %%\n",
      "3750 0.0285803123936 0.84 %%\n",
      "3800 0.0312181073427 1.14 %%\n",
      "3850 0.0348317569168 0.98 %%\n",
      "3900 0.0349793655705 1.1 %%\n",
      "3950 0.0349577936344 1.06 %%\n",
      "4000 0.0304844436981 0.84 %%\n",
      "test errs:  2.13 %%\n",
      "4050 0.0296245940216 0.96 %%\n",
      "4100 0.0521621371619 0.94 %%\n",
      "4150 0.0270955454186 0.82 %%\n",
      "4200 0.0393015861185 0.88 %%\n",
      "4250 0.0321522514755 0.98 %%\n",
      "4300 0.0244287753617 0.64 %%\n",
      "4350 0.0280755660776 0.72 %%\n",
      "4400 0.0252911994699 0.62 %%\n",
      "4450 0.0203070942964 0.54 %%\n",
      "4500 0.0273009516392 0.76 %%\n",
      "4550 0.0223668831564 0.62 %%\n",
      "4600 0.0225353225321 0.6 %%\n",
      "4650 0.0200706754765 0.5 %%\n",
      "4700 0.0249697427358 0.46 %%\n",
      "4750 0.0234749020496 0.56 %%\n",
      "4800 0.0170313441195 0.5 %%\n",
      "4850 0.0232280103257 0.66 %%\n",
      "4900 0.0184494407126 0.52 %%\n",
      "4950 0.0241257838113 0.6 %%\n",
      "5000 0.021321525001 0.46 %%\n",
      "test errs:  2.05 %%\n",
      "5050 0.0186956143798 0.46 %%\n",
      "5100 0.0154489207291 0.42 %%\n",
      "5150 0.0245831492916 0.64 %%\n",
      "5200 0.0176261331351 0.54 %%\n",
      "5250 0.0170988446102 0.46 %%\n",
      "5300 0.0153430338739 0.4 %%\n",
      "5350 0.0190609306935 0.38 %%\n",
      "5400 0.0356022494682 0.38 %%\n",
      "5450 0.0175766962254 0.52 %%\n",
      "5500 0.0119870433491 0.28 %%\n",
      "5550 0.0133474434284 0.3 %%\n",
      "5600 0.0150550488709 0.36 %%\n",
      "5650 0.0151216853107 0.38 %%\n",
      "5700 0.0167568928283 0.28 %%\n",
      "5750 0.0143263331905 0.32 %%\n",
      "5800 0.0142107207788 0.4 %%\n",
      "5850 0.0118144115852 0.28 %%\n",
      "5900 0.0157291050558 0.48 %%\n",
      "5950 0.0183397571417 0.38 %%\n",
      "6000 0.0127997559821 0.32 %%\n",
      "test errs:  2.02 %%\n",
      "6050 0.0127265827893 0.22 %%\n",
      "6100 0.0129695397965 0.24 %%\n",
      "6150 0.0115573275625 0.3 %%\n",
      "6200 0.0124494045507 0.24 %%\n",
      "6250 0.0162334202044 0.32 %%\n",
      "6300 0.0128406659095 0.28 %%\n",
      "6350 0.00966703596991 0.2 %%\n",
      "6400 0.0132030300563 0.34 %%\n",
      "6450 0.01441908682 0.4 %%\n",
      "6500 0.0170013007871 0.28 %%\n",
      "6550 0.0123340758611 0.22 %%\n",
      "6600 0.0127426828165 0.34 %%\n",
      "6650 0.00889328161953 0.2 %%\n",
      "6700 0.0113059964951 0.36 %%\n",
      "6750 0.0100929658965 0.26 %%\n",
      "6800 0.0119275010272 0.22 %%\n",
      "6850 0.00993072033394 0.22 %%\n",
      "6900 0.00970668135793 0.22 %%\n",
      "6950 0.0128149542934 0.34 %%\n",
      "7000 0.00856613537995 0.24 %%\n",
      "test errs:  1.96 %%\n",
      "7050 0.0103612341313 0.24 %%\n",
      "7100 0.0102505677775 0.24 %%\n",
      "7150 0.00798665150069 0.2 %%\n",
      "7200 0.0098490368796 0.16 %%\n",
      "7250 0.00801692010602 0.18 %%\n",
      "7300 0.00928287419491 0.28 %%\n",
      "7350 0.00998893204844 0.2 %%\n",
      "7400 0.00681293213274 0.1 %%\n",
      "7450 0.0112078438012 0.22 %%\n",
      "7500 0.00927277093753 0.26 %%\n",
      "7550 0.00933743776521 0.16 %%\n",
      "7600 0.00636308854213 0.12 %%\n",
      "7650 0.00909189120983 0.24 %%\n",
      "7700 0.00829189951299 0.16 %%\n",
      "7750 0.00761634603259 0.14 %%\n",
      "7800 0.005135356643 0.06 %%\n",
      "7850 0.00795292698836 0.22 %%\n",
      "7900 0.0111715249973 0.38 %%\n",
      "7950 0.00811090572737 0.16 %%\n",
      "8000 0.00816103362013 0.22 %%\n",
      "test errs:  1.98 %%\n",
      "8050 0.00801603376516 0.18 %%\n",
      "8100 0.00658087310614 0.14 %%\n",
      "8150 0.00979914654512 0.26 %%\n",
      "8200 0.0063831776916 0.12 %%\n",
      "8250 0.00737528252648 0.16 %%\n",
      "8300 0.00800635488587 0.14 %%\n",
      "8350 0.00662330513936 0.16 %%\n",
      "8400 0.0063124946435 0.12 %%\n",
      "8450 0.00645367773541 0.14 %%\n",
      "8500 0.00871639808407 0.14 %%\n",
      "8550 0.00822387721855 0.16 %%\n",
      "8600 0.00608464075718 0.1 %%\n",
      "8650 0.00633951496769 0.08 %%\n",
      "8700 0.00575178251136 0.12 %%\n",
      "8750 0.0059773918346 0.08 %%\n",
      "8800 0.00616469941102 0.14 %%\n",
      "8850 0.00748381051584 0.14 %%\n",
      "8900 0.00710976258037 0.12 %%\n",
      "8950 0.00637314206222 0.14 %%\n",
      "9000 0.00595289506833 0.1 %%\n",
      "test errs:  1.83 %%\n",
      "9050 0.00631611636258 0.12 %%\n",
      "9100 0.00547415712848 0.12 %%\n",
      "9150 0.00656150716008 0.12 %%\n",
      "9200 0.00537737876293 0.12 %%\n",
      "9250 0.00602467354387 0.1 %%\n",
      "9300 0.00622961600951 0.1 %%\n",
      "9350 0.00709660812048 0.14 %%\n",
      "9400 0.00623380398029 0.14 %%\n",
      "9450 0.00509504922549 0.04 %%\n",
      "9500 0.00734976063017 0.2 %%\n",
      "9550 0.00502053410746 0.1 %%\n",
      "9600 0.00933065041085 0.28 %%\n",
      "9650 0.00607857495255 0.16 %%\n",
      "9700 0.00612025931478 0.16 %%\n",
      "9750 0.00652992988995 0.14 %%\n",
      "9800 0.00576644475514 0.1 %%\n",
      "9850 0.00676481286355 0.1 %%\n",
      "9900 0.00403531875694 0.04 %%\n",
      "9950 0.00639715269324 0.16 %%\n",
      "10000 0.00466922500287 0.1 %%\n",
      "test errs:  1.94 %%\n",
      "10050 0.00618863796117 0.12 %%\n",
      "10100 0.00623351699207 0.08 %%\n",
      "10150 0.0053362912967 0.12 %%\n",
      "10200 0.00625527790166 0.06 %%\n",
      "10250 0.0044184659759 0.08 %%\n",
      "10300 0.00496003838896 0.06 %%\n",
      "10350 0.00627420832287 0.16 %%\n",
      "10400 0.00450421494897 0.02 %%\n",
      "10450 0.00430985279963 0.04 %%\n",
      "10500 0.00639994494792 0.12 %%\n",
      "10550 0.00504090715083 0.04 %%\n",
      "10600 0.0048924289766 0.12 %%\n",
      "10650 0.00530614109128 0.1 %%\n",
      "10700 0.00530447024212 0.06 %%\n",
      "10750 0.00679399883258 0.12 %%\n",
      "10800 0.00499638997484 0.08 %%\n",
      "10850 0.00467030606698 0.06 %%\n",
      "10900 0.00513626599277 0.06 %%\n",
      "10950 0.00644798789872 0.12 %%\n",
      "11000 0.00448313655565 0.08 %%\n",
      "test errs:  1.85 %%\n",
      "11050 0.00446841488476 0.04 %%\n",
      "11100 0.00408926676144 0.02 %%\n",
      "11150 0.00445530923898 0.08 %%\n",
      "11200 0.00343378979713 0.04 %%\n",
      "11250 0.00539380764123 0.12 %%\n",
      "11300 0.0039377368585 0.06 %%\n",
      "11350 0.00532850127085 0.1 %%\n",
      "11400 0.00524856464472 0.06 %%\n",
      "11450 0.00439488638891 0.08 %%\n",
      "11500 0.00488648365135 0.1 %%\n",
      "11550 0.00467731780198 0.08 %%\n",
      "11600 0.00400782174896 0.06 %%\n",
      "11650 0.005206677448 0.08 %%\n",
      "11700 0.00601700637082 0.1 %%\n",
      "11750 0.00385227549821 0.06 %%\n",
      "11800 0.00431641206262 0.06 %%\n",
      "11850 0.00430695105635 0.08 %%\n",
      "11900 0.00366907718708 0.02 %%\n",
      "11950 0.00415132339695 0.04 %%\n",
      "12000 0.00390926191059 0.06 %%\n",
      "test errs:  1.89 %%\n",
      "12050 0.00427495872951 0.1 %%\n",
      "12100 0.0038600040169 0.04 %%\n",
      "12150 0.00312455270789 0.02 %%\n",
      "12200 0.00420406753547 0.08 %%\n",
      "12250 0.00324160470103 0.02 %%\n",
      "12300 0.00354173285887 0.08 %%\n",
      "12350 0.00376744370558 0.0 %%\n",
      "12400 0.00485998814984 0.08 %%\n",
      "12450 0.00384652261273 0.06 %%\n",
      "12500 0.00425707318005 0.04 %%\n",
      "12550 0.00449315275007 0.1 %%\n",
      "12600 0.00438618543092 0.1 %%\n",
      "12650 0.00433174747915 0.06 %%\n",
      "12700 0.00305709413602 0.0 %%\n",
      "12750 0.00369993759668 0.04 %%\n",
      "12800 0.00433633799199 0.08 %%\n",
      "12850 0.00400261060568 0.06 %%\n",
      "12900 0.00344071154017 0.06 %%\n",
      "12950 0.00378560211917 0.02 %%\n",
      "13000 0.00474659974687 0.08 %%\n",
      "test errs:  1.86 %%\n",
      "13050 0.00347130031732 0.04 %%\n",
      "13100 0.00456007028988 0.08 %%\n",
      "13150 0.00428696174582 0.1 %%\n",
      "13200 0.00357790023962 0.0 %%\n",
      "13250 0.00336817572475 0.0 %%\n",
      "13300 0.0039137734432 0.06 %%\n",
      "13350 0.00459374016442 0.1 %%\n",
      "13400 0.00308432478982 0.02 %%\n",
      "13450 0.00401285737113 0.06 %%\n",
      "13500 0.00303645178501 0.04 %%\n",
      "13550 0.00456262914377 0.1 %%\n",
      "13600 0.00447584976559 0.06 %%\n",
      "13650 0.00383614428632 0.06 %%\n",
      "13700 0.00324861550384 0.02 %%\n",
      "13750 0.00425099603686 0.04 %%\n",
      "13800 0.00376321041433 0.04 %%\n",
      "13850 0.003779270089 0.04 %%\n",
      "13900 0.00453303052287 0.12 %%\n",
      "13950 0.00339873524877 0.06 %%\n",
      "14000 0.0034250896622 0.02 %%\n",
      "test errs:  1.95 %%\n",
      "14050 0.00435642678989 0.12 %%\n",
      "14100 0.00406782509643 0.06 %%\n",
      "14150 0.00345975570905 0.02 %%\n",
      "14200 0.00373172431602 0.04 %%\n",
      "14250 0.00250325088331 0.0 %%\n",
      "14300 0.00317291270709 0.02 %%\n",
      "14350 0.00302649311547 0.0 %%\n",
      "14400 0.00414439946122 0.08 %%\n",
      "14450 0.00384116764762 0.06 %%\n",
      "14500 0.00332708593691 0.04 %%\n",
      "14550 0.0035911373276 0.02 %%\n",
      "14600 0.00307403720857 0.0 %%\n",
      "14650 0.00331232108467 0.02 %%\n",
      "14700 0.00418541892606 0.04 %%\n",
      "14750 0.00369135915418 0.08 %%\n",
      "14800 0.00293096328911 0.02 %%\n",
      "14850 0.0032081534504 0.04 %%\n",
      "14900 0.00434376551071 0.04 %%\n",
      "14950 0.00331383242738 0.04 %%\n",
      "15000 0.00384971705033 0.08 %%\n",
      "test errs:  1.9 %%\n",
      "15050 0.00288623488683 0.02 %%\n",
      "15100 0.00298978679406 0.04 %%\n",
      "15150 0.00375166494516 0.06 %%\n",
      "15200 0.00355625563476 0.04 %%\n",
      "15250 0.0036856548622 0.1 %%\n",
      "15300 0.00324247148819 0.02 %%\n",
      "15350 0.00281347007724 0.02 %%\n",
      "15400 0.00288796490815 0.04 %%\n",
      "15450 0.00312905537576 0.0 %%\n",
      "15500 0.00320034289267 0.0 %%\n",
      "15550 0.00252451428387 0.0 %%\n",
      "15600 0.00308180512511 0.0 %%\n",
      "15650 0.00297926740895 0.02 %%\n",
      "15700 0.00233958897181 0.0 %%\n",
      "15750 0.00282970590168 0.0 %%\n",
      "15800 0.00333105620928 0.02 %%\n",
      "15850 0.00371947901731 0.08 %%\n",
      "15900 0.00286097546632 0.02 %%\n",
      "15950 0.00324299201719 0.02 %%\n",
      "16000 0.00262505936378 0.02 %%\n",
      "test errs:  1.89 %%\n",
      "16050 0.00342466626316 0.02 %%\n",
      "16100 0.00286723910365 0.02 %%\n",
      "16150 0.00266846689919 0.02 %%\n",
      "16200 0.00315944281407 0.0 %%\n",
      "16250 0.00317358957895 0.04 %%\n",
      "16300 0.00291420161957 0.02 %%\n",
      "16350 0.00430252162274 0.06 %%\n",
      "16400 0.00290092177107 0.02 %%\n",
      "16450 0.00385105558118 0.04 %%\n",
      "16500 0.00342442714551 0.02 %%\n",
      "16550 0.00268941134971 0.02 %%\n",
      "16600 0.00307495797053 0.02 %%\n",
      "16650 0.00344323753583 0.02 %%\n",
      "16700 0.00240643358673 0.0 %%\n",
      "16750 0.00284917243232 0.02 %%\n",
      "16800 0.00287479676423 0.0 %%\n",
      "16850 0.00463178320613 0.06 %%\n",
      "16900 0.00266654387175 0.02 %%\n",
      "16950 0.00394297196181 0.1 %%\n",
      "17000 0.00245977503684 0.0 %%\n",
      "test errs:  1.94 %%\n",
      "17050 0.00277645523369 0.02 %%\n",
      "17100 0.00339979866403 0.04 %%\n",
      "17150 0.00371654698974 0.06 %%\n",
      "17200 0.00301560524385 0.06 %%\n",
      "17250 0.00321230544476 0.02 %%\n",
      "17300 0.00329412356776 0.04 %%\n",
      "17350 0.00296418999555 0.04 %%\n",
      "17400 0.00244270584197 0.0 %%\n",
      "17450 0.00295032395923 0.02 %%\n",
      "17500 0.00278511557961 0.02 %%\n",
      "17550 0.00260617914959 0.0 %%\n",
      "17600 0.00327392152627 0.06 %%\n",
      "17650 0.00244921147212 0.0 %%\n",
      "17700 0.00294199810829 0.02 %%\n",
      "17750 0.00285640816204 0.0 %%\n",
      "17800 0.00370136273734 0.06 %%\n",
      "17850 0.00321675041574 0.04 %%\n",
      "17900 0.00276254584722 0.02 %%\n",
      "17950 0.00259731822422 0.04 %%\n",
      "18000 0.00345208804822 0.06 %%\n",
      "test errs:  1.89 %%\n",
      "18050 0.00237478199386 0.0 %%\n",
      "18100 0.00326782854041 0.04 %%\n",
      "18150 0.00236318570329 0.0 %%\n",
      "18200 0.002145570789 0.0 %%\n",
      "18250 0.00277978533995 0.0 %%\n",
      "18300 0.00295920493954 0.06 %%\n",
      "18350 0.00292446841602 0.0 %%\n",
      "18400 0.00266301415424 0.02 %%\n",
      "18450 0.00287911098683 0.02 %%\n",
      "18500 0.00233784351381 0.02 %%\n",
      "18550 0.00321226437285 0.04 %%\n",
      "18600 0.00260761845158 0.0 %%\n",
      "18650 0.00216832116799 0.0 %%\n",
      "18700 0.00214655660558 0.0 %%\n",
      "18750 0.00258890993195 0.02 %%\n",
      "18800 0.00289707479766 0.02 %%\n",
      "18850 0.00254467214167 0.02 %%\n",
      "18900 0.00228095724568 0.0 %%\n",
      "18950 0.00261415631161 0.02 %%\n",
      "19000 0.00320068442146 0.06 %%\n",
      "test errs:  1.92 %%\n",
      "19050 0.00257664604054 0.0 %%\n",
      "19100 0.00280480514048 0.02 %%\n",
      "19150 0.00281644221162 0.02 %%\n",
      "19200 0.00259955191461 0.02 %%\n",
      "19250 0.00254498447932 0.02 %%\n",
      "19300 0.00349530344189 0.04 %%\n",
      "19350 0.00245813051297 0.0 %%\n",
      "19400 0.00275770578359 0.04 %%\n",
      "19450 0.00307472568646 0.08 %%\n",
      "19500 0.0028240331338 0.04 %%\n",
      "19550 0.00278003915795 0.0 %%\n",
      "19600 0.00270164371876 0.02 %%\n",
      "19650 0.00300957937143 0.02 %%\n",
      "19700 0.00281310760474 0.04 %%\n",
      "19750 0.00227284027525 0.02 %%\n",
      "19800 0.00270627859572 0.04 %%\n",
      "19850 0.00248144583893 0.04 %%\n",
      "19900 0.00257725714357 0.0 %%\n",
      "19950 0.00241253914137 0.02 %%\n",
      "20000 0.00285910941835 0.0 %%\n",
      "test errs:  1.91 %%\n",
      "20050 0.00332605735399 0.06 %%\n",
      "20100 0.00314384075813 0.04 %%\n",
      "20150 0.00246478165063 0.02 %%\n",
      "20200 0.00223972963926 0.0 %%\n",
      "20250 0.00212548516458 0.02 %%\n",
      "20300 0.00276975855042 0.02 %%\n",
      "20350 0.00302335959335 0.0 %%\n",
      "20400 0.00292318278196 0.04 %%\n",
      "20450 0.00217117563239 0.0 %%\n",
      "20500 0.00271793812863 0.02 %%\n",
      "20550 0.00280844359368 0.02 %%\n",
      "20600 0.00245232201647 0.02 %%\n",
      "20650 0.00302088642668 0.02 %%\n",
      "20700 0.00313679377548 0.06 %%\n",
      "20750 0.00237133130722 0.0 %%\n",
      "20800 0.00255182149122 0.0 %%\n",
      "20850 0.00282069349836 0.02 %%\n",
      "20900 0.00224204908707 0.0 %%\n",
      "20950 0.00274467342533 0.04 %%\n",
      "21000 0.00294169792265 0.08 %%\n",
      "test errs:  1.91 %%\n",
      "21050 0.00209343612281 0.0 %%\n",
      "21100 0.00233873721736 0.0 %%\n",
      "21150 0.00268310274871 0.02 %%\n",
      "21200 0.0023137042101 0.0 %%\n",
      "21250 0.00218931664422 0.0 %%\n",
      "21300 0.00326951480587 0.04 %%\n",
      "21350 0.00257134335698 0.02 %%\n",
      "21400 0.00264881375071 0.02 %%\n",
      "21450 0.00208030271751 0.0 %%\n",
      "21500 0.00265816647501 0.02 %%\n",
      "21550 0.002335362015 0.0 %%\n",
      "21600 0.00231130294851 0.0 %%\n",
      "21650 0.00258545755642 0.0 %%\n",
      "21700 0.00251122745336 0.02 %%\n",
      "21750 0.0022907190345 0.0 %%\n",
      "21800 0.0022728002572 0.02 %%\n",
      "21850 0.00210853858385 0.0 %%\n",
      "21900 0.00266969005315 0.02 %%\n",
      "21950 0.00225159373658 0.02 %%\n",
      "22000 0.00295936961251 0.04 %%\n",
      "test errs:  1.9 %%\n",
      "22050 0.00259460159868 0.0 %%\n",
      "22100 0.00249079157016 0.04 %%\n",
      "22150 0.00346588439017 0.1 %%\n",
      "22200 0.00278110082319 0.04 %%\n",
      "22250 0.00254227291443 0.02 %%\n",
      "22300 0.00244349165703 0.04 %%\n",
      "22350 0.00218719145749 0.0 %%\n",
      "22400 0.00174430830113 0.0 %%\n",
      "22450 0.00192723293439 0.0 %%\n",
      "22500 0.0024052649294 0.02 %%\n",
      "22550 0.00196435291902 0.0 %%\n",
      "22600 0.00285190475523 0.02 %%\n",
      "22650 0.00241382261796 0.0 %%\n",
      "22700 0.00239712891402 0.02 %%\n",
      "22750 0.00260407127906 0.02 %%\n",
      "22800 0.0023507855479 0.0 %%\n",
      "22850 0.00240395599918 0.0 %%\n",
      "22900 0.00238820078201 0.04 %%\n",
      "22950 0.00233710191387 0.0 %%\n",
      "23000 0.00219684455311 0.0 %%\n",
      "test errs:  1.88 %%\n",
      "23050 0.00213392061589 0.02 %%\n",
      "23100 0.00253282982449 0.04 %%\n",
      "23150 0.00213437694591 0.0 %%\n",
      "23200 0.00256923741341 0.02 %%\n",
      "23250 0.00271848382661 0.02 %%\n",
      "23300 0.00226819061209 0.04 %%\n",
      "23350 0.00268590923457 0.0 %%\n",
      "23400 0.00231375329604 0.0 %%\n",
      "23450 0.00227027796966 0.0 %%\n",
      "23500 0.00188766482461 0.0 %%\n",
      "23550 0.00213684327609 0.0 %%\n",
      "23600 0.00204735327628 0.0 %%\n",
      "23650 0.00240235010977 0.02 %%\n",
      "23700 0.00174153660075 0.0 %%\n",
      "23750 0.00258067452291 0.04 %%\n",
      "23800 0.0023261598972 0.02 %%\n",
      "23850 0.00175206132524 0.0 %%\n",
      "23900 0.00268905727484 0.02 %%\n",
      "23950 0.00272718187887 0.06 %%\n",
      "24000 0.00251471116906 0.02 %%\n",
      "test errs:  1.85 %%\n",
      "24050 0.00231942938 0.02 %%\n",
      "24100 0.00247170067189 0.02 %%\n",
      "24150 0.00186258626636 0.02 %%\n",
      "24200 0.00212901692081 0.0 %%\n",
      "24250 0.00238064146804 0.04 %%\n",
      "24300 0.00229280336876 0.0 %%\n",
      "24350 0.00238720685127 0.04 %%\n",
      "24400 0.00210750971077 0.02 %%\n",
      "24450 0.00211227376829 0.02 %%\n",
      "24500 0.00265109505446 0.04 %%\n",
      "24550 0.00214487019111 0.0 %%\n",
      "24600 0.00216563597671 0.0 %%\n",
      "24650 0.00245636819163 0.0 %%\n",
      "24700 0.00228421191568 0.04 %%\n",
      "24750 0.00205164094747 0.0 %%\n",
      "24800 0.00229609560134 0.0 %%\n",
      "24850 0.00243600500748 0.02 %%\n",
      "24900 0.00224226147868 0.02 %%\n",
      "24950 0.00239225633035 0.02 %%\n",
      "25000 0.00258835325862 0.04 %%\n",
      "test errs:  1.9 %%\n",
      "25050 0.00218193034816 0.02 %%\n",
      "25100 0.00230092360871 0.02 %%\n",
      "25150 0.00247883575852 0.02 %%\n",
      "25200 0.00203584552684 0.0 %%\n",
      "25250 0.00215707683121 0.0 %%\n",
      "25300 0.002579598148 0.02 %%\n",
      "25350 0.00282329762122 0.06 %%\n",
      "25400 0.00275294661376 0.0 %%\n",
      "25450 0.00221074410423 0.0 %%\n",
      "25500 0.00261927080341 0.0 %%\n",
      "25550 0.00232688156946 0.0 %%\n",
      "25600 0.00225376569899 0.0 %%\n",
      "25650 0.0019175847806 0.0 %%\n",
      "25700 0.002372214965 0.0 %%\n",
      "25750 0.00250748957158 0.02 %%\n",
      "25800 0.00213408755022 0.0 %%\n",
      "25850 0.00218881716661 0.02 %%\n",
      "25900 0.00232245142979 0.04 %%\n",
      "25950 0.0025294575165 0.02 %%\n",
      "26000 0.0020501612706 0.02 %%\n",
      "test errs:  1.89 %%\n",
      "26050 0.00179821765923 0.0 %%\n",
      "26100 0.00236675473046 0.02 %%\n",
      "26150 0.00208336063486 0.04 %%\n",
      "26200 0.00259668318438 0.04 %%\n",
      "26250 0.00236813464551 0.02 %%\n",
      "26300 0.00229173099855 0.0 %%\n",
      "26350 0.00162279932003 0.0 %%\n",
      "26400 0.00177291862608 0.0 %%\n",
      "26450 0.00205396617413 0.0 %%\n",
      "26500 0.00243699089158 0.02 %%\n",
      "26550 0.00194158918923 0.02 %%\n",
      "26600 0.00256659510022 0.02 %%\n",
      "26650 0.00264945506438 0.06 %%\n",
      "26700 0.00224776539137 0.0 %%\n",
      "26750 0.00221533897799 0.02 %%\n",
      "26800 0.00278645973623 0.04 %%\n",
      "26850 0.00202166558302 0.0 %%\n",
      "26900 0.00165589494805 0.0 %%\n",
      "26950 0.00241884208517 0.04 %%\n",
      "27000 0.00236516074219 0.02 %%\n",
      "test errs:  1.88 %%\n",
      "27050 0.00230512475886 0.04 %%\n",
      "27100 0.00221623303834 0.02 %%\n",
      "27150 0.00182996835487 0.0 %%\n",
      "27200 0.00172204302333 0.0 %%\n",
      "27250 0.00224620329915 0.0 %%\n",
      "27300 0.00196511445392 0.0 %%\n",
      "27350 0.00266999440646 0.02 %%\n",
      "27400 0.00213206909131 0.02 %%\n",
      "27450 0.00293476508406 0.04 %%\n",
      "27500 0.00194231214235 0.02 %%\n",
      "27550 0.0020663758798 0.02 %%\n",
      "27600 0.0021535558597 0.0 %%\n",
      "27650 0.00207928281423 0.02 %%\n",
      "27700 0.00342643965501 0.04 %%\n",
      "27750 0.00260624884482 0.02 %%\n",
      "27800 0.00247530048015 0.04 %%\n",
      "27850 0.00193341698672 0.02 %%\n",
      "27900 0.00201138456963 0.0 %%\n",
      "27950 0.00212347059365 0.0 %%\n",
      "28000 0.00279383318193 0.02 %%\n",
      "test errs:  1.94 %%\n",
      "28050 0.00275024317758 0.06 %%\n",
      "28100 0.00219098569592 0.0 %%\n",
      "28150 0.0015099966072 0.0 %%\n",
      "28200 0.0020901686576 0.0 %%\n",
      "28250 0.00183907768136 0.0 %%\n",
      "28300 0.00209831891232 0.02 %%\n",
      "28350 0.00217036663846 0.02 %%\n",
      "28400 0.00204615094612 0.0 %%\n",
      "28450 0.00265700170014 0.02 %%\n",
      "28500 0.00221114343149 0.02 %%\n",
      "28550 0.00169718535995 0.0 %%\n",
      "28600 0.00185278365097 0.04 %%\n",
      "28650 0.0017319654295 0.02 %%\n",
      "28700 0.00185170790646 0.02 %%\n",
      "28750 0.00149068132974 0.0 %%\n",
      "28800 0.00280928761058 0.04 %%\n",
      "28850 0.00148217826674 0.0 %%\n",
      "28900 0.00196988804091 0.02 %%\n",
      "28950 0.00185762804351 0.0 %%\n",
      "29000 0.00207522645069 0.0 %%\n",
      "test errs:  1.85 %%\n",
      "29050 0.0019285460934 0.0 %%\n",
      "29100 0.00187459725887 0.04 %%\n",
      "29150 0.00204793808574 0.0 %%\n",
      "29200 0.00186812761502 0.0 %%\n",
      "29250 0.00197277279818 0.0 %%\n",
      "29300 0.00214367917506 0.02 %%\n",
      "29350 0.00197394201008 0.0 %%\n",
      "29400 0.001639815417 0.02 %%\n",
      "29450 0.00222555761109 0.0 %%\n",
      "29500 0.00203762345875 0.04 %%\n",
      "29550 0.00149728383258 0.0 %%\n",
      "29600 0.0016749332202 0.0 %%\n",
      "29650 0.00183742702706 0.02 %%\n",
      "29700 0.00199244711752 0.02 %%\n",
      "29750 0.00211559413758 0.0 %%\n",
      "29800 0.00214031068928 0.02 %%\n",
      "29850 0.00236962454408 0.02 %%\n",
      "29900 0.00195093795803 0.0 %%\n",
      "29950 0.00136262891814 0.0 %%\n",
      "30000 0.00171549220278 0.0 %%\n",
      "test errs:  1.85 %%\n",
      "30050 0.00224055521947 0.0 %%\n",
      "30100 0.00189174242085 0.0 %%\n",
      "30150 0.00185398369184 0.0 %%\n",
      "30200 0.00193644842308 0.02 %%\n",
      "30250 0.00138875225457 0.0 %%\n",
      "30300 0.00195639701124 0.0 %%\n",
      "30350 0.00168655891379 0.0 %%\n",
      "30400 0.00167038067448 0.0 %%\n",
      "30450 0.00192484141968 0.0 %%\n",
      "30500 0.00144031351127 0.0 %%\n",
      "30550 0.00193823569396 0.0 %%\n",
      "30600 0.00200898888521 0.0 %%\n",
      "30650 0.00201814525179 0.0 %%\n",
      "30700 0.00173103415902 0.0 %%\n",
      "30750 0.00224954041245 0.02 %%\n",
      "30800 0.00198105428601 0.0 %%\n",
      "30850 0.0017666112521 0.0 %%\n",
      "30900 0.00185035982664 0.0 %%\n",
      "30950 0.00178234599298 0.0 %%\n",
      "31000 0.00221967411286 0.02 %%\n",
      "test errs:  1.87 %%\n",
      "31050 0.00183888720407 0.0 %%\n",
      "31100 0.00211427376664 0.02 %%\n",
      "31150 0.00201853153339 0.0 %%\n",
      "31200 0.00146758960385 0.0 %%\n",
      "31250 0.00209195847274 0.04 %%\n",
      "31300 0.00233394394803 0.04 %%\n",
      "31350 0.00198545658815 0.0 %%\n",
      "31400 0.00207480176759 0.04 %%\n",
      "31450 0.00246140187315 0.04 %%\n",
      "31500 0.00184286574426 0.02 %%\n",
      "31550 0.00188207678148 0.0 %%\n",
      "31600 0.0023944884073 0.02 %%\n",
      "31650 0.00173707374488 0.0 %%\n",
      "31700 0.00190697948245 0.0 %%\n",
      "31750 0.00160598005692 0.0 %%\n",
      "31800 0.00166455688377 0.0 %%\n"
     ]
    },
    {
     "ename": "KeyboardInterrupt",
     "evalue": "",
     "output_type": "error",
     "traceback": [
      "\u001b[1;31m---------------------------------------------------------------------------\u001b[0m",
      "\u001b[1;31mKeyboardInterrupt\u001b[0m                         Traceback (most recent call last)",
      "\u001b[1;32m<ipython-input-115-d20934472ced>\u001b[0m in \u001b[0;36m<module>\u001b[1;34m()\u001b[0m\n\u001b[0;32m      4\u001b[0m     \u001b[0mbatchX\u001b[0m \u001b[1;33m=\u001b[0m \u001b[0mnp\u001b[0m\u001b[1;33m.\u001b[0m\u001b[0mtake\u001b[0m\u001b[1;33m(\u001b[0m\u001b[0mtrainX\u001b[0m\u001b[1;33m,\u001b[0m \u001b[0mbatch_idx\u001b[0m\u001b[1;33m,\u001b[0m \u001b[0maxis\u001b[0m\u001b[1;33m=\u001b[0m\u001b[1;36m0\u001b[0m\u001b[1;33m)\u001b[0m\u001b[1;33m\u001b[0m\u001b[0m\n\u001b[0;32m      5\u001b[0m     \u001b[0mbatchY\u001b[0m \u001b[1;33m=\u001b[0m \u001b[0mnp\u001b[0m\u001b[1;33m.\u001b[0m\u001b[0mtake\u001b[0m\u001b[1;33m(\u001b[0m\u001b[0mtrainY\u001b[0m\u001b[1;33m,\u001b[0m \u001b[0mbatch_idx\u001b[0m\u001b[1;33m,\u001b[0m \u001b[0maxis\u001b[0m\u001b[1;33m=\u001b[0m\u001b[1;36m0\u001b[0m\u001b[1;33m)\u001b[0m\u001b[1;33m\u001b[0m\u001b[0m\n\u001b[1;32m----> 6\u001b[1;33m     \u001b[0mnll\u001b[0m\u001b[1;33m,\u001b[0m \u001b[0merr\u001b[0m \u001b[1;33m=\u001b[0m \u001b[0mtrain_fun\u001b[0m\u001b[1;33m(\u001b[0m\u001b[0mbatchX\u001b[0m\u001b[1;33m,\u001b[0m \u001b[0mbatchY\u001b[0m\u001b[1;33m)\u001b[0m\u001b[1;33m\u001b[0m\u001b[0m\n\u001b[0m\u001b[0;32m      7\u001b[0m     \u001b[0mbatch_errs\u001b[0m\u001b[1;33m.\u001b[0m\u001b[0mappend\u001b[0m\u001b[1;33m(\u001b[0m\u001b[1;33m(\u001b[0m\u001b[0mnll\u001b[0m\u001b[1;33m,\u001b[0m\u001b[0merr\u001b[0m\u001b[1;33m)\u001b[0m\u001b[1;33m)\u001b[0m\u001b[1;33m\u001b[0m\u001b[0m\n\u001b[0;32m      8\u001b[0m     \u001b[1;32mif\u001b[0m \u001b[1;33m(\u001b[0m\u001b[0mstep\u001b[0m\u001b[1;33m%\u001b[0m\u001b[1;36m50\u001b[0m\u001b[1;33m)\u001b[0m\u001b[1;33m==\u001b[0m\u001b[1;36m0\u001b[0m\u001b[1;33m:\u001b[0m\u001b[1;33m\u001b[0m\u001b[0m\n",
      "\u001b[1;32m/home/jch/scratch/speech/libs/Theano/theano/compile/function_module.pyc\u001b[0m in \u001b[0;36m__call__\u001b[1;34m(self, *args, **kwargs)\u001b[0m\n\u001b[0;32m    597\u001b[0m         \u001b[0mt0_fn\u001b[0m \u001b[1;33m=\u001b[0m \u001b[0mtime\u001b[0m\u001b[1;33m.\u001b[0m\u001b[0mtime\u001b[0m\u001b[1;33m(\u001b[0m\u001b[1;33m)\u001b[0m\u001b[1;33m\u001b[0m\u001b[0m\n\u001b[0;32m    598\u001b[0m         \u001b[1;32mtry\u001b[0m\u001b[1;33m:\u001b[0m\u001b[1;33m\u001b[0m\u001b[0m\n\u001b[1;32m--> 599\u001b[1;33m             \u001b[0moutputs\u001b[0m \u001b[1;33m=\u001b[0m \u001b[0mself\u001b[0m\u001b[1;33m.\u001b[0m\u001b[0mfn\u001b[0m\u001b[1;33m(\u001b[0m\u001b[1;33m)\u001b[0m\u001b[1;33m\u001b[0m\u001b[0m\n\u001b[0m\u001b[0;32m    600\u001b[0m         \u001b[1;32mexcept\u001b[0m \u001b[0mException\u001b[0m\u001b[1;33m:\u001b[0m\u001b[1;33m\u001b[0m\u001b[0m\n\u001b[0;32m    601\u001b[0m             \u001b[1;32mif\u001b[0m \u001b[0mhasattr\u001b[0m\u001b[1;33m(\u001b[0m\u001b[0mself\u001b[0m\u001b[1;33m.\u001b[0m\u001b[0mfn\u001b[0m\u001b[1;33m,\u001b[0m \u001b[1;34m'position_of_error'\u001b[0m\u001b[1;33m)\u001b[0m\u001b[1;33m:\u001b[0m\u001b[1;33m\u001b[0m\u001b[0m\n",
      "\u001b[1;32m/home/jch/scratch/speech/libs/Theano/theano/gof/op.pyc\u001b[0m in \u001b[0;36mrval\u001b[1;34m(p, i, o, n)\u001b[0m\n\u001b[0;32m    780\u001b[0m             \u001b[1;31m# default arguments are stored in the closure of `rval`\u001b[0m\u001b[1;33m\u001b[0m\u001b[1;33m\u001b[0m\u001b[0m\n\u001b[0;32m    781\u001b[0m             \u001b[1;32mdef\u001b[0m \u001b[0mrval\u001b[0m\u001b[1;33m(\u001b[0m\u001b[0mp\u001b[0m\u001b[1;33m=\u001b[0m\u001b[0mp\u001b[0m\u001b[1;33m,\u001b[0m \u001b[0mi\u001b[0m\u001b[1;33m=\u001b[0m\u001b[0mnode_input_storage\u001b[0m\u001b[1;33m,\u001b[0m \u001b[0mo\u001b[0m\u001b[1;33m=\u001b[0m\u001b[0mnode_output_storage\u001b[0m\u001b[1;33m,\u001b[0m \u001b[0mn\u001b[0m\u001b[1;33m=\u001b[0m\u001b[0mnode\u001b[0m\u001b[1;33m)\u001b[0m\u001b[1;33m:\u001b[0m\u001b[1;33m\u001b[0m\u001b[0m\n\u001b[1;32m--> 782\u001b[1;33m                 \u001b[0mr\u001b[0m \u001b[1;33m=\u001b[0m \u001b[0mp\u001b[0m\u001b[1;33m(\u001b[0m\u001b[0mn\u001b[0m\u001b[1;33m,\u001b[0m \u001b[1;33m[\u001b[0m\u001b[0mx\u001b[0m\u001b[1;33m[\u001b[0m\u001b[1;36m0\u001b[0m\u001b[1;33m]\u001b[0m \u001b[1;32mfor\u001b[0m \u001b[0mx\u001b[0m \u001b[1;32min\u001b[0m \u001b[0mi\u001b[0m\u001b[1;33m]\u001b[0m\u001b[1;33m,\u001b[0m \u001b[0mo\u001b[0m\u001b[1;33m)\u001b[0m\u001b[1;33m\u001b[0m\u001b[0m\n\u001b[0m\u001b[0;32m    783\u001b[0m                 \u001b[1;32mfor\u001b[0m \u001b[0mo\u001b[0m \u001b[1;32min\u001b[0m \u001b[0mnode\u001b[0m\u001b[1;33m.\u001b[0m\u001b[0moutputs\u001b[0m\u001b[1;33m:\u001b[0m\u001b[1;33m\u001b[0m\u001b[0m\n\u001b[0;32m    784\u001b[0m                     \u001b[0mcompute_map\u001b[0m\u001b[1;33m[\u001b[0m\u001b[0mo\u001b[0m\u001b[1;33m]\u001b[0m\u001b[1;33m[\u001b[0m\u001b[1;36m0\u001b[0m\u001b[1;33m]\u001b[0m \u001b[1;33m=\u001b[0m \u001b[0mTrue\u001b[0m\u001b[1;33m\u001b[0m\u001b[0m\n",
      "\u001b[1;32m/home/jch/scratch/speech/libs/Theano/theano/tensor/raw_random.pyc\u001b[0m in \u001b[0;36mperform\u001b[1;34m(self, node, inputs, out_)\u001b[0m\n\u001b[0;32m    251\u001b[0m             \u001b[0mr\u001b[0m \u001b[1;33m=\u001b[0m \u001b[0mcopy\u001b[0m\u001b[1;33m(\u001b[0m\u001b[0mr\u001b[0m\u001b[1;33m)\u001b[0m\u001b[1;33m\u001b[0m\u001b[0m\n\u001b[0;32m    252\u001b[0m         \u001b[0mrout\u001b[0m\u001b[1;33m[\u001b[0m\u001b[1;36m0\u001b[0m\u001b[1;33m]\u001b[0m \u001b[1;33m=\u001b[0m \u001b[0mr\u001b[0m\u001b[1;33m\u001b[0m\u001b[0m\n\u001b[1;32m--> 253\u001b[1;33m         \u001b[0mrval\u001b[0m \u001b[1;33m=\u001b[0m \u001b[0mself\u001b[0m\u001b[1;33m.\u001b[0m\u001b[0mfn\u001b[0m\u001b[1;33m(\u001b[0m\u001b[0mr\u001b[0m\u001b[1;33m,\u001b[0m \u001b[1;33m*\u001b[0m\u001b[1;33m(\u001b[0m\u001b[0margs\u001b[0m \u001b[1;33m+\u001b[0m \u001b[1;33m[\u001b[0m\u001b[0mshape\u001b[0m\u001b[1;33m]\u001b[0m\u001b[1;33m)\u001b[0m\u001b[1;33m)\u001b[0m\u001b[1;33m\u001b[0m\u001b[0m\n\u001b[0m\u001b[0;32m    254\u001b[0m         \u001b[1;32mif\u001b[0m \u001b[1;32mnot\u001b[0m \u001b[0misinstance\u001b[0m\u001b[1;33m(\u001b[0m\u001b[0mrval\u001b[0m\u001b[1;33m,\u001b[0m \u001b[0mnumpy\u001b[0m\u001b[1;33m.\u001b[0m\u001b[0mndarray\u001b[0m\u001b[1;33m)\u001b[0m\u001b[0;31m \u001b[0m\u001b[0;31m\\\u001b[0m\u001b[1;33m\u001b[0m\u001b[0m\n\u001b[0;32m    255\u001b[0m                \u001b[1;32mor\u001b[0m \u001b[0mstr\u001b[0m\u001b[1;33m(\u001b[0m\u001b[0mrval\u001b[0m\u001b[1;33m.\u001b[0m\u001b[0mdtype\u001b[0m\u001b[1;33m)\u001b[0m \u001b[1;33m!=\u001b[0m \u001b[0mnode\u001b[0m\u001b[1;33m.\u001b[0m\u001b[0moutputs\u001b[0m\u001b[1;33m[\u001b[0m\u001b[1;36m1\u001b[0m\u001b[1;33m]\u001b[0m\u001b[1;33m.\u001b[0m\u001b[0mtype\u001b[0m\u001b[1;33m.\u001b[0m\u001b[0mdtype\u001b[0m\u001b[1;33m:\u001b[0m\u001b[1;33m\u001b[0m\u001b[0m\n",
      "\u001b[1;31mKeyboardInterrupt\u001b[0m: "
     ]
    }
   ],
   "source": [
    "batch_errs = []\n",
    "for step in xrange(100000):\n",
    "    batch_idx = np.random.random_integers(0, trainX.shape[0]-1, 100) #index of train samples for this iter\n",
    "    batchX = np.take(trainX, batch_idx, axis=0)\n",
    "    batchY = np.take(trainY, batch_idx, axis=0)\n",
    "    nll, err = train_fun(batchX, batchY)\n",
    "    batch_errs.append((nll,err))\n",
    "    if (step%50)==0:\n",
    "        nll, err = np.asarray(batch_errs).mean(0)\n",
    "        batch_errs = []\n",
    "        print step, nll, err ,'%%'\n",
    "    \n",
    "    if (step%1000)==0:\n",
    "        testPreds = classify(testX)\n",
    "        testErrs = (testY != testPreds).mean()\n",
    "        print \"test errs: \", testErrs*100, '%%'"
   ]
  },
  {
   "cell_type": "markdown",
   "metadata": {},
   "source": [
    "## Liczby losowe w Theano\n",
    "\n",
    "Liczby losowe wykorzystują mechanizm shared variables: z każdego strumienia liczb losowych wykonywane jest jedno losowanie na wykonanie funkcji (chyba że losujemy wewnątrz scan). Zmiana stany generatora liczb losowych nastepuje niejawnie przez mechanizm `updates`."
   ]
  },
  {
   "cell_type": "code",
   "execution_count": 116,
   "metadata": {
    "collapsed": false
   },
   "outputs": [],
   "source": [
    "from theano.tensor.shared_randomstreams import RandomStreams\n",
    "\n",
    "srng = RandomStreams(seed=234)\n",
    "rv_u = srng.uniform((2,2))\n",
    "rv_n = srng.normal((2,2))"
   ]
  },
  {
   "cell_type": "code",
   "execution_count": 117,
   "metadata": {
    "collapsed": false
   },
   "outputs": [],
   "source": [
    "f = theano.function([], rv_u)"
   ]
  },
  {
   "cell_type": "code",
   "execution_count": 122,
   "metadata": {
    "collapsed": false
   },
   "outputs": [
    {
     "data": {
      "text/plain": [
       "Shape: (2, 2)\n",
       "[[ 0.70574272  0.80222458]\n",
       " [ 0.25976163  0.18285403]]"
      ]
     },
     "execution_count": 122,
     "metadata": {},
     "output_type": "execute_result"
    }
   ],
   "source": [
    "f()"
   ]
  },
  {
   "cell_type": "code",
   "execution_count": 123,
   "metadata": {
    "collapsed": true
   },
   "outputs": [],
   "source": [
    "g = theano.function([], rv_n, no_default_updates=True)    #Not updating rv_n.rng"
   ]
  },
  {
   "cell_type": "code",
   "execution_count": 127,
   "metadata": {
    "collapsed": false
   },
   "outputs": [
    {
     "data": {
      "text/plain": [
       "Shape: (2, 2)\n",
       "[[ 0.37328446 -0.65746671]\n",
       " [-0.36302373 -0.97484624]]"
      ]
     },
     "execution_count": 127,
     "metadata": {},
     "output_type": "execute_result"
    }
   ],
   "source": [
    "g()"
   ]
  },
  {
   "cell_type": "code",
   "execution_count": 128,
   "metadata": {
    "collapsed": true
   },
   "outputs": [],
   "source": [
    "nearly_zeros = theano.function([], rv_u + rv_u - 2 * rv_u) #liczby losowane są raz na wykonanie funkcji - potem wszystkie odwołania są identyczne"
   ]
  },
  {
   "cell_type": "code",
   "execution_count": 131,
   "metadata": {
    "collapsed": false
   },
   "outputs": [
    {
     "data": {
      "text/plain": [
       "Shape: (2, 2)\n",
       "[[ 0.  0.]\n",
       " [ 0.  0.]]"
      ]
     },
     "execution_count": 131,
     "metadata": {},
     "output_type": "execute_result"
    }
   ],
   "source": [
    "nearly_zeros()"
   ]
  },
  {
   "cell_type": "code",
   "execution_count": 132,
   "metadata": {
    "collapsed": false
   },
   "outputs": [
    {
     "name": "stdout",
     "output_type": "stream",
     "text": [
      "Warning: node val=Shape, port  (2,) TensorType(int32, vector) unrecognized\n",
      "Warning: node val=Shape, port  (1, 1) TensorType(float32, (True, True)) unrecognized\n",
      "\n"
     ]
    },
    {
     "data": {
      "image/svg+xml": [
       "<svg height=\"308pt\" viewBox=\"0.00 0.00 830.00 308.00\" width=\"830pt\" xmlns=\"http://www.w3.org/2000/svg\" xmlns:xlink=\"http://www.w3.org/1999/xlink\">\n",
       "<g class=\"graph\" id=\"graph0\" transform=\"scale(1 1) rotate(0) translate(4 304)\">\n",
       "<title>G</title>\n",
       "<polygon fill=\"white\" points=\"-4,4 -4,-304 826,-304 826,4 -4,4\" stroke=\"none\"/>\n",
       "<!-- RandomFunction{uniform} -->\n",
       "<g class=\"node\" id=\"node1\"><title>RandomFunction{uniform}</title>\n",
       "<ellipse cx=\"436\" cy=\"-194\" fill=\"none\" rx=\"109.261\" ry=\"18\" stroke=\"black\"/>\n",
       "<text font-family=\"Times,serif\" font-size=\"14.00\" text-anchor=\"middle\" x=\"436\" y=\"-190.3\">RandomFunction{uniform}</text>\n",
       "</g>\n",
       "<!-- Elemwise{Composite{((i0 + i0) &#45; (i1 * i0))}}[(0, 0)] -->\n",
       "<g class=\"node\" id=\"node6\"><title>Elemwise{Composite{((i0 + i0) - (i1 * i0))}}[(0, 0)]</title>\n",
       "<ellipse cx=\"199\" cy=\"-106\" fill=\"#ffaabb\" rx=\"199.298\" ry=\"18\" stroke=\"black\"/>\n",
       "<text font-family=\"Times,serif\" font-size=\"14.00\" text-anchor=\"middle\" x=\"199\" y=\"-102.3\">Elemwise{Composite{((i0 + i0) - (i1 * i0))}}[(0, 0)]</text>\n",
       "</g>\n",
       "<!-- RandomFunction{uniform}&#45;&gt;Elemwise{Composite{((i0 + i0) &#45; (i1 * i0))}}[(0, 0)] -->\n",
       "<g class=\"edge\" id=\"edge5\"><title>RandomFunction{uniform}-&gt;Elemwise{Composite{((i0 + i0) - (i1 * i0))}}[(0, 0)]</title>\n",
       "<path d=\"M393.081,-177.426C354.223,-163.326 296.755,-142.472 254.433,-127.115\" fill=\"none\" stroke=\"red\"/>\n",
       "<polygon fill=\"red\" points=\"255.428,-123.753 244.834,-123.632 253.041,-130.333 255.428,-123.753\" stroke=\"red\"/>\n",
       "<text font-family=\"Times,serif\" font-size=\"14.00\" text-anchor=\"middle\" x=\"422.5\" y=\"-146.3\">0 TensorType(float32, matrix)</text>\n",
       "</g>\n",
       "<!-- RandomStateType -->\n",
       "<g class=\"node\" id=\"node2\"><title>RandomStateType</title>\n",
       "<polygon fill=\"green\" points=\"353,-300 235,-300 235,-264 353,-264 353,-300\" stroke=\"black\"/>\n",
       "<text font-family=\"Times,serif\" font-size=\"14.00\" text-anchor=\"middle\" x=\"294\" y=\"-278.3\">RandomStateType</text>\n",
       "</g>\n",
       "<!-- RandomStateType&#45;&gt;RandomFunction{uniform} -->\n",
       "<g class=\"edge\" id=\"edge1\"><title>RandomStateType-&gt;RandomFunction{uniform}</title>\n",
       "<path d=\"M305.294,-263.815C313.285,-252.824 324.883,-238.993 338,-230 347.779,-223.296 358.984,-217.729 370.242,-213.157\" fill=\"none\" stroke=\"red\"/>\n",
       "<polygon fill=\"red\" points=\"371.59,-216.388 379.68,-209.547 369.09,-209.85 371.59,-216.388\" stroke=\"red\"/>\n",
       "<text font-family=\"Times,serif\" font-size=\"14.00\" text-anchor=\"middle\" x=\"394\" y=\"-234.3\">0 RandomStateType</text>\n",
       "</g>\n",
       "<!-- val=Shape -->\n",
       "<g class=\"node\" id=\"node3\"><title>val=Shape</title>\n",
       "<polygon fill=\"green\" points=\"162,-300 88,-300 88,-264 162,-264 162,-300\" stroke=\"black\"/>\n",
       "<text font-family=\"Times,serif\" font-size=\"14.00\" text-anchor=\"middle\" x=\"125\" y=\"-278.3\">val=Shape</text>\n",
       "</g>\n",
       "<!-- val=Shape&#45;&gt;RandomFunction{uniform} -->\n",
       "<g class=\"edge\" id=\"edge2\"><title>val=Shape: (2,) TensorType(int32, vector)-&gt;RandomFunction{uniform}</title>\n",
       "<path d=\"M133.098,-263.851C139.515,-252.278 149.626,-237.752 163,-230 191.855,-213.274 278.922,-216.265 312,-212 322.725,-210.617 333.966,-209.129 345.117,-207.63\" fill=\"none\" stroke=\"black\"/>\n",
       "<polygon fill=\"black\" points=\"345.874,-211.06 355.316,-206.252 344.937,-204.123 345.874,-211.06\" stroke=\"black\"/>\n",
       "<text font-family=\"Times,serif\" font-size=\"14.00\" text-anchor=\"middle\" x=\"240\" y=\"-234.3\">1 TensorType(int32, vector)</text>\n",
       "</g>\n",
       "<!-- val=Shape&#45;&gt;Elemwise{Composite{((i0 + i0) &#45; (i1 * i0))}}[(0, 0)] -->\n",
       "<g class=\"edge\" id=\"edge6\"><title>val=Shape: (1, 1) TensorType(float32, (True, True))-&gt;Elemwise{Composite{((i0 + i0) - (i1 * i0))}}[(0, 0)]</title>\n",
       "<path d=\"M118.978,-263.719C112.514,-242.121 104.826,-204.529 118,-176 126.772,-157.005 143.636,-141.312 159.715,-129.717\" fill=\"none\" stroke=\"black\"/>\n",
       "<polygon fill=\"black\" points=\"161.738,-132.574 168.005,-124.032 157.779,-126.801 161.738,-132.574\" stroke=\"black\"/>\n",
       "<text font-family=\"Times,serif\" font-size=\"14.00\" text-anchor=\"middle\" x=\"217.5\" y=\"-190.3\">1 TensorType(float32, (True, True))</text>\n",
       "</g>\n",
       "<!-- val=0.0 TensorType(float32, scalar) -->\n",
       "<g class=\"node\" id=\"node4\"><title>val=0.0 TensorType(float32, scalar)</title>\n",
       "<polygon fill=\"green\" points=\"584.5,-300 371.5,-300 371.5,-264 584.5,-264 584.5,-300\" stroke=\"black\"/>\n",
       "<text font-family=\"Times,serif\" font-size=\"14.00\" text-anchor=\"middle\" x=\"478\" y=\"-278.3\">val=0.0 TensorType(float32, scalar)</text>\n",
       "</g>\n",
       "<!-- val=0.0 TensorType(float32, scalar)&#45;&gt;RandomFunction{uniform} -->\n",
       "<g class=\"edge\" id=\"edge3\"><title>val=0.0 TensorType(float32, scalar)-&gt;RandomFunction{uniform}</title>\n",
       "<path d=\"M469.501,-263.597C463.541,-251.394 455.47,-234.867 448.743,-221.093\" fill=\"none\" stroke=\"black\"/>\n",
       "<polygon fill=\"black\" points=\"451.877,-219.534 444.343,-212.084 445.587,-222.606 451.877,-219.534\" stroke=\"black\"/>\n",
       "<text font-family=\"Times,serif\" font-size=\"14.00\" text-anchor=\"middle\" x=\"542.5\" y=\"-234.3\">2 TensorType(float32, scalar)</text>\n",
       "</g>\n",
       "<!-- val=1.0 TensorType(float32, scalar) -->\n",
       "<g class=\"node\" id=\"node5\"><title>val=1.0 TensorType(float32, scalar)</title>\n",
       "<polygon fill=\"green\" points=\"816.5,-300 603.5,-300 603.5,-264 816.5,-264 816.5,-300\" stroke=\"black\"/>\n",
       "<text font-family=\"Times,serif\" font-size=\"14.00\" text-anchor=\"middle\" x=\"710\" y=\"-278.3\">val=1.0 TensorType(float32, scalar)</text>\n",
       "</g>\n",
       "<!-- val=1.0 TensorType(float32, scalar)&#45;&gt;RandomFunction{uniform} -->\n",
       "<g class=\"edge\" id=\"edge4\"><title>val=1.0 TensorType(float32, scalar)-&gt;RandomFunction{uniform}</title>\n",
       "<path d=\"M687.552,-263.792C671.726,-252.5 649.584,-238.331 628,-230 599.175,-218.874 566.522,-211.234 536.428,-206.007\" fill=\"none\" stroke=\"black\"/>\n",
       "<polygon fill=\"black\" points=\"536.768,-202.515 526.329,-204.325 535.618,-209.42 536.768,-202.515\" stroke=\"black\"/>\n",
       "<text font-family=\"Times,serif\" font-size=\"14.00\" text-anchor=\"middle\" x=\"740.5\" y=\"-234.3\">3 TensorType(float32, scalar)</text>\n",
       "</g>\n",
       "<!-- TensorType(float32, matrix) id=7 -->\n",
       "<g class=\"node\" id=\"node7\"><title>TensorType(float32, matrix) id=7</title>\n",
       "<polygon fill=\"blue\" points=\"300,-36 98,-36 98,-0 300,-0 300,-36\" stroke=\"black\"/>\n",
       "<text font-family=\"Times,serif\" font-size=\"14.00\" text-anchor=\"middle\" x=\"199\" y=\"-14.3\">TensorType(float32, matrix) id=7</text>\n",
       "</g>\n",
       "<!-- Elemwise{Composite{((i0 + i0) &#45; (i1 * i0))}}[(0, 0)]&#45;&gt;TensorType(float32, matrix) id=7 -->\n",
       "<g class=\"edge\" id=\"edge7\"><title>Elemwise{Composite{((i0 + i0) - (i1 * i0))}}[(0, 0)]-&gt;TensorType(float32, matrix) id=7</title>\n",
       "<path d=\"M199,-87.5966C199,-75.7459 199,-59.8169 199,-46.2917\" fill=\"none\" stroke=\"black\"/>\n",
       "<polygon fill=\"black\" points=\"202.5,-46.084 199,-36.084 195.5,-46.084 202.5,-46.084\" stroke=\"black\"/>\n",
       "<text font-family=\"Times,serif\" font-size=\"14.00\" text-anchor=\"middle\" x=\"277.5\" y=\"-58.3\">TensorType(float32, matrix)</text>\n",
       "</g>\n",
       "</g>\n",
       "</svg>"
      ],
      "text/plain": [
       "<IPython.core.display.SVG object>"
      ]
     },
     "execution_count": 132,
     "metadata": {},
     "output_type": "execute_result"
    }
   ],
   "source": [
    "svgdotprint(nearly_zeros)"
   ]
  },
  {
   "cell_type": "code",
   "execution_count": 133,
   "metadata": {
    "collapsed": false
   },
   "outputs": [
    {
     "name": "stderr",
     "output_type": "stream",
     "text": [
      "/home/jch/scratch/speech/libs/Theano/theano/sandbox/rng_mrg.py:53: UserWarning: Warning, Cannot compute test value: input 0 (A) of Op <theano.sandbox.rng_mrg.DotModulo object at 0x7fce427b1f90>(A, s, m, A2, s2, m2) missing default value\n",
      "  o = DotModulo()(A_sym, s_sym, m_sym, A2_sym, s2_sym, m2_sym)\n",
      "/home/jch/scratch/speech/libs/Theano/theano/sandbox/rng_mrg.py:53: UserWarning: Warning, Cannot compute test value: input 1 (s) of Op <theano.sandbox.rng_mrg.DotModulo object at 0x7fce427b1f90>(A, s, m, A2, s2, m2) missing default value\n",
      "  o = DotModulo()(A_sym, s_sym, m_sym, A2_sym, s2_sym, m2_sym)\n",
      "/home/jch/scratch/speech/libs/Theano/theano/sandbox/rng_mrg.py:53: UserWarning: Warning, Cannot compute test value: input 2 (m) of Op <theano.sandbox.rng_mrg.DotModulo object at 0x7fce427b1f90>(A, s, m, A2, s2, m2) missing default value\n",
      "  o = DotModulo()(A_sym, s_sym, m_sym, A2_sym, s2_sym, m2_sym)\n",
      "/home/jch/scratch/speech/libs/Theano/theano/sandbox/rng_mrg.py:53: UserWarning: Warning, Cannot compute test value: input 3 (A2) of Op <theano.sandbox.rng_mrg.DotModulo object at 0x7fce427b1f90>(A, s, m, A2, s2, m2) missing default value\n",
      "  o = DotModulo()(A_sym, s_sym, m_sym, A2_sym, s2_sym, m2_sym)\n",
      "/home/jch/scratch/speech/libs/Theano/theano/sandbox/rng_mrg.py:53: UserWarning: Warning, Cannot compute test value: input 4 (s2) of Op <theano.sandbox.rng_mrg.DotModulo object at 0x7fce427b1f90>(A, s, m, A2, s2, m2) missing default value\n",
      "  o = DotModulo()(A_sym, s_sym, m_sym, A2_sym, s2_sym, m2_sym)\n",
      "/home/jch/scratch/speech/libs/Theano/theano/sandbox/rng_mrg.py:53: UserWarning: Warning, Cannot compute test value: input 5 (m2) of Op <theano.sandbox.rng_mrg.DotModulo object at 0x7fce427b1f90>(A, s, m, A2, s2, m2) missing default value\n",
      "  o = DotModulo()(A_sym, s_sym, m_sym, A2_sym, s2_sym, m2_sym)\n"
     ]
    }
   ],
   "source": [
    "# nieco szybsza implementacja liczb losowych\n",
    "\n",
    "from theano.sandbox.rng_mrg import MRG_RandomStreams as RandomStreams\n",
    "\n",
    "srng = RandomStreams(seed=234)\n",
    "rv_u = srng.uniform((2,2))\n",
    "\n",
    "f = theano.function([], rv_u)"
   ]
  },
  {
   "cell_type": "code",
   "execution_count": 142,
   "metadata": {
    "collapsed": false
   },
   "outputs": [
    {
     "data": {
      "text/plain": [
       "Shape: (2, 2)\n",
       "[[ 0.2188075   0.12655717]\n",
       " [ 0.1793364   0.93523318]]"
      ]
     },
     "execution_count": 142,
     "metadata": {},
     "output_type": "execute_result"
    }
   ],
   "source": [
    "f()"
   ]
  },
  {
   "cell_type": "markdown",
   "metadata": {},
   "source": [
    "## Pętle w Theano\n",
    "\n",
    "Na razie wszystkie wyrażenia które budowaliśmy w Theano zakładały wykonanie takiej samej ilości operacji. Operacja `scan` pozwala na włączanie w graf obliczeń pętli."
   ]
  },
  {
   "cell_type": "code",
   "execution_count": 143,
   "metadata": {
    "collapsed": false
   },
   "outputs": [
    {
     "name": "stdout",
     "output_type": "stream",
     "text": [
      "Help on function scan in module theano.scan_module.scan:\n",
      "\n",
      "scan(fn, sequences=None, outputs_info=None, non_sequences=None, n_steps=None, truncate_gradient=-1, go_backwards=False, mode=None, name=None, profile=False, allow_gc=None, strict=False)\n",
      "    This function constructs and applies a Scan op to the provided\n",
      "    arguments.\n",
      "    \n",
      "    :param fn:\n",
      "        ``fn`` is a function that describes the operations involved in one\n",
      "        step of ``scan``. ``fn`` should construct variables describing the\n",
      "        output of one iteration step. It should expect as input theano\n",
      "        variables representing all the slices of the input sequences\n",
      "        and previous values of the outputs, as well as all other arguments\n",
      "        given to scan as ``non_sequences``. The order in which scan passes\n",
      "        these variables to ``fn``  is the following :\n",
      "    \n",
      "        * all time slices of the first sequence\n",
      "        * all time slices of the second sequence\n",
      "        * ...\n",
      "        * all time slices of the last sequence\n",
      "        * all past slices of the first output\n",
      "        * all past slices of the second otuput\n",
      "        * ...\n",
      "        * all past slices of the last output\n",
      "        * all other arguments (the list given as `non_sequences` to\n",
      "            scan)\n",
      "    \n",
      "        The order of the sequences is the same as the one in the list\n",
      "        `sequences` given to scan. The order of the outputs is the same\n",
      "        as the order of ``outputs_info``. For any sequence or output the\n",
      "        order of the time slices is the same as the one in which they have\n",
      "        been given as taps. For example if one writes the following :\n",
      "    \n",
      "        .. code-block:: python\n",
      "    \n",
      "            scan(fn, sequences = [ dict(input= Sequence1, taps = [-3,2,-1])\n",
      "                                 , Sequence2\n",
      "                                 , dict(input =  Sequence3, taps = 3) ]\n",
      "                   , outputs_info = [ dict(initial =  Output1, taps = [-3,-5])\n",
      "                                    , dict(initial = Output2, taps = None)\n",
      "                                    , Output3 ]\n",
      "                   , non_sequences = [ Argument1, Argument2])\n",
      "    \n",
      "        ``fn`` should expect the following arguments in this given order:\n",
      "    \n",
      "        #. ``Sequence1[t-3]``\n",
      "        #. ``Sequence1[t+2]``\n",
      "        #. ``Sequence1[t-1]``\n",
      "        #. ``Sequence2[t]``\n",
      "        #. ``Sequence3[t+3]``\n",
      "        #. ``Output1[t-3]``\n",
      "        #. ``Output1[t-5]``\n",
      "        #. ``Output3[t-1]``\n",
      "        #. ``Argument1``\n",
      "        #. ``Argument2``\n",
      "    \n",
      "        The list of ``non_sequences`` can also contain shared variables\n",
      "        used in the function, though ``scan`` is able to figure those\n",
      "        out on its own so they can be skipped. For the clarity of the\n",
      "        code we recommend though to provide them to scan. To some extend\n",
      "        ``scan`` can also figure out other ``non sequences`` (not shared)\n",
      "        even if not passed to scan (but used by `fn`). A simple example of\n",
      "        this would be :\n",
      "    \n",
      "        .. code-block:: python\n",
      "    \n",
      "            import theano.tensor as TT\n",
      "            W   = TT.matrix()\n",
      "            W_2 = W**2\n",
      "            def f(x):\n",
      "                return TT.dot(x,W_2)\n",
      "    \n",
      "        The function is expected to return two things. One is a list of\n",
      "        outputs ordered in the same order as ``outputs_info``, with the\n",
      "        difference that there should be only one output variable per\n",
      "        output initial state (even if no tap value is used). Secondly\n",
      "        `fn` should return an update dictionary (that tells how to\n",
      "        update any shared variable after each iteration step). The\n",
      "        dictionary can optionally be given as a list of tuples. There is\n",
      "        no constraint on the order of these two list, ``fn`` can return\n",
      "        either ``(outputs_list, update_dictionary)`` or\n",
      "        ``(update_dictionary, outputs_list)`` or just one of the two (in\n",
      "        case the other is empty).\n",
      "    \n",
      "        To use ``scan`` as a while loop, the user needs to change the\n",
      "        function ``fn`` such that also a stopping condition is returned.\n",
      "        To do so, he/she needs to wrap the condition in an ``until`` class.\n",
      "        The condition should be returned as a third element, for example:\n",
      "    \n",
      "        .. code-block:: python\n",
      "    \n",
      "            ...\n",
      "            return [y1_t, y2_t], {x:x+1}, theano.scan_module.until(x < 50)\n",
      "    \n",
      "        Note that a number of steps (considered in here as the maximum\n",
      "        number of steps ) is still required even though a condition is\n",
      "        passed (and it is used to allocate memory if needed). = {}):\n",
      "    \n",
      "    :param sequences:\n",
      "        ``sequences`` is the list of Theano variables or dictionaries\n",
      "        describing the sequences ``scan`` has to iterate over. If a\n",
      "        sequence is given as wrapped in a dictionary, then a set of optional\n",
      "        information can be provided about the sequence. The dictionary\n",
      "        should have the following keys:\n",
      "    \n",
      "        * ``input`` (*mandatory*) -- Theano variable representing the\n",
      "          sequence.\n",
      "    \n",
      "        * ``taps`` -- Temporal taps of the sequence required by ``fn``.\n",
      "          They are provided as a list of integers, where a value ``k``\n",
      "          impiles that at iteration step ``t`` scan will pass to ``fn``\n",
      "          the slice ``t+k``. Default value is ``[0]``\n",
      "    \n",
      "        Any Theano variable in the list ``sequences`` is automatically\n",
      "        wrapped into a dictionary where ``taps`` is set to ``[0]``\n",
      "    \n",
      "    \n",
      "    :param outputs_info:\n",
      "        ``outputs_info`` is the list of Theano variables or dictionaries\n",
      "        describing the initial state of the outputs computed\n",
      "        recurrently. When this initial states are given as dictionary\n",
      "        optional information can be provided about the output corresponding\n",
      "        to these initial states. The dictionary should have the following\n",
      "        keys:\n",
      "    \n",
      "        * ``initial`` -- Theano variable that represents the initial\n",
      "          state of a given output. In case the output is not computed\n",
      "          recursively (think of a map) and does not require an initial\n",
      "          state this field can be skipped. Given that (only) the previous\n",
      "          time step of the output is used by ``fn``, the initial state\n",
      "          **should have the same shape** as the output and **should not\n",
      "          involve a downcast** of the data type of the output. If multiple\n",
      "          time taps are used, the initial state should have one extra\n",
      "          dimension that should cover all the possible taps. For example\n",
      "          if we use ``-5``, ``-2`` and ``-1`` as past taps, at step 0,\n",
      "          ``fn`` will require (by an abuse of notation) ``output[-5]``,\n",
      "          ``output[-2]`` and ``output[-1]``. This will be given by\n",
      "          the initial state, which in this case should have the shape\n",
      "          (5,)+output.shape. If this variable containing the initial\n",
      "          state is called ``init_y`` then ``init_y[0]`` *corresponds to*\n",
      "          ``output[-5]``. ``init_y[1]`` *correponds to* ``output[-4]``,\n",
      "          ``init_y[2]`` corresponds to ``output[-3]``, ``init_y[3]``\n",
      "          coresponds to ``output[-2]``, ``init_y[4]`` corresponds to\n",
      "          ``output[-1]``. While this order might seem strange, it comes\n",
      "          natural from splitting an array at a given point. Assume that\n",
      "          we have a array ``x``, and we choose ``k`` to be time step\n",
      "          ``0``. Then our initial state would be ``x[:k]``, while the\n",
      "          output will be ``x[k:]``. Looking at this split, elements in\n",
      "          ``x[:k]`` are ordered exactly like those in ``init_y``.\n",
      "        * ``taps`` -- Temporal taps of the output that will be pass to\n",
      "          ``fn``. They are provided as a list of *negative* integers,\n",
      "          where a value ``k`` implies that at iteration step ``t`` scan\n",
      "          will pass to ``fn`` the slice ``t+k``.\n",
      "    \n",
      "        ``scan`` will follow this logic if partial information is given:\n",
      "    \n",
      "        * If an output is not wrapped in a dictionary, ``scan`` will wrap\n",
      "          it in one assuming that you use only the last step of the output\n",
      "          (i.e. it makes your tap value list equal to [-1]).\n",
      "        * If you wrap an output in a dictionary and you do not provide any\n",
      "          taps but you provide an initial state it will assume that you are\n",
      "          using only a tap value of -1.\n",
      "        * If you wrap an output in a dictionary but you do not provide any\n",
      "          initial state, it assumes that you are not using any form of\n",
      "          taps.\n",
      "        * If you provide a ``None`` instead of a variable or a empty\n",
      "          dictionary ``scan`` assumes that you will not use any taps for\n",
      "          this output (like for example in case of a map)\n",
      "    \n",
      "        If ``outputs_info`` is an empty list or None, ``scan`` assumes\n",
      "        that no tap is used for any of the outputs. If information is\n",
      "        provided just for a subset of the outputs an exception is\n",
      "        raised (because there is no convention on how scan should map\n",
      "        the provided information to the outputs of ``fn``)\n",
      "    \n",
      "    \n",
      "    :param non_sequences:\n",
      "        ``non_sequences`` is the list of arguments that are passed to\n",
      "        ``fn`` at each steps. One can opt to exclude variable\n",
      "        used in ``fn`` from this list as long as they are part of the\n",
      "        computational graph, though for clarity we encourage not to do so.\n",
      "    \n",
      "    \n",
      "    :param n_steps:\n",
      "        ``n_steps`` is the number of steps to iterate given as an int\n",
      "        or Theano scalar. If any of the input sequences do not have\n",
      "        enough elements, scan will raise an error. If the *value is 0* the\n",
      "        outputs will have *0 rows*. If the value is negative, ``scan``\n",
      "        will run backwards in time. If the ``go_backwards`` flag is already\n",
      "        set and also ``n_steps`` is negative, ``scan`` will run forward\n",
      "        in time. If n_steps is not provided, ``scan`` will figure\n",
      "        out the amount of steps it should run given its input sequences.\n",
      "    \n",
      "    \n",
      "    :param truncate_gradient:\n",
      "        ``truncate_gradient`` is the number of steps to use in truncated\n",
      "        BPTT.  If you compute gradients through a scan op, they are\n",
      "        computed using backpropagation through time. By providing a\n",
      "        different value then -1, you choose to use truncated BPTT instead\n",
      "        of classical BPTT, where you go for only ``truncate_gradient``\n",
      "        number of steps back in time.\n",
      "    \n",
      "    \n",
      "    :param go_backwards:\n",
      "        ``go_backwards`` is a flag indicating if ``scan`` should go\n",
      "        backwards through the sequences. If you think of each sequence\n",
      "        as indexed by time, making this flag True would mean that\n",
      "        ``scan`` goes back in time, namely that for any sequence it\n",
      "        starts from the end and goes towards 0.\n",
      "    \n",
      "    \n",
      "    :param name:\n",
      "        When profiling ``scan``, it is crucial to provide a name for any\n",
      "        instance of ``scan``. The profiler will produce an overall\n",
      "        profile of your code as well as profiles for the computation of\n",
      "        one step of each instance of ``scan``. The ``name`` of the instance\n",
      "        appears in those profiles and can greatly help to disambiguate\n",
      "        information.\n",
      "    \n",
      "    :param mode:\n",
      "        It is recommended to leave this argument to None, especially\n",
      "        when profiling ``scan`` (otherwise the results are not going to\n",
      "        be accurate). If you prefer the computations of one step of\n",
      "        ``scan`` to be done differently then the entire function, you\n",
      "        can use this parameter to describe how the computations in this\n",
      "        loop are done (see ``theano.function`` for details about\n",
      "        possible values and their meaning).\n",
      "    \n",
      "    :param profile:\n",
      "        Flag or string. If true, or different from the empty string, a\n",
      "        profile object will be created and attached to the inner graph of\n",
      "        scan. In case ``profile`` is True, the profile object will have the\n",
      "        name of the scan instance, otherwise it will have the passed string.\n",
      "        Profile object collect (and print) information only when running the\n",
      "        inner graph with the new cvm linker ( with default modes,\n",
      "        other linkers this argument is useless)\n",
      "    \n",
      "    :param allow_gc:\n",
      "        Set the value of allow gc for the internal graph of scan.  If\n",
      "        set to None, this will use the value of config.scan.allow_gc.\n",
      "    \n",
      "    :param strict:\n",
      "        If true, all the shared variables used in ``fn`` must be provided as a\n",
      "        part of ``non_sequences`` or ``sequences``. \n",
      "    \n",
      "    :rtype: tuple\n",
      "    :return: tuple of the form (outputs, updates); ``outputs`` is either a\n",
      "             Theano variable or a list of Theano variables representing the\n",
      "             outputs of ``scan`` (in the same order as in\n",
      "             ``outputs_info``). ``updates`` is a subclass of dictionary\n",
      "             specifying the\n",
      "             update rules for all shared variables used in scan\n",
      "             This dictionary should be passed to ``theano.function`` when\n",
      "             you compile your function. The change compared to a normal\n",
      "             dictionary is that we validate that keys are SharedVariable\n",
      "             and addition of those dictionary are validated to be consistent.\n",
      "\n"
     ]
    }
   ],
   "source": [
    "help(theano.scan)"
   ]
  },
  {
   "cell_type": "code",
   "execution_count": 144,
   "metadata": {
    "collapsed": false
   },
   "outputs": [
    {
     "name": "stdout",
     "output_type": "stream",
     "text": [
      "19.0\n"
     ]
    },
    {
     "name": "stderr",
     "output_type": "stream",
     "text": [
      "/home/jch/scratch/speech/libs/Theano/theano/gof/cmodule.py:294: RuntimeWarning: numpy.ndarray size changed, may indicate binary incompatibility\n",
      "  rval = __import__(module_name, {}, {}, [module_name])\n"
     ]
    }
   ],
   "source": [
    "theano.config.compute_test_value = 'off' #wyłaczamy\n",
    "\n",
    "\n",
    "## Obliczanie wartości wielomianu - za http://deeplearning.net/software/theano/tutorial/loop.html\n",
    "coefficients = TT.vector(\"coefficients\")\n",
    "x = TT.scalar(\"x\")\n",
    "max_coefficients_supported = 10000\n",
    "\n",
    "# Generate the components of the polynomial\n",
    "full_range = TT.arange(max_coefficients_supported)\n",
    "components, updates = theano.scan(fn=lambda coeff, power, free_var:\n",
    "                                  coeff * (free_var ** power),\n",
    "                                  sequences=[coefficients, full_range],\n",
    "                                  outputs_info=None,\n",
    "                                  non_sequences=x)\n",
    "polynomial = components.sum()\n",
    "calculate_polynomial1 = theano.function(inputs=[coefficients, x],\n",
    "                                        outputs=polynomial)\n",
    "\n",
    "test_coeff = numpy.asarray([1, 0, 2], dtype=numpy.float32)\n",
    "print(calculate_polynomial1(test_coeff, 3))"
   ]
  },
  {
   "cell_type": "code",
   "execution_count": null,
   "metadata": {
    "collapsed": true
   },
   "outputs": [],
   "source": []
  },
  {
   "cell_type": "code",
   "execution_count": 145,
   "metadata": {
    "collapsed": false
   },
   "outputs": [
    {
     "name": "stdout",
     "output_type": "stream",
     "text": [
      "19.0\n"
     ]
    }
   ],
   "source": [
    "coefficients = TT.vector(\"coefficients\")\n",
    "x = TT.scalar(\"x\")\n",
    "max_coefficients_supported = 10000\n",
    "\n",
    "# Generate the components of the polynomial\n",
    "full_range = TT.arange(max_coefficients_supported)\n",
    "\n",
    "\n",
    "outputs_info = TT.as_tensor_variable(numpy.asarray(0, 'float64'))\n",
    "\n",
    "components, updates = theano.scan(fn=lambda coeff, power, prior_value, free_var:\n",
    "                                  prior_value + (coeff * (free_var ** power)),\n",
    "                                  sequences=[coefficients, full_range],\n",
    "                                  outputs_info=outputs_info,\n",
    "                                  non_sequences=x)\n",
    "\n",
    "polynomial = components[-1]\n",
    "calculate_polynomial = theano.function(inputs=[coefficients, x],\n",
    "                                       outputs=polynomial, updates=updates)\n",
    "\n",
    "test_coeff = numpy.asarray([1, 0, 2], dtype=numpy.float32)\n",
    "print(calculate_polynomial(test_coeff, 3))"
   ]
  },
  {
   "cell_type": "code",
   "execution_count": null,
   "metadata": {
    "collapsed": true
   },
   "outputs": [],
   "source": []
  }
 ],
 "metadata": {
  "kernelspec": {
   "display_name": "Python 2",
   "language": "python",
   "name": "python2"
  },
  "language_info": {
   "codemirror_mode": {
    "name": "ipython",
    "version": 2
   },
   "file_extension": ".py",
   "mimetype": "text/x-python",
   "name": "python",
   "nbconvert_exporter": "python",
   "pygments_lexer": "ipython2",
   "version": "2.7.10"
  }
 },
 "nbformat": 4,
 "nbformat_minor": 0
}
